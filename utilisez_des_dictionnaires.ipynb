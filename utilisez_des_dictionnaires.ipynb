{
  "nbformat": 4,
  "nbformat_minor": 0,
  "metadata": {
    "colab": {
      "name": "utilisez-des-dictionnaires.ipynb",
      "provenance": [],
      "authorship_tag": "ABX9TyMjUXc9iPjummHA46Ext8lz",
      "include_colab_link": true
    },
    "kernelspec": {
      "name": "python3",
      "display_name": "Python 3"
    }
  },
  "cells": [
    {
      "cell_type": "markdown",
      "metadata": {
        "id": "view-in-github",
        "colab_type": "text"
      },
      "source": [
        "<a href=\"https://colab.research.google.com/github/neohack22/Software_Engineering/blob/apprenez-a-programmer-en-python/utilisez_des_dictionnaires.ipynb\" target=\"_parent\"><img src=\"https://colab.research.google.com/assets/colab-badge.svg\" alt=\"Open In Colab\"/></a>"
      ]
    },
    {
      "cell_type": "markdown",
      "metadata": {
        "id": "0w829VlzoHfG",
        "colab_type": "text"
      },
      "source": [
        "# Utilisez des dictionnaires"
      ]
    },
    {
      "cell_type": "markdown",
      "metadata": {
        "id": "ohddo_qP-xfP",
        "colab_type": "text"
      },
      "source": [
        "Un dictionnaire est un objet conteneur associant des clés à des valeurs."
      ]
    },
    {
      "cell_type": "markdown",
      "metadata": {
        "id": "z0qIfyhkpRWD",
        "colab_type": "text"
      },
      "source": [
        "## Création et édition de dictionnaires"
      ]
    },
    {
      "cell_type": "markdown",
      "metadata": {
        "id": "5BFsFnS5plAs",
        "colab_type": "text"
      },
      "source": [
        "### Créer un dictionnaire"
      ]
    },
    {
      "cell_type": "markdown",
      "metadata": {
        "id": "0QQH2L3Q-4kZ",
        "colab_type": "text"
      },
      "source": [
        "Pour créer un dictionnaire, on utilise la syntaxe ```dictionnaire = {cle1:valeur1, cle2:valeur2, cleN:valeurN}.```"
      ]
    },
    {
      "cell_type": "code",
      "metadata": {
        "id": "yz7icccFoAdW",
        "colab_type": "code",
        "outputId": "a1c50547-0dc8-417d-f4e3-6b36bca67282",
        "colab": {
          "base_uri": "https://localhost:8080/",
          "height": 34
        }
      },
      "source": [
        "mon_dictionnaire = dict()\n",
        "type(mon_dictionnaire)"
      ],
      "execution_count": 0,
      "outputs": [
        {
          "output_type": "execute_result",
          "data": {
            "text/plain": [
              "dict"
            ]
          },
          "metadata": {
            "tags": []
          },
          "execution_count": 1
        }
      ]
    },
    {
      "cell_type": "code",
      "metadata": {
        "id": "PQKyaOOfptmH",
        "colab_type": "code",
        "outputId": "946ae39c-26e4-4ce7-b3ee-35a37cbf7eda",
        "colab": {
          "base_uri": "https://localhost:8080/",
          "height": 34
        }
      },
      "source": [
        "mon_dictionnaire"
      ],
      "execution_count": 0,
      "outputs": [
        {
          "output_type": "execute_result",
          "data": {
            "text/plain": [
              "{}"
            ]
          },
          "metadata": {
            "tags": []
          },
          "execution_count": 2
        }
      ]
    },
    {
      "cell_type": "code",
      "metadata": {
        "id": "7HWlN1rIp3eW",
        "colab_type": "code",
        "outputId": "ec9c4309-76ae-4a9c-9440-66816fc0081b",
        "colab": {
          "base_uri": "https://localhost:8080/",
          "height": 34
        }
      },
      "source": [
        "# Du coup, vous devriez trouver la 2e manière de créer un dictionnaire vide\n",
        "mon_dictionnaire = {}\n",
        "mon_dictionnaire"
      ],
      "execution_count": 0,
      "outputs": [
        {
          "output_type": "execute_result",
          "data": {
            "text/plain": [
              "{}"
            ]
          },
          "metadata": {
            "tags": []
          },
          "execution_count": 3
        }
      ]
    },
    {
      "cell_type": "markdown",
      "metadata": {
        "id": "5nX6_zbI_Urf",
        "colab_type": "text"
      },
      "source": [
        "On peut ajouter ou remplacer un élément dans un dictionnaire : ```dictionnaire[cle] = valeur.```"
      ]
    },
    {
      "cell_type": "code",
      "metadata": {
        "id": "ilUTbyiyqI0_",
        "colab_type": "code",
        "outputId": "6b285168-f910-4474-ac92-d0cbe815a2c4",
        "colab": {
          "base_uri": "https://localhost:8080/",
          "height": 34
        }
      },
      "source": [
        "mon_dictionnaire = {}\n",
        "mon_dictionnaire[\"pseudo\"] = \"Prolixe\"\n",
        "mon_dictionnaire[\"mot de passe\"] = \"*\"\n",
        "mon_dictionnaire"
      ],
      "execution_count": 0,
      "outputs": [
        {
          "output_type": "execute_result",
          "data": {
            "text/plain": [
              "{'mot de passe': '*', 'pseudo': 'Prolixe'}"
            ]
          },
          "metadata": {
            "tags": []
          },
          "execution_count": 4
        }
      ]
    },
    {
      "cell_type": "code",
      "metadata": {
        "id": "-rAMoP35qf-u",
        "colab_type": "code",
        "outputId": "2b47c8e2-2a5d-41f7-de0a-db9fe7b7dccd",
        "colab": {
          "base_uri": "https://localhost:8080/",
          "height": 34
        }
      },
      "source": [
        "mon_dictionnaire = {}\n",
        "mon_dictionnaire[\"pseudo\"] = \"Prolixe\"\n",
        "mon_dictionnaire[\"mot de passe\"] = \"*\"\n",
        "mon_dictionnaire[\"pseudo\"] = \"6pri1\"\n",
        "mon_dictionnaire"
      ],
      "execution_count": 0,
      "outputs": [
        {
          "output_type": "execute_result",
          "data": {
            "text/plain": [
              "{'mot de passe': '*', 'pseudo': '6pri1'}"
            ]
          },
          "metadata": {
            "tags": []
          },
          "execution_count": 5
        }
      ]
    },
    {
      "cell_type": "code",
      "metadata": {
        "id": "cglQfqjXrRSg",
        "colab_type": "code",
        "outputId": "d81a43f5-eae6-4a62-c6ea-d0ef5b47738d",
        "colab": {
          "base_uri": "https://localhost:8080/",
          "height": 34
        }
      },
      "source": [
        "mon_dictionnaire[\"mot de passe\"]"
      ],
      "execution_count": 0,
      "outputs": [
        {
          "output_type": "execute_result",
          "data": {
            "text/plain": [
              "'*'"
            ]
          },
          "metadata": {
            "tags": []
          },
          "execution_count": 6
        }
      ]
    },
    {
      "cell_type": "code",
      "metadata": {
        "id": "aXTrpDEMsHfK",
        "colab_type": "code",
        "outputId": "88843adc-4f95-4532-93e5-724627fd9bce",
        "colab": {
          "base_uri": "https://localhost:8080/",
          "height": 34
        }
      },
      "source": [
        "mon_dictionnaire = {}\n",
        "mon_dictionnaire[0] = \"a\"\n",
        "mon_dictionnaire[1] = \"e\"\n",
        "mon_dictionnaire[2] = \"i\"\n",
        "mon_dictionnaire[3] = \"o\"\n",
        "mon_dictionnaire[4] = \"u\"\n",
        "mon_dictionnaire[5] = \"y\"\n",
        "mon_dictionnaire"
      ],
      "execution_count": 0,
      "outputs": [
        {
          "output_type": "execute_result",
          "data": {
            "text/plain": [
              "{0: 'a', 1: 'e', 2: 'i', 3: 'o', 4: 'u', 5: 'y'}"
            ]
          },
          "metadata": {
            "tags": []
          },
          "execution_count": 7
        }
      ]
    },
    {
      "cell_type": "code",
      "metadata": {
        "id": "94jPtn0Cstk-",
        "colab_type": "code",
        "colab": {}
      },
      "source": [
        "echiquier = {}\n",
        "echiquier['a', 1] = \"tour blanche\" # En bas à gauche de l'échiquier\n",
        "echiquier['b', 1] = \"cavalier blanc\" # A droite de la tour\n",
        "echiquier['c', 1] = \"fou blanc\" # A droite du fou\n",
        "echiquier['d', 1] = \"reine blanche\" # A droite du fou\n",
        "# ... Premiere ligne des blancs\n",
        "echiquier['a', 2] = \"pion blanc\" # Devant la tour\n",
        "echiquier['b', 2] = \"pion blanc\" # Devant le cavalier, à droite du pion\n",
        "# ... Seconde ligne des blancs"
      ],
      "execution_count": 0,
      "outputs": []
    },
    {
      "cell_type": "code",
      "metadata": {
        "id": "A4zgSkOYuPD8",
        "colab_type": "code",
        "colab": {}
      },
      "source": [
        "placard = {\"chemise\":3, \"pantalon\":6, \"tee-shirt\":7}"
      ],
      "execution_count": 0,
      "outputs": []
    },
    {
      "cell_type": "code",
      "metadata": {
        "id": "W7co4-3ivKER",
        "colab_type": "code",
        "colab": {}
      },
      "source": [
        "# mon_set_iso_dictionnaire = {'pseudo', 'mot de passe'}"
      ],
      "execution_count": 0,
      "outputs": []
    },
    {
      "cell_type": "markdown",
      "metadata": {
        "id": "cZ6iZhh1v5Tx",
        "colab_type": "text"
      },
      "source": [
        "### Supprimer des clés d'un dictionnaire"
      ]
    },
    {
      "cell_type": "markdown",
      "metadata": {
        "id": "InHScEN4_hgE",
        "colab_type": "text"
      },
      "source": [
        "On peut supprimer une clé (et sa valeur correspondante) d'un dictionnaire en utilisant, au choix, le mot-clé ```del``` ou la méthode ```pop```."
      ]
    },
    {
      "cell_type": "code",
      "metadata": {
        "id": "UXWaxRl9vn00",
        "colab_type": "code",
        "outputId": "d3c4d8a8-674c-4f5f-d2e9-41ee17dbaea1",
        "colab": {
          "base_uri": "https://localhost:8080/",
          "height": 34
        }
      },
      "source": [
        "placard = {\"chemise\":3, \"pantalon\":6, \"tee shirt\":7}\n",
        "placard.pop(\"chemise\")"
      ],
      "execution_count": 0,
      "outputs": [
        {
          "output_type": "execute_result",
          "data": {
            "text/plain": [
              "3"
            ]
          },
          "metadata": {
            "tags": []
          },
          "execution_count": 11
        }
      ]
    },
    {
      "cell_type": "markdown",
      "metadata": {
        "id": "McGAIfqaw1j9",
        "colab_type": "text"
      },
      "source": [
        "### Un peu plus loin"
      ]
    },
    {
      "cell_type": "code",
      "metadata": {
        "id": "zc8adWqHwrNF",
        "colab_type": "code",
        "outputId": "05241c55-5b60-415b-d0cf-8009ac63d775",
        "colab": {
          "base_uri": "https://localhost:8080/",
          "height": 34
        }
      },
      "source": [
        "print_2 = print # L'objet print_2 pointera sur la fonction print\n",
        "print_2(\"Affichons un message\")"
      ],
      "execution_count": 0,
      "outputs": [
        {
          "output_type": "stream",
          "text": [
            "Affichons un message\n"
          ],
          "name": "stdout"
        }
      ]
    },
    {
      "cell_type": "code",
      "metadata": {
        "id": "Vji0u366yLQk",
        "colab_type": "code",
        "outputId": "f2d2db60-e44c-4007-e568-f3e8316c73b5",
        "colab": {
          "base_uri": "https://localhost:8080/",
          "height": 34
        }
      },
      "source": [
        "def fete():\n",
        "  print(\"C'est la fête.\")\n",
        "\n",
        "def oiseau():\n",
        "  print(\"Fais comme l'oiseau...\")\n",
        "\n",
        "fonctions = {}\n",
        "fonctions[\"fete\"] = fete # on ne met pas les parenthèses\n",
        "fonctions[\"oiseau\"] = oiseau\n",
        "fonctions[\"oiseau\"]"
      ],
      "execution_count": 0,
      "outputs": [
        {
          "output_type": "execute_result",
          "data": {
            "text/plain": [
              "<function __main__.oiseau>"
            ]
          },
          "metadata": {
            "tags": []
          },
          "execution_count": 13
        }
      ]
    },
    {
      "cell_type": "code",
      "metadata": {
        "id": "_aPI2Eq0zKNc",
        "colab_type": "code",
        "outputId": "4ff31034-0ae0-4ec4-918e-40e3bb1cc147",
        "colab": {
          "base_uri": "https://localhost:8080/",
          "height": 34
        }
      },
      "source": [
        "fonctions[\"oiseau\"]() # on essaye de l'appeler"
      ],
      "execution_count": 0,
      "outputs": [
        {
          "output_type": "stream",
          "text": [
            "Fais comme l'oiseau...\n"
          ],
          "name": "stdout"
        }
      ]
    },
    {
      "cell_type": "markdown",
      "metadata": {
        "id": "dZ-OJsLPzt7a",
        "colab_type": "text"
      },
      "source": [
        "## Les méthodes de parcours"
      ]
    },
    {
      "cell_type": "markdown",
      "metadata": {
        "id": "BwIQxIp0_0R1",
        "colab_type": "text"
      },
      "source": [
        "On peut parcourir un dictionnaire grâce aux méthodes ```keys``` (parcourt les clés),```values``` (parcourt les valeurs) ou ```items``` (parcourt les couples clé-valeur)."
      ]
    },
    {
      "cell_type": "markdown",
      "metadata": {
        "id": "JQfhmyrZz3si",
        "colab_type": "text"
      },
      "source": [
        "### Parcours des clés"
      ]
    },
    {
      "cell_type": "code",
      "metadata": {
        "id": "HGjK5OwQzTct",
        "colab_type": "code",
        "outputId": "c0a0be12-282c-4a40-a6c4-d36156383afa",
        "colab": {
          "base_uri": "https://localhost:8080/",
          "height": 67
        }
      },
      "source": [
        "fruits = {\"pommes\":21, \"melons\":3, \"poires\":31}\n",
        "for cle in fruits:\n",
        "  print(cle)"
      ],
      "execution_count": 0,
      "outputs": [
        {
          "output_type": "stream",
          "text": [
            "pommes\n",
            "melons\n",
            "poires\n"
          ],
          "name": "stdout"
        }
      ]
    },
    {
      "cell_type": "code",
      "metadata": {
        "id": "v4y5afhl0W2J",
        "colab_type": "code",
        "outputId": "b00244f7-ba51-4753-cc78-80b333b932b5",
        "colab": {
          "base_uri": "https://localhost:8080/",
          "height": 67
        }
      },
      "source": [
        "fruits ={\"pommes\":21, \"melons\":3, \"poires\":31}\n",
        "for cle in fruits.keys():\n",
        "  print(cle)"
      ],
      "execution_count": 0,
      "outputs": [
        {
          "output_type": "stream",
          "text": [
            "pommes\n",
            "melons\n",
            "poires\n"
          ],
          "name": "stdout"
        }
      ]
    },
    {
      "cell_type": "markdown",
      "metadata": {
        "id": "toYqn5PN1FXD",
        "colab_type": "text"
      },
      "source": [
        "### Parcours des valeurs"
      ]
    },
    {
      "cell_type": "code",
      "metadata": {
        "id": "iB3qfkhf0-h3",
        "colab_type": "code",
        "outputId": "7d5718f0-1f2b-49e2-e37c-bf4a15159922",
        "colab": {
          "base_uri": "https://localhost:8080/",
          "height": 67
        }
      },
      "source": [
        "fruits = {\"pommes\":21, \"melons\":3, \"poires\":31}\n",
        "for valeur in fruits.values():\n",
        "  print(valeur)"
      ],
      "execution_count": 0,
      "outputs": [
        {
          "output_type": "stream",
          "text": [
            "21\n",
            "3\n",
            "31\n"
          ],
          "name": "stdout"
        }
      ]
    },
    {
      "cell_type": "code",
      "metadata": {
        "id": "KqTQC0ut1ZQb",
        "colab_type": "code",
        "outputId": "70f50eaf-7c7f-4cb3-ead9-ed654bb9ef82",
        "colab": {
          "base_uri": "https://localhost:8080/",
          "height": 34
        }
      },
      "source": [
        "if 21 in fruits.values():\n",
        "  print(\"Un des fruits se trouve dans la quantité 21.\")"
      ],
      "execution_count": 0,
      "outputs": [
        {
          "output_type": "stream",
          "text": [
            "Un des fruits se trouve dans la quantité 21.\n"
          ],
          "name": "stdout"
        }
      ]
    },
    {
      "cell_type": "markdown",
      "metadata": {
        "id": "1mUvZV-h10zN",
        "colab_type": "text"
      },
      "source": [
        "### Parcours des clés et valeurs simultanément"
      ]
    },
    {
      "cell_type": "code",
      "metadata": {
        "id": "Dy4ACgh41wrE",
        "colab_type": "code",
        "outputId": "34510805-5df2-4d07-a6a2-cb45409b15bf",
        "colab": {
          "base_uri": "https://localhost:8080/",
          "height": 67
        }
      },
      "source": [
        "fruits = {\"pommes\":21, \"melons\":3, \"poires\":31}\n",
        "for cle, valeur in fruits.items():\n",
        "  print(\"La clé {} contient la valeur {}.\".format(cle, valeur))"
      ],
      "execution_count": 0,
      "outputs": [
        {
          "output_type": "stream",
          "text": [
            "La clé pommes contient la valeur 21.\n",
            "La clé melons contient la valeur 3.\n",
            "La clé poires contient la valeur 31.\n"
          ],
          "name": "stdout"
        }
      ]
    },
    {
      "cell_type": "markdown",
      "metadata": {
        "id": "3GcS_2Nb2s7M",
        "colab_type": "text"
      },
      "source": [
        "## Les dictionnaires et paramètres de fonction"
      ]
    },
    {
      "cell_type": "markdown",
      "metadata": {
        "id": "Y1glojtPAXie",
        "colab_type": "text"
      },
      "source": [
        "On peut capturer les paramètres nommés passés à une fonction en utilisant cette syntaxe : ```def fonction_inconnue(**parametres_nommes)```: (les paramètres nommés se retrouvent dans le dictionnaire ```parametres_nommes```)."
      ]
    },
    {
      "cell_type": "markdown",
      "metadata": {
        "id": "fiTPYcn822Xk",
        "colab_type": "text"
      },
      "source": [
        "### Récupérer les paramètres nommés dans un dictionnaire"
      ]
    },
    {
      "cell_type": "markdown",
      "metadata": {
        "id": "9AEFzUmy4Yb_",
        "colab_type": "text"
      },
      "source": [
        "> #### *SyntaxError: EOL while scanning string*\n",
        "\n"
      ]
    },
    {
      "cell_type": "code",
      "metadata": {
        "id": "NjcUAbCC2hfB",
        "colab_type": "code",
        "outputId": "e751a871-618d-4300-f1ce-82d4d0f5e6cc",
        "colab": {
          "base_uri": "https://localhost:8080/",
          "height": 128
        }
      },
      "source": [
        "def fonction_inconnue(**parametres_nommes):\n",
        "  \"\"\"Fonction permettant de voir comment récupérer les paramètres nommés\n",
        "  dans un dictionnaire\"\"\"\n",
        "\n",
        "  print(\"J'ai reçu en paramètres nommés :\n",
        "  {}.\".format(parametres_nommes))\n",
        "\n",
        "fonction_inconnue() # Aucun paramètre"
      ],
      "execution_count": 0,
      "outputs": [
        {
          "output_type": "error",
          "ename": "SyntaxError",
          "evalue": "ignored",
          "traceback": [
            "\u001b[0;36m  File \u001b[0;32m\"<ipython-input-20-dcd163837cc3>\"\u001b[0;36m, line \u001b[0;32m5\u001b[0m\n\u001b[0;31m    print(\"J'ai reçu en paramètres nommés :\u001b[0m\n\u001b[0m                                           ^\u001b[0m\n\u001b[0;31mSyntaxError\u001b[0m\u001b[0;31m:\u001b[0m EOL while scanning string literal\n"
          ]
        }
      ]
    },
    {
      "cell_type": "markdown",
      "metadata": {
        "id": "ynN3939f4oS6",
        "colab_type": "text"
      },
      "source": [
        "> #### *End of SyntaxError*\n",
        "\n"
      ]
    },
    {
      "cell_type": "code",
      "metadata": {
        "id": "KNuM5oVG4LjG",
        "colab_type": "code",
        "outputId": "dcaa7656-3bf2-45fd-bbae-aff4abfed345",
        "colab": {
          "base_uri": "https://localhost:8080/",
          "height": 34
        }
      },
      "source": [
        "def fonction_inconnue(**parametres_nommes):\n",
        "  \"\"\"Fonction permettant de voir comment récupérer les paramètres nommés\n",
        "  dans un dictionnaire\"\"\"\n",
        "\n",
        "  print(\"J'ai reçu en paramètres nommés : {}.\".format(parametres_nommes))\n",
        "\n",
        "fonction_inconnue() # Aucun paramètre"
      ],
      "execution_count": 0,
      "outputs": [
        {
          "output_type": "stream",
          "text": [
            "J'ai reçu en paramètres nommés : {}.\n"
          ],
          "name": "stdout"
        }
      ]
    },
    {
      "cell_type": "code",
      "metadata": {
        "id": "beHdmZWh5zgX",
        "colab_type": "code",
        "outputId": "2436868e-8d88-4e2f-dfd1-649060c3c5df",
        "colab": {
          "base_uri": "https://localhost:8080/",
          "height": 34
        }
      },
      "source": [
        "fonction_inconnue(p=4, j=8)"
      ],
      "execution_count": 0,
      "outputs": [
        {
          "output_type": "stream",
          "text": [
            "J'ai reçu en paramètres nommés : {'p': 4, 'j': 8}.\n"
          ],
          "name": "stdout"
        }
      ]
    },
    {
      "cell_type": "code",
      "metadata": {
        "id": "7gWwzzRE551n",
        "colab_type": "code",
        "colab": {}
      },
      "source": [
        "# def fonction_inconnue(*en_liste, **en_dictionnaire):"
      ],
      "execution_count": 0,
      "outputs": []
    },
    {
      "cell_type": "markdown",
      "metadata": {
        "id": "aHohwDK46dAP",
        "colab_type": "text"
      },
      "source": [
        "### Transformer un dictionnaire en paramètres nommés d'une fonction"
      ]
    },
    {
      "cell_type": "code",
      "metadata": {
        "id": "3tJYlaC66f3N",
        "colab_type": "code",
        "outputId": "f57048d2-c3ba-49a8-99b3-b60b3e82f852",
        "colab": {
          "base_uri": "https://localhost:8080/",
          "height": 34
        }
      },
      "source": [
        "parametres = {\"sep\":\" >> \", \"end\":\" -\\n\"}\n",
        "print(\"Voici\", \"un\", \"exemple\", \"d'appel\", **parametres)"
      ],
      "execution_count": 0,
      "outputs": [
        {
          "output_type": "stream",
          "text": [
            "Voici >> un >> exemple >> d'appel -\n"
          ],
          "name": "stdout"
        }
      ]
    },
    {
      "cell_type": "markdown",
      "metadata": {
        "id": "ppVkCVog7aM9",
        "colab_type": "text"
      },
      "source": [
        "> #### *SyntaxError: unexpected character after line continuation character*\n",
        "\n"
      ]
    },
    {
      "cell_type": "code",
      "metadata": {
        "id": "f4jAUT-o61vz",
        "colab_type": "code",
        "outputId": "bb3c9ef7-0bc7-40cc-a91d-b7c6a3ce006d",
        "colab": {
          "base_uri": "https://localhost:8080/",
          "height": 128
        }
      },
      "source": [
        "print(\"Voici\", \"un\", \"exemple\", \"d'appel\", \"sep=\" >> \", end=\" -\\n\")"
      ],
      "execution_count": 0,
      "outputs": [
        {
          "output_type": "error",
          "ename": "SyntaxError",
          "evalue": "ignored",
          "traceback": [
            "\u001b[0;36m  File \u001b[0;32m\"<ipython-input-24-f9e72d8e808f>\"\u001b[0;36m, line \u001b[0;32m1\u001b[0m\n\u001b[0;31m    print(\"Voici\", \"un\", \"exemple\", \"d'appel\", \"sep=\" >> \", end=\" -\\n\")\u001b[0m\n\u001b[0m                                                                       ^\u001b[0m\n\u001b[0;31mSyntaxError\u001b[0m\u001b[0;31m:\u001b[0m unexpected character after line continuation character\n"
          ]
        }
      ]
    },
    {
      "cell_type": "markdown",
      "metadata": {
        "id": "alpu34Gj7mOy",
        "colab_type": "text"
      },
      "source": [
        "> #### *End of SyntaxError*\n",
        "\n"
      ]
    },
    {
      "cell_type": "code",
      "metadata": {
        "id": "NHqoHSk-7R2z",
        "colab_type": "code",
        "outputId": "a91ed76d-a7ac-4c19-e02e-14c7eb1d7ba3",
        "colab": {
          "base_uri": "https://localhost:8080/",
          "height": 34
        }
      },
      "source": [
        "print(\"Voici\", \"un\", \"exemple\", \"d'appel\", sep=\" >> \", end=\" -\\n\")"
      ],
      "execution_count": 0,
      "outputs": [
        {
          "output_type": "stream",
          "text": [
            "Voici >> un >> exemple >> d'appel -\n"
          ],
          "name": "stdout"
        }
      ]
    },
    {
      "cell_type": "markdown",
      "metadata": {
        "id": "ZChaf05LoU1O",
        "colab_type": "text"
      },
      "source": [
        "[Source](https://openclassrooms.com/fr/courses/235344-apprenez-a-programmer-en-python/232273-utilisez-des-dictionnaires)"
      ]
    }
  ]
}