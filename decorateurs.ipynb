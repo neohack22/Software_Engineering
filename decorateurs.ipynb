{
  "nbformat": 4,
  "nbformat_minor": 0,
  "metadata": {
    "colab": {
      "name": "decorateurs.ipynb",
      "provenance": [],
      "authorship_tag": "ABX9TyMtwqsMyKTTmU18IV8u+FCV",
      "include_colab_link": true
    },
    "kernelspec": {
      "name": "python3",
      "display_name": "Python 3"
    }
  },
  "cells": [
    {
      "cell_type": "markdown",
      "metadata": {
        "id": "view-in-github",
        "colab_type": "text"
      },
      "source": [
        "<a href=\"https://colab.research.google.com/github/neohack22/Software_Engineering/blob/apprenez-a-programmer-en-python/decorateurs.ipynb\" target=\"_parent\"><img src=\"https://colab.research.google.com/assets/colab-badge.svg\" alt=\"Open In Colab\"/></a>"
      ]
    },
    {
      "cell_type": "markdown",
      "metadata": {
        "id": "bucRom73S0J6",
        "colab_type": "text"
      },
      "source": [
        "# Appréhendez les décorateurs"
      ]
    },
    {
      "cell_type": "markdown",
      "metadata": {
        "id": "yaMzORJAoUxh",
        "colab_type": "text"
      },
      "source": [
        "Les décorateurs permettent de modifier le comportement d'une fonction."
      ]
    },
    {
      "cell_type": "markdown",
      "metadata": {
        "id": "KFtt9GJtTh2Y",
        "colab_type": "text"
      },
      "source": [
        "## En théorie"
      ]
    },
    {
      "cell_type": "markdown",
      "metadata": {
        "id": "8Gy1eGiuoYd5",
        "colab_type": "text"
      },
      "source": [
        "Ce sont eux-mêmes des fonctions, prenant en paramètre une fonction et renvoyant une fonction (qui peut être la même)."
      ]
    },
    {
      "cell_type": "markdown",
      "metadata": {
        "id": "07htiOmETpLx",
        "colab_type": "text"
      },
      "source": [
        "### Format le plus simple"
      ]
    },
    {
      "cell_type": "markdown",
      "metadata": {
        "id": "jCChIZLMobf0",
        "colab_type": "text"
      },
      "source": [
        "On peut déclarer une fonction comme décorée en plaçant, au-dessus de la ligne de sa définition, la ligne ```@nom_decorateur```."
      ]
    },
    {
      "cell_type": "markdown",
      "metadata": {
        "id": "rF2UrWEVTsNJ",
        "colab_type": "text"
      },
      "source": [
        "```py\n",
        "@nom_du_decorateur\n",
        "def ma_fonction(...)\n",
        "```"
      ]
    },
    {
      "cell_type": "code",
      "metadata": {
        "id": "tDbOidu1Sg6m",
        "colab_type": "code",
        "colab": {
          "base_uri": "https://localhost:8080/",
          "height": 54
        },
        "outputId": "e406dfcc-c8a1-4c5d-d823-ecbaa725db4e"
      },
      "source": [
        "def mon_decorateur(fonction):\n",
        "  \"\"\"Premier exemple de décorateur\"\"\"\n",
        "  print(\"Notre décorateur est appelé avec en paramètre la fonction {0}\"\\\n",
        "        .format(fonction))\n",
        "  return fonction\n",
        "\n",
        "@mon_decorateur\n",
        "def salut():\n",
        "  \"\"\"Fonction modifiée par notre décorateur\"\"\"\n",
        "  print(\"Salut !\")"
      ],
      "execution_count": 1,
      "outputs": [
        {
          "output_type": "stream",
          "text": [
            "Notre décorateur est appelé avec en paramètre la fonction <function salut at 0x7f872fe1c620>\n"
          ],
          "name": "stdout"
        }
      ]
    },
    {
      "cell_type": "markdown",
      "metadata": {
        "id": "bOMfqpJsU9-Q",
        "colab_type": "text"
      },
      "source": [
        "```py\n",
        "# Exemple avec décorateur\n",
        "@decorateur\n",
        "def fonction(...):\n",
        "  ...\n",
        "```"
      ]
    },
    {
      "cell_type": "markdown",
      "metadata": {
        "id": "cct51FtTVSJ5",
        "colab_type": "text"
      },
      "source": [
        "```py\n",
        "# Exemple équivalent, sans décorateur\n",
        "def fonction(...):\n",
        "  ...\n",
        "  \n",
        "fonction = decorateur(fonction)\n",
        "```"
      ]
    },
    {
      "cell_type": "markdown",
      "metadata": {
        "id": "OdIAE0KmWN8l",
        "colab_type": "text"
      },
      "source": [
        "### Modifier le comportement de notre fonction"
      ]
    },
    {
      "cell_type": "markdown",
      "metadata": {
        "id": "MD6_GQaMopbW",
        "colab_type": "text"
      },
      "source": [
        "Au moment de la définition de la fonction, le décorateur est appelé et la fonction qu'il renvoie sera celle utilisée."
      ]
    },
    {
      "cell_type": "code",
      "metadata": {
        "id": "mmuJmayGUqE3",
        "colab_type": "code",
        "colab": {}
      },
      "source": [
        "def mon_decorateur(fonction):\n",
        "  \"\"\"Notre décorateur : il va afficher un message avant l'appel de la fonction\n",
        "  définie\"\"\"\n",
        "\n",
        "  def fonction_modifiee():\n",
        "    \"\"\"Fonction que l'on va renvoyer.\n",
        "    Il s'agit en fait d'une version un peu modifiée de notre fonction \n",
        "    originellement définie.\n",
        "    On se contente d'afficher un avertissement avant d'exécuter notre fonction\n",
        "    originellement définie\"\"\"\n",
        "\n",
        "    print(\"Attention ! On appelle {0}\".format(fonction))\n",
        "    return fonction()\n",
        "  return fonction_modifiee\n",
        "\n",
        "@mon_decorateur\n",
        "def salut():\n",
        "  print(\"Salut !\")"
      ],
      "execution_count": 0,
      "outputs": []
    },
    {
      "cell_type": "code",
      "metadata": {
        "id": "1BpYevzpXdJO",
        "colab_type": "code",
        "colab": {
          "base_uri": "https://localhost:8080/",
          "height": 50
        },
        "outputId": "828c5e11-4b62-43be-ee3b-926010561c37"
      },
      "source": [
        "salut()"
      ],
      "execution_count": 3,
      "outputs": [
        {
          "output_type": "stream",
          "text": [
            "Attention ! On appelle <function salut at 0x7f872fe1c598>\n",
            "Salut !\n"
          ],
          "name": "stdout"
        }
      ]
    },
    {
      "cell_type": "code",
      "metadata": {
        "id": "HpmpCMn3Xhi7",
        "colab_type": "code",
        "colab": {
          "base_uri": "https://localhost:8080/",
          "height": 34
        },
        "outputId": "c43ef8b2-2ed2-4a4e-bbbc-1b741c86ca61"
      },
      "source": [
        "salut"
      ],
      "execution_count": 4,
      "outputs": [
        {
          "output_type": "execute_result",
          "data": {
            "text/plain": [
              "<function __main__.mon_decorateur.<locals>.fonction_modifiee>"
            ]
          },
          "metadata": {
            "tags": []
          },
          "execution_count": 4
        }
      ]
    },
    {
      "cell_type": "markdown",
      "metadata": {
        "id": "KWgKjJefdxpG",
        "colab_type": "text"
      },
      "source": [
        "```py\n",
        "@mon_decorateur\n",
        "def salut():\n",
        "  ...\n",
        "```"
      ]
    },
    {
      "cell_type": "markdown",
      "metadata": {
        "id": "_XCybUUoeDId",
        "colab_type": "text"
      },
      "source": [
        "```py\n",
        "def salut():\n",
        "  ...\n",
        "\n",
        "salut = mon_decorateur(salut)\n",
        "```"
      ]
    },
    {
      "cell_type": "code",
      "metadata": {
        "id": "Man8v5FTXk9y",
        "colab_type": "code",
        "colab": {}
      },
      "source": [
        "def obsolete(fonction_origine):\n",
        "  \"\"\"Décorateur levant une exception pour noter que la fonction_origine est \n",
        "  obsolète\"\"\"\n",
        "\n",
        "  def fonction_modifiee():\n",
        "    raise RuntimeError(\"la fonction {0} est obsolète !\"\\\n",
        "                       .format(fonction_origine))\n",
        "    return fonction_modifiee"
      ],
      "execution_count": 0,
      "outputs": []
    },
    {
      "cell_type": "markdown",
      "metadata": {
        "id": "aH-xGhtKfYiS",
        "colab_type": "text"
      },
      "source": [
        "### Un décorateur avec des paramètres"
      ]
    },
    {
      "cell_type": "markdown",
      "metadata": {
        "id": "CTNeLZOGovXw",
        "colab_type": "text"
      },
      "source": [
        "Les décorateurs peuvent également prendre des paramètres pour influer sur le comportement de la fonction décorée."
      ]
    },
    {
      "cell_type": "code",
      "metadata": {
        "id": "45vk4naJfQpf",
        "colab_type": "code",
        "colab": {}
      },
      "source": [
        "@controler_temps(2.5) # 2,5 secondes maximum ^pour la fonction ci-dessous"
      ],
      "execution_count": 0,
      "outputs": []
    },
    {
      "cell_type": "markdown",
      "metadata": {
        "id": "Eppt_5ZqgENT",
        "colab_type": "text"
      },
      "source": [
        "```py\n",
        "@decorateur\n",
        "def fonction(...):\n",
        "  ...\n",
        "```"
      ]
    },
    {
      "cell_type": "markdown",
      "metadata": {
        "id": "Gne2XQLGgvXM",
        "colab_type": "text"
      },
      "source": [
        "```py\n",
        "def fonction(...):\n",
        "  ...\n",
        "\n",
        "fonction = decorateur(fonction)\n",
        "```"
      ]
    },
    {
      "cell_type": "markdown",
      "metadata": {
        "id": "daD9HH-whMSS",
        "colab_type": "text"
      },
      "source": [
        "```py\n",
        "@decorateur(parametre)\n",
        "def fonction(...):\n",
        "  ...\n",
        "```"
      ]
    },
    {
      "cell_type": "markdown",
      "metadata": {
        "id": "cGNwlMKdhpfz",
        "colab_type": "text"
      },
      "source": [
        "```py\n",
        "def fonction(...):\n",
        "  ...\n",
        "\n",
        "fonction = decorateur(parametre)(fonction)\n",
        "```"
      ]
    },
    {
      "cell_type": "code",
      "metadata": {
        "id": "X2PYjdw3iAPj",
        "colab_type": "code",
        "colab": {}
      },
      "source": [
        "\"\"\"Pour gérer le temps, on importe le module time\n",
        "On va utiliser surtout la fonction time() de ce module qui renvoie le nombre de\n",
        "secondes écoulées depuis le 1er janvier 1970 (habituellement).\n",
        "On va s'en servir pour calculer le temps mis par notre fonction pour \n",
        "s'exécuter\"\"\"\n",
        "\n",
        "import time\n",
        "\n",
        "def controler_temps(nb_secs):\n",
        "  \"\"\"Contrôle le temps mis par une fonction pour s'exécuter.\n",
        "  Si le temps d'exécution est supérieur à nb_secs, on affiche une alerte\"\"\"\n",
        "\n",
        "  def decorateur(fonction_a_executer):\n",
        "    \"\"\"Notre décorateur.\n",
        "    C'est lui qui est appelé directement LORS DE LA DEFINITION de notre fonction\n",
        "    (fonction_a_executer)\"\"\"\n",
        "\n",
        "    def fonction_modifiee():\n",
        "      \"\"\"Fonction renvoyée par notre décorateur.\n",
        "      Elle se charge de calculer le temps mis par la fonction à s'exécuter\"\"\"\n",
        "\n",
        "      tps_avant = time.time() # Avant d'exécuter la fonction\n",
        "      valeur_renvoyee = fonction_a_executer() # On exécute la fonction\n",
        "      tps_apres = time.time()\n",
        "      tps_execution = tps_apres - tps_avant\n",
        "      if tps_execution >= nb_secs:\n",
        "        print(\"La fonction {0} a mis {1} pour s'exécuter\"\\\n",
        "              .format(fonction_a_executer, tps_execution))\n",
        "      return valeur_renvoyee\n",
        "    return fonction_modifiee\n",
        "  return decorateur"
      ],
      "execution_count": 0,
      "outputs": []
    },
    {
      "cell_type": "markdown",
      "metadata": {
        "id": "scQhF1KKEgC0",
        "colab_type": "text"
      },
      "source": [
        "\n",
        "\n",
        "> #### NameError: name 'controller_temps' is not defined\n",
        "\n"
      ]
    },
    {
      "cell_type": "code",
      "metadata": {
        "id": "mh-Q_sShBQ8K",
        "colab_type": "code",
        "colab": {}
      },
      "source": [
        "@controller_temps(4)\n",
        "def attendre():\n",
        "  input(\"Appuyez sur Entrée\")\n",
        "\n",
        "attendre() # Je vais appuyer sur Entrée presque tout de suite"
      ],
      "execution_count": 0,
      "outputs": []
    },
    {
      "cell_type": "markdown",
      "metadata": {
        "id": "DJB6MqaqEyqY",
        "colab_type": "text"
      },
      "source": [
        "\n",
        "\n",
        "> #### End of NameError\n",
        "\n"
      ]
    },
    {
      "cell_type": "code",
      "metadata": {
        "id": "3D-hqU7vDUAj",
        "colab_type": "code",
        "colab": {
          "base_uri": "https://localhost:8080/",
          "height": 34
        },
        "outputId": "d6fe97c8-be06-4bd9-e73b-bdd173e6b7a5"
      },
      "source": [
        "attendre() # Je vais appuyer sur Entrée presque tout de suite"
      ],
      "execution_count": 4,
      "outputs": [
        {
          "output_type": "stream",
          "text": [
            "Appuyez sur Entrée\n"
          ],
          "name": "stdout"
        }
      ]
    },
    {
      "cell_type": "code",
      "metadata": {
        "id": "sLhf9dDeCV5M",
        "colab_type": "code",
        "colab": {
          "base_uri": "https://localhost:8080/",
          "height": 70
        },
        "outputId": "b4cc31d6-0a28-4f8e-fa92-9137863f4082"
      },
      "source": [
        "@controler_temps(4)\n",
        "def attendre():\n",
        "  input(\"Appuyez sur Entrée\")\n",
        "\n",
        "attendre() # Cette fois, j'attends plus longtemps"
      ],
      "execution_count": 3,
      "outputs": [
        {
          "output_type": "stream",
          "text": [
            "Appuyez sur Entrée\n",
            "La fonction <function attendre at 0x7f2f81f82d90> a mis 6.3622519969940186 pour s'exécuter\n"
          ],
          "name": "stdout"
        }
      ]
    },
    {
      "cell_type": "markdown",
      "metadata": {
        "id": "9_TLdWiTE-Vp",
        "colab_type": "text"
      },
      "source": [
        "```py\n",
        "@controler_temps(4)\n",
        "def attendre(...)\n",
        "  ...\n",
        "```"
      ]
    },
    {
      "cell_type": "markdown",
      "metadata": {
        "id": "2ufF7vphFYK7",
        "colab_type": "text"
      },
      "source": [
        "```py\n",
        "def attendre(...):\n",
        "  ...\n",
        "\n",
        "attendre = controller_temps(4)(attendre)\n",
        "```"
      ]
    },
    {
      "cell_type": "markdown",
      "metadata": {
        "id": "csyoYfM-HeaM",
        "colab_type": "text"
      },
      "source": [
        "### Tenir compte des paramètres de notre fonction"
      ]
    },
    {
      "cell_type": "code",
      "metadata": {
        "id": "FALw4gzVELwB",
        "colab_type": "code",
        "colab": {}
      },
      "source": [
        "\"\"\"Pour gérer le temps, on importe le module time\n",
        "On va utiliser surtout la fonction time() de ce module qui renvoie le nombre de \n",
        "secondes écoulées depuis le 1er janvier 1970 (habituellement).\n",
        "On va s'en servir pour calculer le temps mis par notre fonction pour s'exécuter\n",
        "\"\"\"\n",
        "\n",
        "import time\n",
        "\n",
        "def controler_temps(nb_secs):\n",
        "  \"\"\"Contrôle le temps mis par une fonction pour s'exécuter.\n",
        "  Si le temps d'exécution est supérieur à nb_secs, on affiche une alerte\"\"\"\n",
        "\n",
        "  def decorateur(fonction_a_executer):\n",
        "    \"\"\"Notre décorateur.\n",
        "    C'est lui qui est appelé directement LORS DE LA DEFINITION de notre \n",
        "    fonction (fonction_a_executer)\"\"\"\n",
        "\n",
        "    def fonction_modifiee(*parametres_non_nommes, **parametres_nommes):\n",
        "      \"\"\"Fonction renvoyée par notre décorateur.\n",
        "      Elle se charge de calculer le temps mis par la fonction à s'exécuter\"\"\"\n",
        "\n",
        "      tps_avant = time.time() # avant d'exécuter la fonction\n",
        "      ret = fonction_a_executer(*parametres_non_nommes, **parametres_nommes)\n",
        "      tps_apres = time.time()\n",
        "      tps_execution = tps_apres - tps_avant\n",
        "      if tps_execution >= nb_secs:\n",
        "        print(\"La fonction {0} a mis {1} pours'exécuter\"\\\n",
        "              .format(fonction_a_executer, tps_execution))\n",
        "      return ret\n",
        "    return fonction_modifiee\n",
        "  return decorateur"
      ],
      "execution_count": 0,
      "outputs": []
    },
    {
      "cell_type": "markdown",
      "metadata": {
        "id": "WYVZHdzCOKp9",
        "colab_type": "text"
      },
      "source": [
        "### Des décorateurs s'appliquant aux définitions de classes"
      ]
    },
    {
      "cell_type": "markdown",
      "metadata": {
        "id": "cYczcpBvPtlV",
        "colab_type": "text"
      },
      "source": [
        "\n",
        "\n",
        "> #### SyntaxError: invalid syntax\n",
        "\n"
      ]
    },
    {
      "cell_type": "code",
      "metadata": {
        "id": "z4fROkj-OJW4",
        "colab_type": "code",
        "colab": {}
      },
      "source": [
        "def decorateur(classe):\n",
        "  print(\"Définition de la classe {0}\"\\\n",
        "        .format(classe))\n",
        "  return class\n",
        "\n",
        "@decorateur\n",
        "class Test:\n",
        "  pass"
      ],
      "execution_count": 0,
      "outputs": []
    },
    {
      "cell_type": "markdown",
      "metadata": {
        "id": "b7qaiCnxP5LO",
        "colab_type": "text"
      },
      "source": [
        "\n",
        "\n",
        "> > #### End of SyntaxError\n",
        "\n"
      ]
    },
    {
      "cell_type": "code",
      "metadata": {
        "id": "cgSlQaxfOm8l",
        "colab_type": "code",
        "colab": {
          "base_uri": "https://localhost:8080/",
          "height": 34
        },
        "outputId": "3895630a-ae54-49bf-bd13-c3cc7ca87c57"
      },
      "source": [
        "def decorateur(classe):\n",
        "  print(\"Définition de la classe {0}\".format(classe))\n",
        "  return classe\n",
        "\n",
        "@decorateur\n",
        "class Test:\n",
        "  pass"
      ],
      "execution_count": 7,
      "outputs": [
        {
          "output_type": "stream",
          "text": [
            "Définition de la classe <class '__main__.Test'>\n"
          ],
          "name": "stdout"
        }
      ]
    },
    {
      "cell_type": "markdown",
      "metadata": {
        "id": "roM-JEilQh1g",
        "colab_type": "text"
      },
      "source": [
        "### Chaîner nos décorateurs"
      ]
    },
    {
      "cell_type": "markdown",
      "metadata": {
        "id": "f9zhuT1-Qlai",
        "colab_type": "text"
      },
      "source": [
        "```py\n",
        "@decorateur1\n",
        "@decorateur2\n",
        "def fonction():\n",
        "```"
      ]
    },
    {
      "cell_type": "markdown",
      "metadata": {
        "id": "6IZEY-r-Q91v",
        "colab_type": "text"
      },
      "source": [
        "## Exemples d'applications"
      ]
    },
    {
      "cell_type": "markdown",
      "metadata": {
        "id": "HSVNFCOfRCjJ",
        "colab_type": "text"
      },
      "source": [
        "### Les classes ```singleton```"
      ]
    },
    {
      "cell_type": "markdown",
      "metadata": {
        "id": "y_NzHXjQRR-n",
        "colab_type": "text"
      },
      "source": [
        "#### Code de l'exemple"
      ]
    },
    {
      "cell_type": "markdown",
      "metadata": {
        "id": "-dNW1gYxTLJ0",
        "colab_type": "text"
      },
      "source": [
        "\n",
        "\n",
        "> ##### TypeError: 'NoneType' object is not callable\n",
        "\n"
      ]
    },
    {
      "cell_type": "code",
      "metadata": {
        "id": "rDA6pQzBPrTv",
        "colab_type": "code",
        "colab": {}
      },
      "source": [
        "def singleton(classe_definie):\n",
        "  instances = {} # Dictionnaire de nos instances singletons\n",
        "  def get_instance():\n",
        "    if classe_definie not in instances:\n",
        "      # On crée notre premier objet de la classe_definie\n",
        "      instances[classe_definie] = classe_definie()\n",
        "    return instances[classe_definie]"
      ],
      "execution_count": 0,
      "outputs": []
    },
    {
      "cell_type": "code",
      "metadata": {
        "id": "1LzFZhgzSVNv",
        "colab_type": "code",
        "colab": {
          "base_uri": "https://localhost:8080/",
          "height": 229
        },
        "outputId": "f616f0d3-2adb-4ccb-e193-4c1400f9a654"
      },
      "source": [
        "@singleton\n",
        "class Test:\n",
        "  pass\n",
        "\n",
        "a = Test()\n",
        "b = Test()\n",
        "a is b"
      ],
      "execution_count": 9,
      "outputs": [
        {
          "output_type": "error",
          "ename": "TypeError",
          "evalue": "ignored",
          "traceback": [
            "\u001b[0;31m---------------------------------------------------------------------------\u001b[0m",
            "\u001b[0;31mTypeError\u001b[0m                                 Traceback (most recent call last)",
            "\u001b[0;32m<ipython-input-9-9f42e3b469c9>\u001b[0m in \u001b[0;36m<module>\u001b[0;34m()\u001b[0m\n\u001b[1;32m      3\u001b[0m   \u001b[0;32mpass\u001b[0m\u001b[0;34m\u001b[0m\u001b[0;34m\u001b[0m\u001b[0m\n\u001b[1;32m      4\u001b[0m \u001b[0;34m\u001b[0m\u001b[0m\n\u001b[0;32m----> 5\u001b[0;31m \u001b[0ma\u001b[0m \u001b[0;34m=\u001b[0m \u001b[0mTest\u001b[0m\u001b[0;34m(\u001b[0m\u001b[0;34m)\u001b[0m\u001b[0;34m\u001b[0m\u001b[0;34m\u001b[0m\u001b[0m\n\u001b[0m\u001b[1;32m      6\u001b[0m \u001b[0mb\u001b[0m \u001b[0;34m=\u001b[0m \u001b[0mTest\u001b[0m\u001b[0;34m(\u001b[0m\u001b[0;34m)\u001b[0m\u001b[0;34m\u001b[0m\u001b[0;34m\u001b[0m\u001b[0m\n\u001b[1;32m      7\u001b[0m \u001b[0ma\u001b[0m \u001b[0;32mis\u001b[0m \u001b[0mb\u001b[0m\u001b[0;34m\u001b[0m\u001b[0;34m\u001b[0m\u001b[0m\n",
            "\u001b[0;31mTypeError\u001b[0m: 'NoneType' object is not callable"
          ]
        }
      ]
    },
    {
      "cell_type": "markdown",
      "metadata": {
        "id": "H9WvabtOTV96",
        "colab_type": "text"
      },
      "source": [
        "\n",
        "\n",
        "> ##### End of TypeError:\n",
        "\n"
      ]
    },
    {
      "cell_type": "code",
      "metadata": {
        "id": "XAXmhlpgTmKp",
        "colab_type": "code",
        "colab": {}
      },
      "source": [
        "def singleton(classe_definie):\n",
        "  instances = {} # Dictionnaire de nos instances singletons\n",
        "  def get_instance():\n",
        "    if classe_definie not in instances:\n",
        "      # On crée notre premier objet de classe_definie\n",
        "      instances[classe_definie] = classe_definie()\n",
        "    return instances[classe_definie]\n",
        "  return get_instance"
      ],
      "execution_count": 0,
      "outputs": []
    },
    {
      "cell_type": "markdown",
      "metadata": {
        "id": "cGN-tAzqSWub",
        "colab_type": "text"
      },
      "source": [
        "#### Explications"
      ]
    },
    {
      "cell_type": "code",
      "metadata": {
        "id": "imLig-YqTAAL",
        "colab_type": "code",
        "colab": {
          "base_uri": "https://localhost:8080/",
          "height": 34
        },
        "outputId": "d07baa88-a177-44ca-baca-e1610e6c551a"
      },
      "source": [
        "@singleton\n",
        "class Test:\n",
        "  pass\n",
        "  \n",
        "a = Test()\n",
        "b = Test()\n",
        "a is b"
      ],
      "execution_count": 11,
      "outputs": [
        {
          "output_type": "execute_result",
          "data": {
            "text/plain": [
              "True"
            ]
          },
          "metadata": {
            "tags": []
          },
          "execution_count": 11
        }
      ]
    },
    {
      "cell_type": "markdown",
      "metadata": {
        "id": "mH2Yrt_iVmrV",
        "colab_type": "text"
      },
      "source": [
        "### Contrôler les types passés à notre fonction"
      ]
    },
    {
      "cell_type": "markdown",
      "metadata": {
        "id": "N3_AJ1A2Vo86",
        "colab_type": "text"
      },
      "source": [
        "```py\n",
        "@controler_types(int, int)\n",
        "def intervalle(base_inf, base_sup):\n",
        "```"
      ]
    },
    {
      "cell_type": "markdown",
      "metadata": {
        "id": "OtpNypnDWCCb",
        "colab_type": "text"
      },
      "source": [
        "#### Code de l'exemple"
      ]
    },
    {
      "cell_type": "markdown",
      "metadata": {
        "id": "H9RHpKa6eK98",
        "colab_type": "text"
      },
      "source": [
        "\n",
        "\n",
        "> ##### SyntaxError: invalid syntax\n",
        "\n"
      ]
    },
    {
      "cell_type": "code",
      "metadata": {
        "id": "1NeyVYsaVF6X",
        "colab_type": "code",
        "colab": {
          "base_uri": "https://localhost:8080/",
          "height": 148
        },
        "outputId": "64259b82-4447-40c7-ee4f-611147990158"
      },
      "source": [
        "def controler_types(*a_args, **a_kwargs):\n",
        "  \"\"\"On attend en paramètres du décorateur les types souhaités.\n",
        "  On accepte une liste de paramètres indéterminés, étant donné que notre \n",
        "  fonction définie pourra être appelée avec un nombre variable de paramètres et \n",
        "  que chacun doit être contrôlé\"\"\"\n",
        "\n",
        "  def decorateur(fonction_a_executer):\n",
        "    \"\"\"Notre décorateur. Il doit renvoyer fonction_modifiee\"\"\"\n",
        "    def fonction_modifiee(*args, **kwargs):\n",
        "      \"\"\"Notre fonction modifiée.\n",
        "      Elle se charge de contrôler les types qu'on lui passe en paramètres\"\"\"\n",
        "\n",
        "      # La liste des paramètres attendus (a_args) doit être de même\n",
        "      # Longueur que celle reçue (args)\n",
        "      if len(a_args) != len(args):\n",
        "        raise TypeError(\"le nombre d'arguments attendu n'est pas égal au \\\n",
        "        nombre reçu\")\n",
        "      # On parcourt la liste des arguments reçus et non nommés\n",
        "      for i, arg in enumerate(args):\n",
        "        if a_args[i] is not type(args[i]):\n",
        "          raise TypeError(\"l'argument {0} n'est pas du type {1}\"\\\n",
        "                          .format(i, a_args[i]))\n",
        "          \n",
        "      # On parcourt à présent la liste des paramètres reçus et nommés\n",
        "      for cle in kwargs:\n",
        "        if cle not in a_kwargs:\n",
        "          raise TypeError(\"l'argument {0} n'a aucun type précisé\"\\\n",
        "                          .format('repr(cle')))\n",
        "        if a_kwargs[cle] is not type(kwargs[cle]):\n",
        "          raise TypeError(\"l'argument {0} n'est pas de type {1}\"\\\n",
        "                          .format(repr(cle), a_kwargs[cle]))\n",
        "      return fonction_a_executer(*args, **kwargs)\n",
        "    return fonction_modifiee\n",
        "  return decorateur"
      ],
      "execution_count": 12,
      "outputs": [
        {
          "output_type": "error",
          "ename": "SyntaxError",
          "evalue": "ignored",
          "traceback": [
            "\u001b[0;36m  File \u001b[0;32m\"<ipython-input-12-c25646942fa3>\"\u001b[0;36m, line \u001b[0;32m25\u001b[0m\n\u001b[0;31m    raise TypeError(\"l'argument {0} n'a aucun type précisé\"                          .format('repr(cle')))\u001b[0m\n\u001b[0m                                                                                                         ^\u001b[0m\n\u001b[0;31mSyntaxError\u001b[0m\u001b[0;31m:\u001b[0m invalid syntax\n"
          ]
        }
      ]
    },
    {
      "cell_type": "markdown",
      "metadata": {
        "id": "ScMZxTJveRMZ",
        "colab_type": "text"
      },
      "source": [
        "\n",
        "\n",
        "> ##### End of SyntaxError\n",
        "\n"
      ]
    },
    {
      "cell_type": "code",
      "metadata": {
        "id": "GMPfjZ1tdSr0",
        "colab_type": "code",
        "colab": {}
      },
      "source": [
        "def controler_types(*a_args, **a_kwargs):\n",
        "  \"\"\"On attend en paramètres du décorateur les types souhaités.\n",
        "  On accepte une liste de paramètres indéterminés, \n",
        "  étant donné que notre fonction définie pourra être appelée avec un nombre \n",
        "  variable de paramètres et que chacun doit être contrôlé\"\"\"\n",
        "\n",
        "  def decorateur(fonction_a_executer):\n",
        "    \"\"\"Notre décorateur. Il doit renvoyer fonction_modifiee\"\"\"\n",
        "    def fonction_modifiee(*args, **kwargs):\n",
        "      \"\"\"Notre fonction modifiée. \n",
        "      Elle se charge de contrôler les types qu'on lui passe en paramètres\"\"\"\n",
        "\n",
        "      # La liste des paramètres attendus (a_args) doit être de même\n",
        "      # Longueur que celle reçus (args)\n",
        "      if len(a_args) != len(args):\n",
        "        raise TypeError(\"le nombre d'arguments attendu n'est pas égal au \\\n",
        "        nombre reçu\")\n",
        "      # On parcourt la liste des arguments reçus et non nommés\n",
        "      for i, arg in enumerate(args):\n",
        "        if a_args[i] is not type(args[i]):\n",
        "          raise TypeError(\"l'argument {0} n'est pas du type {1}\"\\\n",
        "                          .format(i, a_args[i]))\n",
        "          \n",
        "      # On parcourt à présent la liste des paramètres reçus et nommés\n",
        "      for cle in kwargs:\n",
        "        if cle not in a_kwargs:\n",
        "          raise TypeError(\"l'argument {0} n'a aucun type précisé\"\\\n",
        "                          .format(repr(cle), a_kwargs[cle]))\n",
        "        if a_kwargs[cle] is not type(kwargs[cle]):\n",
        "          raise TypeError(\"l'argument {0} n'est pas de type {1}\"\\\n",
        "                          .format(repr(cle), a_kwargs[cle]))\n",
        "      return fonction_a_executer(*args, **kwargs)\n",
        "    return fonction_modifiee\n",
        "  return decorateur"
      ],
      "execution_count": 0,
      "outputs": []
    },
    {
      "cell_type": "markdown",
      "metadata": {
        "id": "uj9HXbyqlm7T",
        "colab_type": "text"
      },
      "source": [
        "##### Explications"
      ]
    },
    {
      "cell_type": "code",
      "metadata": {
        "id": "lMq0_3aaljZU",
        "colab_type": "code",
        "colab": {
          "base_uri": "https://localhost:8080/",
          "height": 34
        },
        "outputId": "a374ca8a-2d56-48d3-9600-7585463f0a92"
      },
      "source": [
        "@controler_types(int, int)\n",
        "def intervalle(base_inf, base_sup):\n",
        "  print(\"Intervalle de {0} à {1}\".format(base_inf, base_sup))\n",
        "\n",
        "intervalle(1, 8)"
      ],
      "execution_count": 14,
      "outputs": [
        {
          "output_type": "stream",
          "text": [
            "Intervalle de 1 à 8\n"
          ],
          "name": "stdout"
        }
      ]
    },
    {
      "cell_type": "code",
      "metadata": {
        "id": "jqbyd6ednPWa",
        "colab_type": "code",
        "colab": {
          "base_uri": "https://localhost:8080/",
          "height": 299
        },
        "outputId": "ba1ed828-e1e6-4149-cf00-9b4a3fc1dafa"
      },
      "source": [
        "intervalle(5, \"oups!\")"
      ],
      "execution_count": 15,
      "outputs": [
        {
          "output_type": "error",
          "ename": "TypeError",
          "evalue": "ignored",
          "traceback": [
            "\u001b[0;31m---------------------------------------------------------------------------\u001b[0m",
            "\u001b[0;31mTypeError\u001b[0m                                 Traceback (most recent call last)",
            "\u001b[0;32m<ipython-input-15-f0bbfbc7595f>\u001b[0m in \u001b[0;36m<module>\u001b[0;34m()\u001b[0m\n\u001b[0;32m----> 1\u001b[0;31m \u001b[0mintervalle\u001b[0m\u001b[0;34m(\u001b[0m\u001b[0;36m5\u001b[0m\u001b[0;34m,\u001b[0m \u001b[0;34m\"oups!\"\u001b[0m\u001b[0;34m)\u001b[0m\u001b[0;34m\u001b[0m\u001b[0;34m\u001b[0m\u001b[0m\n\u001b[0m",
            "\u001b[0;32m<ipython-input-13-fa6421581f0e>\u001b[0m in \u001b[0;36mfonction_modifiee\u001b[0;34m(*args, **kwargs)\u001b[0m\n\u001b[1;32m     18\u001b[0m       \u001b[0;32mfor\u001b[0m \u001b[0mi\u001b[0m\u001b[0;34m,\u001b[0m \u001b[0marg\u001b[0m \u001b[0;32min\u001b[0m \u001b[0menumerate\u001b[0m\u001b[0;34m(\u001b[0m\u001b[0margs\u001b[0m\u001b[0;34m)\u001b[0m\u001b[0;34m:\u001b[0m\u001b[0;34m\u001b[0m\u001b[0;34m\u001b[0m\u001b[0m\n\u001b[1;32m     19\u001b[0m         \u001b[0;32mif\u001b[0m \u001b[0ma_args\u001b[0m\u001b[0;34m[\u001b[0m\u001b[0mi\u001b[0m\u001b[0;34m]\u001b[0m \u001b[0;32mis\u001b[0m \u001b[0;32mnot\u001b[0m \u001b[0mtype\u001b[0m\u001b[0;34m(\u001b[0m\u001b[0margs\u001b[0m\u001b[0;34m[\u001b[0m\u001b[0mi\u001b[0m\u001b[0;34m]\u001b[0m\u001b[0;34m)\u001b[0m\u001b[0;34m:\u001b[0m\u001b[0;34m\u001b[0m\u001b[0;34m\u001b[0m\u001b[0m\n\u001b[0;32m---> 20\u001b[0;31m           \u001b[0;32mraise\u001b[0m \u001b[0mTypeError\u001b[0m\u001b[0;34m(\u001b[0m\u001b[0;34m\"l'argument {0} n'est pas du type {1}\"\u001b[0m                          \u001b[0;34m.\u001b[0m\u001b[0mformat\u001b[0m\u001b[0;34m(\u001b[0m\u001b[0mi\u001b[0m\u001b[0;34m,\u001b[0m \u001b[0ma_args\u001b[0m\u001b[0;34m[\u001b[0m\u001b[0mi\u001b[0m\u001b[0;34m]\u001b[0m\u001b[0;34m)\u001b[0m\u001b[0;34m)\u001b[0m\u001b[0;34m\u001b[0m\u001b[0;34m\u001b[0m\u001b[0m\n\u001b[0m\u001b[1;32m     21\u001b[0m \u001b[0;34m\u001b[0m\u001b[0m\n\u001b[1;32m     22\u001b[0m       \u001b[0;31m# On parcourt à présent la liste des paramètres reçus et nommés\u001b[0m\u001b[0;34m\u001b[0m\u001b[0;34m\u001b[0m\u001b[0;34m\u001b[0m\u001b[0m\n",
            "\u001b[0;31mTypeError\u001b[0m: l'argument 1 n'est pas du type <class 'int'>"
          ]
        }
      ]
    },
    {
      "cell_type": "markdown",
      "metadata": {
        "id": "S8LSnJPSoyFL",
        "colab_type": "text"
      },
      "source": [
        "[Source](https://openclassrooms.com/fr/courses/235344-apprenez-a-programmer-en-python/233491-apprehendez-les-decorateurs)"
      ]
    },
    {
      "cell_type": "code",
      "metadata": {
        "id": "2DHCQXMbnbqF",
        "colab_type": "code",
        "colab": {}
      },
      "source": [
        ""
      ],
      "execution_count": 0,
      "outputs": []
    }
  ]
}