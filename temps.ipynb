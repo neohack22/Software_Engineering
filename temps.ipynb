{
  "nbformat": 4,
  "nbformat_minor": 0,
  "metadata": {
    "colab": {
      "name": "temps.ipynb",
      "provenance": [],
      "authorship_tag": "ABX9TyPrIiviSru/U11fY1J1kqZi",
      "include_colab_link": true
    },
    "kernelspec": {
      "name": "python3",
      "display_name": "Python 3"
    }
  },
  "cells": [
    {
      "cell_type": "markdown",
      "metadata": {
        "id": "view-in-github",
        "colab_type": "text"
      },
      "source": [
        "<a href=\"https://colab.research.google.com/github/neohack22/Software_Engineering/blob/apprenez-a-programmer-en-python/temps.ipynb\" target=\"_parent\"><img src=\"https://colab.research.google.com/assets/colab-badge.svg\" alt=\"Open In Colab\"/></a>"
      ]
    },
    {
      "cell_type": "markdown",
      "metadata": {
        "id": "vxN11WfHg4ff",
        "colab_type": "text"
      },
      "source": [
        "# Exprimez le temps"
      ]
    },
    {
      "cell_type": "markdown",
      "metadata": {
        "id": "aehCZTbchUQg",
        "colab_type": "text"
      },
      "source": [
        "## Le module time"
      ]
    },
    {
      "cell_type": "markdown",
      "metadata": {
        "id": "KGobH5c5pMBJ",
        "colab_type": "text"
      },
      "source": [
        "Le module ```time``` permet, entre autres, d'obtenir la date et l'heure de votre système."
      ]
    },
    {
      "cell_type": "code",
      "metadata": {
        "id": "tEVMK9oCg25k",
        "colab_type": "code",
        "colab": {}
      },
      "source": [
        "import time"
      ],
      "execution_count": 0,
      "outputs": []
    },
    {
      "cell_type": "markdown",
      "metadata": {
        "id": "lR856Zi4pR8d",
        "colab_type": "text"
      },
      "source": [
        "La fonction ```time``` du module ```time``` renvoie le timestamp actuel."
      ]
    },
    {
      "cell_type": "code",
      "metadata": {
        "id": "Q-pDHTQWiUht",
        "colab_type": "code",
        "colab": {
          "base_uri": "https://localhost:8080/",
          "height": 34
        },
        "outputId": "f427bbcb-3017-4eef-88dc-3c11c53f09ef"
      },
      "source": [
        "time.time()"
      ],
      "execution_count": 2,
      "outputs": [
        {
          "output_type": "execute_result",
          "data": {
            "text/plain": [
              "1580087207.9580889"
            ]
          },
          "metadata": {
            "tags": []
          },
          "execution_count": 2
        }
      ]
    },
    {
      "cell_type": "code",
      "metadata": {
        "id": "F0SQVMixiWNg",
        "colab_type": "code",
        "colab": {}
      },
      "source": [
        "debut = time.time()\n",
        "# On attend quelques secondes avant de taper la commande suivante"
      ],
      "execution_count": 0,
      "outputs": []
    },
    {
      "cell_type": "code",
      "metadata": {
        "id": "aBGisoTOi4VS",
        "colab_type": "code",
        "colab": {}
      },
      "source": [
        "fin = time.time()"
      ],
      "execution_count": 0,
      "outputs": []
    },
    {
      "cell_type": "code",
      "metadata": {
        "id": "jaX8lqZGi7l3",
        "colab_type": "code",
        "colab": {
          "base_uri": "https://localhost:8080/",
          "height": 34
        },
        "outputId": "72854cf9-728f-40d5-c6df-40e2e7891e6f"
      },
      "source": [
        "print(debut, fin)"
      ],
      "execution_count": 5,
      "outputs": [
        {
          "output_type": "stream",
          "text": [
            "1580087347.726997 1580087361.1886287\n"
          ],
          "name": "stdout"
        }
      ]
    },
    {
      "cell_type": "code",
      "metadata": {
        "id": "L0ucLSWDi-Bu",
        "colab_type": "code",
        "colab": {
          "base_uri": "https://localhost:8080/",
          "height": 34
        },
        "outputId": "e7c3cf36-878b-4ec9-b516-b16a06847eee"
      },
      "source": [
        "debut < fin"
      ],
      "execution_count": 6,
      "outputs": [
        {
          "output_type": "execute_result",
          "data": {
            "text/plain": [
              "True"
            ]
          },
          "metadata": {
            "tags": []
          },
          "execution_count": 6
        }
      ]
    },
    {
      "cell_type": "code",
      "metadata": {
        "id": "YAsV4UwdjA5n",
        "colab_type": "code",
        "colab": {
          "base_uri": "https://localhost:8080/",
          "height": 34
        },
        "outputId": "715117c6-93a4-4cc8-e12c-9a6e97533337"
      },
      "source": [
        "fin - debut # Combien de secondes entre debut et fin ?"
      ],
      "execution_count": 7,
      "outputs": [
        {
          "output_type": "execute_result",
          "data": {
            "text/plain": [
              "13.461631774902344"
            ]
          },
          "metadata": {
            "tags": []
          },
          "execution_count": 7
        }
      ]
    },
    {
      "cell_type": "markdown",
      "metadata": {
        "id": "Qja6pcpojX8s",
        "colab_type": "text"
      },
      "source": [
        "### La date et l'heure de façon plus présentable"
      ]
    },
    {
      "cell_type": "markdown",
      "metadata": {
        "id": "mbl_Qgh9pkjX",
        "colab_type": "text"
      },
      "source": [
        "La méthode ```localtime``` du module ```time``` renvoie un objet isolant les informations d'un timestamp (la date et l'heure)."
      ]
    },
    {
      "cell_type": "markdown",
      "metadata": {
        "id": "ch1u5m6LjeaZ",
        "colab_type": "text"
      },
      "source": [
        "```time.localtime()```"
      ]
    },
    {
      "cell_type": "code",
      "metadata": {
        "id": "DozXFIPtjFwN",
        "colab_type": "code",
        "colab": {
          "base_uri": "https://localhost:8080/",
          "height": 54
        },
        "outputId": "1e2ccbe6-df86-4e4a-fbe5-f6d77dfa2f62"
      },
      "source": [
        "time.localtime()"
      ],
      "execution_count": 8,
      "outputs": [
        {
          "output_type": "execute_result",
          "data": {
            "text/plain": [
              "time.struct_time(tm_year=2020, tm_mon=1, tm_mday=27, tm_hour=1, tm_min=13, tm_sec=35, tm_wday=0, tm_yday=27, tm_isdst=0)"
            ]
          },
          "metadata": {
            "tags": []
          },
          "execution_count": 8
        }
      ]
    },
    {
      "cell_type": "code",
      "metadata": {
        "id": "lyaADGloj5nS",
        "colab_type": "code",
        "colab": {
          "base_uri": "https://localhost:8080/",
          "height": 54
        },
        "outputId": "7e3d868d-378c-4795-b5f2-7f899e8dcd3e"
      },
      "source": [
        "time.localtime(debut)"
      ],
      "execution_count": 9,
      "outputs": [
        {
          "output_type": "execute_result",
          "data": {
            "text/plain": [
              "time.struct_time(tm_year=2020, tm_mon=1, tm_mday=27, tm_hour=1, tm_min=9, tm_sec=7, tm_wday=0, tm_yday=27, tm_isdst=0)"
            ]
          },
          "metadata": {
            "tags": []
          },
          "execution_count": 9
        }
      ]
    },
    {
      "cell_type": "code",
      "metadata": {
        "id": "TsqA0A8gj8lH",
        "colab_type": "code",
        "colab": {
          "base_uri": "https://localhost:8080/",
          "height": 54
        },
        "outputId": "140ecc3f-bfd2-41eb-c17e-e1c56dbf1185"
      },
      "source": [
        "time.localtime(fin)"
      ],
      "execution_count": 10,
      "outputs": [
        {
          "output_type": "execute_result",
          "data": {
            "text/plain": [
              "time.struct_time(tm_year=2020, tm_mon=1, tm_mday=27, tm_hour=1, tm_min=9, tm_sec=21, tm_wday=0, tm_yday=27, tm_isdst=0)"
            ]
          },
          "metadata": {
            "tags": []
          },
          "execution_count": 10
        }
      ]
    },
    {
      "cell_type": "markdown",
      "metadata": {
        "id": "R0U2imFXkrY0",
        "colab_type": "text"
      },
      "source": [
        "### Récupérer un timestamp depuis une date"
      ]
    },
    {
      "cell_type": "code",
      "metadata": {
        "id": "juQKUWRYkCHp",
        "colab_type": "code",
        "colab": {
          "base_uri": "https://localhost:8080/",
          "height": 34
        },
        "outputId": "28d5ac5b-9700-4c7f-f572-c71ff3ed7551"
      },
      "source": [
        "print(debut)"
      ],
      "execution_count": 11,
      "outputs": [
        {
          "output_type": "stream",
          "text": [
            "1580087347.726997\n"
          ],
          "name": "stdout"
        }
      ]
    },
    {
      "cell_type": "code",
      "metadata": {
        "id": "gFP9apzXkzZI",
        "colab_type": "code",
        "colab": {
          "base_uri": "https://localhost:8080/",
          "height": 54
        },
        "outputId": "391d2c80-c6d0-4ed2-b825-839dadcaaf7b"
      },
      "source": [
        "temps = time.localtime(debut)\n",
        "print(temps)"
      ],
      "execution_count": 12,
      "outputs": [
        {
          "output_type": "stream",
          "text": [
            "time.struct_time(tm_year=2020, tm_mon=1, tm_mday=27, tm_hour=1, tm_min=9, tm_sec=7, tm_wday=0, tm_yday=27, tm_isdst=0)\n"
          ],
          "name": "stdout"
        }
      ]
    },
    {
      "cell_type": "code",
      "metadata": {
        "id": "L8GYFKMGk720",
        "colab_type": "code",
        "colab": {
          "base_uri": "https://localhost:8080/",
          "height": 34
        },
        "outputId": "79f6285c-806c-4b22-e6d0-dd217bb955a9"
      },
      "source": [
        "ts_debut = time.mktime(temps)\n",
        "print(ts_debut)"
      ],
      "execution_count": 13,
      "outputs": [
        {
          "output_type": "stream",
          "text": [
            "1580087347.0\n"
          ],
          "name": "stdout"
        }
      ]
    },
    {
      "cell_type": "markdown",
      "metadata": {
        "id": "DfJpUSV7lIyu",
        "colab_type": "text"
      },
      "source": [
        "### Mettre en pause l'exécution du programme pendant un temps déterminé"
      ]
    },
    {
      "cell_type": "code",
      "metadata": {
        "id": "ZSM-EeXmlCda",
        "colab_type": "code",
        "colab": {}
      },
      "source": [
        "time.sleep(3.5) # Faire une pause pendant 3,5 secondes"
      ],
      "execution_count": 0,
      "outputs": []
    },
    {
      "cell_type": "markdown",
      "metadata": {
        "id": "tLhyXR5nl-DJ",
        "colab_type": "text"
      },
      "source": [
        "### Formater un temps"
      ]
    },
    {
      "cell_type": "markdown",
      "metadata": {
        "id": "GDc712SpmD_v",
        "colab_type": "text"
      },
      "source": [
        "```time.strftime('%Y')```"
      ]
    },
    {
      "cell_type": "markdown",
      "metadata": {
        "id": "hrRPLXIYmYfi",
        "colab_type": "text"
      },
      "source": [
        "```time.strftime(\"%A %d %B %Y %H:%M:%S\")```"
      ]
    },
    {
      "cell_type": "markdown",
      "metadata": {
        "id": "R4OgrPC4m19M",
        "colab_type": "text"
      },
      "source": [
        "## Le module datetime"
      ]
    },
    {
      "cell_type": "markdown",
      "metadata": {
        "id": "fuAG4DSlp3L7",
        "colab_type": "text"
      },
      "source": [
        "Le module ```datetime``` permet de représenter des dates et heures."
      ]
    },
    {
      "cell_type": "markdown",
      "metadata": {
        "id": "P8js_2l9n10u",
        "colab_type": "text"
      },
      "source": [
        "### Représenter une date"
      ]
    },
    {
      "cell_type": "code",
      "metadata": {
        "id": "rXFtZ6q-l4Uj",
        "colab_type": "code",
        "colab": {
          "base_uri": "https://localhost:8080/",
          "height": 34
        },
        "outputId": "488b831d-2789-4807-b474-c3ca18a9a32d"
      },
      "source": [
        "import datetime\n",
        "date = datetime.date(2010, 12, 25)\n",
        "print(date)"
      ],
      "execution_count": 15,
      "outputs": [
        {
          "output_type": "stream",
          "text": [
            "2010-12-25\n"
          ],
          "name": "stdout"
        }
      ]
    },
    {
      "cell_type": "code",
      "metadata": {
        "id": "_u9O4Hktn_5r",
        "colab_type": "code",
        "colab": {
          "base_uri": "https://localhost:8080/",
          "height": 34
        },
        "outputId": "28cc9ea3-c5ac-454b-a9f7-2d67dd6fad35"
      },
      "source": [
        "import time\n",
        "import datetime\n",
        "aujourdhui = datetime.date.today()\n",
        "aujourdhui"
      ],
      "execution_count": 16,
      "outputs": [
        {
          "output_type": "execute_result",
          "data": {
            "text/plain": [
              "datetime.date(2020, 1, 27)"
            ]
          },
          "metadata": {
            "tags": []
          },
          "execution_count": 16
        }
      ]
    },
    {
      "cell_type": "markdown",
      "metadata": {
        "id": "h9sPBLCOqC8J",
        "colab_type": "text"
      },
      "source": [
        "Les classes ```date```,```time``` et ```datetime``` permettent respectivement de représenter des dates, des heures, ainsi que des ensembles « date et heure »."
      ]
    },
    {
      "cell_type": "code",
      "metadata": {
        "id": "upQrcBLWoQ-p",
        "colab_type": "code",
        "colab": {
          "base_uri": "https://localhost:8080/",
          "height": 34
        },
        "outputId": "b65182ee-e583-4f4e-f045-d4989cae856a"
      },
      "source": [
        "datetime.date.fromtimestamp(time.time()) # Equivalent à date.today"
      ],
      "execution_count": 17,
      "outputs": [
        {
          "output_type": "execute_result",
          "data": {
            "text/plain": [
              "datetime.date(2020, 1, 27)"
            ]
          },
          "metadata": {
            "tags": []
          },
          "execution_count": 17
        }
      ]
    },
    {
      "cell_type": "markdown",
      "metadata": {
        "id": "7v_YVjVmo0Q-",
        "colab_type": "text"
      },
      "source": [
        "### Représenter des dates et heures"
      ]
    },
    {
      "cell_type": "code",
      "metadata": {
        "id": "-pNpupFUocti",
        "colab_type": "code",
        "colab": {
          "base_uri": "https://localhost:8080/",
          "height": 34
        },
        "outputId": "616200cb-726f-4a05-9633-c364f61b44c2"
      },
      "source": [
        "import datetime\n",
        "datetime.datetime.now()"
      ],
      "execution_count": 18,
      "outputs": [
        {
          "output_type": "execute_result",
          "data": {
            "text/plain": [
              "datetime.datetime(2020, 1, 27, 1, 36, 18, 872298)"
            ]
          },
          "metadata": {
            "tags": []
          },
          "execution_count": 18
        }
      ]
    },
    {
      "cell_type": "markdown",
      "metadata": {
        "id": "BanquOjZqWDe",
        "colab_type": "text"
      },
      "source": [
        "[Source](https://openclassrooms.com/fr/courses/235344-apprenez-a-programmer-en-python/234041-exprimez-le-temps)"
      ]
    }
  ]
}