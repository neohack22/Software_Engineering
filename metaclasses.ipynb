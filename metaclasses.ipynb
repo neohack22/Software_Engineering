{
  "nbformat": 4,
  "nbformat_minor": 0,
  "metadata": {
    "colab": {
      "name": "metaclasses.ipynb",
      "provenance": [],
      "collapsed_sections": [],
      "authorship_tag": "ABX9TyPW9ykxbOk3bAuHXEfbsqvC",
      "include_colab_link": true
    },
    "kernelspec": {
      "name": "python3",
      "display_name": "Python 3"
    }
  },
  "cells": [
    {
      "cell_type": "markdown",
      "metadata": {
        "id": "view-in-github",
        "colab_type": "text"
      },
      "source": [
        "<a href=\"https://colab.research.google.com/github/neohack22/Software_Engineering/blob/apprenez-a-programmer-en-python/metaclasses.ipynb\" target=\"_parent\"><img src=\"https://colab.research.google.com/assets/colab-badge.svg\" alt=\"Open In Colab\"/></a>"
      ]
    },
    {
      "cell_type": "markdown",
      "metadata": {
        "id": "AZ7-qBQFs1O0",
        "colab_type": "text"
      },
      "source": [
        "# Découvrez les métaclasses"
      ]
    },
    {
      "cell_type": "markdown",
      "metadata": {
        "id": "__m0JN6Mtj9F",
        "colab_type": "text"
      },
      "source": [
        "Le processus d'instanciation d'un objet est assuré par deux méthodes,```__new__``` et ```__init__```."
      ]
    },
    {
      "cell_type": "markdown",
      "metadata": {
        "id": "jeFHr-OBus9f",
        "colab_type": "text"
      },
      "source": [
        "## Retour sur le processus d'instanciation"
      ]
    },
    {
      "cell_type": "markdown",
      "metadata": {
        "id": "Bu5-1WdPt0K8",
        "colab_type": "text"
      },
      "source": [
        "```__new__``` est chargée de la création de l'objet et prend en premier paramètre sa classe."
      ]
    },
    {
      "cell_type": "markdown",
      "metadata": {
        "id": "ucOfUsO0iVX6",
        "colab_type": "text"
      },
      "source": [
        "> ### TypeError: object() takes no parameters"
      ]
    },
    {
      "cell_type": "code",
      "metadata": {
        "id": "BokG8pWVsUd8",
        "colab_type": "code",
        "colab": {}
      },
      "source": [
        "class Personne:\n",
        "\n",
        "  \"\"\"Classe définissant une personne.\n",
        "\n",
        "  Elle possède comme attributs :\n",
        "  nom -- le nom de la personne\n",
        "  prenom -- son prénom\n",
        "  age -- son âge\n",
        "  lieu-residence -- son lieu de résidence\n",
        "\n",
        "  Le nom et le prénom doivent être passés au constructeur.\"\"\"\n",
        "\n",
        "  def __init(self, nom, prenom):\n",
        "    \"\"\"Constructeur de notre persone.\"\"\"\n",
        "    self.nom = nom\n",
        "    self.prenom = prenom\n",
        "    self.age = 23\n",
        "    self.lieu_residence = \"Lyon\""
      ],
      "execution_count": 0,
      "outputs": []
    },
    {
      "cell_type": "code",
      "metadata": {
        "id": "1fM1Zv1pDZ4u",
        "colab_type": "code",
        "outputId": "fa29fdcf-133d-4fcb-8175-521caf4e55b2",
        "colab": {
          "base_uri": "https://localhost:8080/",
          "height": 162
        }
      },
      "source": [
        "personne = Personne(\"Doe\", \"John\")"
      ],
      "execution_count": 0,
      "outputs": [
        {
          "output_type": "error",
          "ename": "TypeError",
          "evalue": "ignored",
          "traceback": [
            "\u001b[0;31m---------------------------------------------------------------------------\u001b[0m",
            "\u001b[0;31mTypeError\u001b[0m                                 Traceback (most recent call last)",
            "\u001b[0;32m<ipython-input-3-b912f605d45e>\u001b[0m in \u001b[0;36m<module>\u001b[0;34m()\u001b[0m\n\u001b[0;32m----> 1\u001b[0;31m \u001b[0mpersonne\u001b[0m \u001b[0;34m=\u001b[0m \u001b[0mPersonne\u001b[0m\u001b[0;34m(\u001b[0m\u001b[0;34m\"Doe\"\u001b[0m\u001b[0;34m,\u001b[0m \u001b[0;34m\"John\"\u001b[0m\u001b[0;34m)\u001b[0m\u001b[0;34m\u001b[0m\u001b[0;34m\u001b[0m\u001b[0m\n\u001b[0m",
            "\u001b[0;31mTypeError\u001b[0m: object() takes no parameters"
          ]
        }
      ]
    },
    {
      "cell_type": "code",
      "metadata": {
        "id": "f_AVlRZSDfII",
        "colab_type": "code",
        "colab": {}
      },
      "source": [
        "class Personne:\n",
        "\n",
        "  \"\"\"Classe définissant une personne.\n",
        "\n",
        "  Elle possède comme attributs :\n",
        "  nom -- le nom de la personne\n",
        "  prenom -- son prénom\n",
        "  age -- son âge\n",
        "  lieu_residence -- son lieu de résidence\n",
        "\n",
        "  Le nom et le prénom doivent être passés au constructeur.\"\"\"\n",
        "\n",
        "  def __init__(self, nom, prenom):\n",
        "    \"\"\"Constructeur de notre personne.\"\"\"\n",
        "    self.nom = nom\n",
        "    self.prenom = prenom\n",
        "    self.age = 23\n",
        "    self.lieu_residence = \"Lyon\""
      ],
      "execution_count": 0,
      "outputs": []
    },
    {
      "cell_type": "code",
      "metadata": {
        "id": "Ko8DcsezEoPe",
        "colab_type": "code",
        "colab": {}
      },
      "source": [
        "personne = Personne(\"Doe\", \"John\")"
      ],
      "execution_count": 0,
      "outputs": []
    },
    {
      "cell_type": "markdown",
      "metadata": {
        "id": "XqrU_pJEt-Or",
        "colab_type": "text"
      },
      "source": [
        "```__init__``` est chargée de l'initialisation des attributs de l'objet et prend en premier paramètre l'objet précédemment créé par__new__."
      ]
    },
    {
      "cell_type": "markdown",
      "metadata": {
        "id": "XltgONJ6JsS9",
        "colab_type": "text"
      },
      "source": [
        "```py\n",
        "def __init__(self, nom, prenom):\n",
        "```"
      ]
    },
    {
      "cell_type": "markdown",
      "metadata": {
        "id": "7BYH7exYueIX",
        "colab_type": "text"
      },
      "source": [
        "\n",
        "\n",
        "> ### TypeError: object() takes no parameters\n",
        "\n"
      ]
    },
    {
      "cell_type": "code",
      "metadata": {
        "id": "qbhR__fSExsi",
        "colab_type": "code",
        "colab": {}
      },
      "source": [
        "class Personne:\n",
        "  \"\"\"Classe définissant une personne.\n",
        "\n",
        "  Elle possède comme attributs :\n",
        "  nom -- le nom de la personne\n",
        "  prenom -- son prénom\n",
        "  age -- son âge\n",
        "  lieu_residence -- son lieu de résidence\n",
        "\n",
        "  Le nom et le prénom doivent être passés au constructeur.\"\"\"\n",
        "\n",
        "  def __new__(cls, nom, prenom):\n",
        "    print(\"Appel de la méthode __new__ de la classe {}\".format(cls))\n",
        "    # On laisse le travail à objet\n",
        "    return object.__new__(cls, nom, prenom)\n",
        "\n",
        "  def __init__(self, nom, prenom):\n",
        "    \"\"\"Constructeur de notre personne.\"\"\"\n",
        "    print(\"Appel de la méthode __init__\")\n",
        "    self.nom = nom\n",
        "    self.prenom = prenom\n",
        "    self.age = 23\n",
        "    self.lieu_residence = \"Lyon\""
      ],
      "execution_count": 0,
      "outputs": []
    },
    {
      "cell_type": "code",
      "metadata": {
        "id": "8kwvj6DMEw02",
        "colab_type": "code",
        "outputId": "5db0dfac-2563-4c4a-98d4-159a234a8b2f",
        "colab": {
          "base_uri": "https://localhost:8080/",
          "height": 296
        }
      },
      "source": [
        "personne = Personne(\"Doe\", \"John\")"
      ],
      "execution_count": 0,
      "outputs": [
        {
          "output_type": "stream",
          "text": [
            "Appel de la méthode __new__ de la classe <class '__main__.Personne'>\n"
          ],
          "name": "stdout"
        },
        {
          "output_type": "error",
          "ename": "TypeError",
          "evalue": "ignored",
          "traceback": [
            "\u001b[0;31m---------------------------------------------------------------------------\u001b[0m",
            "\u001b[0;31mTypeError\u001b[0m                                 Traceback (most recent call last)",
            "\u001b[0;32m<ipython-input-8-b912f605d45e>\u001b[0m in \u001b[0;36m<module>\u001b[0;34m()\u001b[0m\n\u001b[0;32m----> 1\u001b[0;31m \u001b[0mpersonne\u001b[0m \u001b[0;34m=\u001b[0m \u001b[0mPersonne\u001b[0m\u001b[0;34m(\u001b[0m\u001b[0;34m\"Doe\"\u001b[0m\u001b[0;34m,\u001b[0m \u001b[0;34m\"John\"\u001b[0m\u001b[0;34m)\u001b[0m\u001b[0;34m\u001b[0m\u001b[0;34m\u001b[0m\u001b[0m\n\u001b[0m",
            "\u001b[0;32m<ipython-input-7-0563301d3c45>\u001b[0m in \u001b[0;36m__new__\u001b[0;34m(cls, nom, prenom)\u001b[0m\n\u001b[1;32m     13\u001b[0m     \u001b[0mprint\u001b[0m\u001b[0;34m(\u001b[0m\u001b[0;34m\"Appel de la méthode __new__ de la classe {}\"\u001b[0m\u001b[0;34m.\u001b[0m\u001b[0mformat\u001b[0m\u001b[0;34m(\u001b[0m\u001b[0mcls\u001b[0m\u001b[0;34m)\u001b[0m\u001b[0;34m)\u001b[0m\u001b[0;34m\u001b[0m\u001b[0;34m\u001b[0m\u001b[0m\n\u001b[1;32m     14\u001b[0m     \u001b[0;31m# On laisse le travail à objet\u001b[0m\u001b[0;34m\u001b[0m\u001b[0;34m\u001b[0m\u001b[0;34m\u001b[0m\u001b[0m\n\u001b[0;32m---> 15\u001b[0;31m     \u001b[0;32mreturn\u001b[0m \u001b[0mobject\u001b[0m\u001b[0;34m.\u001b[0m\u001b[0m__new__\u001b[0m\u001b[0;34m(\u001b[0m\u001b[0mcls\u001b[0m\u001b[0;34m,\u001b[0m \u001b[0mnom\u001b[0m\u001b[0;34m,\u001b[0m \u001b[0mprenom\u001b[0m\u001b[0;34m)\u001b[0m\u001b[0;34m\u001b[0m\u001b[0;34m\u001b[0m\u001b[0m\n\u001b[0m\u001b[1;32m     16\u001b[0m \u001b[0;34m\u001b[0m\u001b[0m\n\u001b[1;32m     17\u001b[0m   \u001b[0;32mdef\u001b[0m \u001b[0m__init__\u001b[0m\u001b[0;34m(\u001b[0m\u001b[0mself\u001b[0m\u001b[0;34m,\u001b[0m \u001b[0mnom\u001b[0m\u001b[0;34m,\u001b[0m \u001b[0mprenom\u001b[0m\u001b[0;34m)\u001b[0m\u001b[0;34m:\u001b[0m\u001b[0;34m\u001b[0m\u001b[0;34m\u001b[0m\u001b[0m\n",
            "\u001b[0;31mTypeError\u001b[0m: object() takes no parameters"
          ]
        }
      ]
    },
    {
      "cell_type": "markdown",
      "metadata": {
        "id": "yhppPioHihqP",
        "colab_type": "text"
      },
      "source": [
        "> ### End of TypeError"
      ]
    },
    {
      "cell_type": "code",
      "metadata": {
        "id": "iD-hrMSILEL8",
        "colab_type": "code",
        "colab": {}
      },
      "source": [
        "class Personne:\n",
        "    \n",
        "  \"\"\"Classe définissant une personne.\n",
        "  \n",
        "  Elle possède comme attributs :\n",
        "  nom -- le nom de la personne\n",
        "  prenom -- son prénom\n",
        "  age -- son âge\n",
        "  lieu_residence -- son lieu de résidence\n",
        "  \n",
        "  Le nom et le prénom doivent être passés au constructeur.\"\"\"\n",
        "  \n",
        "  def __new__(cls, nom, prenom):\n",
        "    print(\"Appel de la méthode __new__ de la classe {}\".format(cls))\n",
        "    # On laisse le travail à object\n",
        "    return object.__new__(cls) # iso return object.__new__(cls, nom, prenom)\n",
        "  \n",
        "  def __init__(self, nom, prenom):\n",
        "    \"\"\"Constructeur de notre personne.\"\"\"\n",
        "    print(\"Appel de la méthode __init__\")\n",
        "    self.nom = nom\n",
        "    self.prenom = prenom\n",
        "    self.age = 23\n",
        "    self.lieu_residence = \"Lyon\""
      ],
      "execution_count": 0,
      "outputs": []
    },
    {
      "cell_type": "code",
      "metadata": {
        "id": "HMO1eJOiODGL",
        "colab_type": "code",
        "outputId": "da8cafa4-d39f-4214-9a96-b60dc65e6700",
        "colab": {
          "base_uri": "https://localhost:8080/",
          "height": 50
        }
      },
      "source": [
        "personne = Personne(\"Doe\", \"John\")"
      ],
      "execution_count": 0,
      "outputs": [
        {
          "output_type": "stream",
          "text": [
            "Appel de la méthode __new__ de la classe <class '__main__.Personne'>\n",
            "Appel de la méthode __init__\n"
          ],
          "name": "stdout"
        }
      ]
    },
    {
      "cell_type": "code",
      "metadata": {
        "id": "G5vHF5l0OJeF",
        "colab_type": "code",
        "outputId": "51898978-e2b0-49e1-8cb7-513181daa147",
        "colab": {
          "base_uri": "https://localhost:8080/",
          "height": 34
        }
      },
      "source": [
        "print(object.__new__)"
      ],
      "execution_count": 0,
      "outputs": [
        {
          "output_type": "stream",
          "text": [
            "<built-in method __new__ of type object at 0x9d17a0>\n"
          ],
          "name": "stdout"
        }
      ]
    },
    {
      "cell_type": "markdown",
      "metadata": {
        "id": "0CWLb_mTi-k8",
        "colab_type": "text"
      },
      "source": [
        "## Créer une classe dynamiquement"
      ]
    },
    {
      "cell_type": "markdown",
      "metadata": {
        "id": "nBRHinxCuYAY",
        "colab_type": "text"
      },
      "source": [
        "Les classes étant des objets, elles sont toutes modelées sur une classe appelée métaclasse."
      ]
    },
    {
      "cell_type": "markdown",
      "metadata": {
        "id": "ufUwj0aQjpEe",
        "colab_type": "text"
      },
      "source": [
        "### La méthode que nous connaissons"
      ]
    },
    {
      "cell_type": "markdown",
      "metadata": {
        "id": "APEPbAFkjrIo",
        "colab_type": "text"
      },
      "source": [
        "```py\n",
        "class MaClasse:\n",
        "```"
      ]
    },
    {
      "cell_type": "code",
      "metadata": {
        "id": "k9vngtZDZiNf",
        "colab_type": "code",
        "outputId": "6308fb19-f608-4d9e-a80a-1f5fd3e43ec3",
        "colab": {
          "base_uri": "https://localhost:8080/",
          "height": 34
        }
      },
      "source": [
        "type(5)"
      ],
      "execution_count": 0,
      "outputs": [
        {
          "output_type": "execute_result",
          "data": {
            "text/plain": [
              "int"
            ]
          },
          "metadata": {
            "tags": []
          },
          "execution_count": 19
        }
      ]
    },
    {
      "cell_type": "code",
      "metadata": {
        "id": "rTt-fAYDj_Q3",
        "colab_type": "code",
        "outputId": "389da61a-537c-481f-ef09-0b574b51d7e1",
        "colab": {
          "base_uri": "https://localhost:8080/",
          "height": 34
        }
      },
      "source": [
        "type(\"une chaîne\")"
      ],
      "execution_count": 0,
      "outputs": [
        {
          "output_type": "execute_result",
          "data": {
            "text/plain": [
              "str"
            ]
          },
          "metadata": {
            "tags": []
          },
          "execution_count": 20
        }
      ]
    },
    {
      "cell_type": "code",
      "metadata": {
        "id": "emVNqJcFkDMr",
        "colab_type": "code",
        "outputId": "3b9e8276-e760-4102-d77d-ca50d93ec08a",
        "colab": {
          "base_uri": "https://localhost:8080/",
          "height": 34
        }
      },
      "source": [
        "type([1, 2, 3])"
      ],
      "execution_count": 0,
      "outputs": [
        {
          "output_type": "execute_result",
          "data": {
            "text/plain": [
              "list"
            ]
          },
          "metadata": {
            "tags": []
          },
          "execution_count": 21
        }
      ]
    },
    {
      "cell_type": "markdown",
      "metadata": {
        "id": "c6Ve2Vc1unGG",
        "colab_type": "text"
      },
      "source": [
        "À moins d'être explicitement modifiée, la métaclasse de toutes les classes est ```type```."
      ]
    },
    {
      "cell_type": "code",
      "metadata": {
        "id": "is3bhT4akIjy",
        "colab_type": "code",
        "outputId": "dfa94f1e-23dc-4476-8299-a7a59098a4dd",
        "colab": {
          "base_uri": "https://localhost:8080/",
          "height": 34
        }
      },
      "source": [
        "type(int)"
      ],
      "execution_count": 0,
      "outputs": [
        {
          "output_type": "execute_result",
          "data": {
            "text/plain": [
              "type"
            ]
          },
          "metadata": {
            "tags": []
          },
          "execution_count": 22
        }
      ]
    },
    {
      "cell_type": "code",
      "metadata": {
        "id": "IJZO2r26kKXj",
        "colab_type": "code",
        "outputId": "7249746d-6bc9-4fc0-e264-ceaab84b9b09",
        "colab": {
          "base_uri": "https://localhost:8080/",
          "height": 34
        }
      },
      "source": [
        "type(str)"
      ],
      "execution_count": 0,
      "outputs": [
        {
          "output_type": "execute_result",
          "data": {
            "text/plain": [
              "type"
            ]
          },
          "metadata": {
            "tags": []
          },
          "execution_count": 23
        }
      ]
    },
    {
      "cell_type": "code",
      "metadata": {
        "id": "rEDz92tgkS7c",
        "colab_type": "code",
        "outputId": "79fd9ddd-dc92-47c4-f764-4bf66a134d5f",
        "colab": {
          "base_uri": "https://localhost:8080/",
          "height": 34
        }
      },
      "source": [
        "type(list)"
      ],
      "execution_count": 0,
      "outputs": [
        {
          "output_type": "execute_result",
          "data": {
            "text/plain": [
              "type"
            ]
          },
          "metadata": {
            "tags": []
          },
          "execution_count": 24
        }
      ]
    },
    {
      "cell_type": "markdown",
      "metadata": {
        "id": "ErmQcAZZkshz",
        "colab_type": "text"
      },
      "source": [
        "### Créer une classe dynamiquement"
      ]
    },
    {
      "cell_type": "markdown",
      "metadata": {
        "id": "-6zfRzvbuwEW",
        "colab_type": "text"
      },
      "source": [
        "On peut utiliser ```type``` pour créer des classes dynamiquement."
      ]
    },
    {
      "cell_type": "code",
      "metadata": {
        "id": "wl2VlysykXpN",
        "colab_type": "code",
        "outputId": "f90df78d-0a5f-413f-d5ee-c2ecb2d817e4",
        "colab": {
          "base_uri": "https://localhost:8080/",
          "height": 34
        }
      },
      "source": [
        "Personne = type(\"Personne\", (), {})\n",
        "Personne"
      ],
      "execution_count": 0,
      "outputs": [
        {
          "output_type": "execute_result",
          "data": {
            "text/plain": [
              "__main__.Personne"
            ]
          },
          "metadata": {
            "tags": []
          },
          "execution_count": 25
        }
      ]
    },
    {
      "cell_type": "code",
      "metadata": {
        "id": "Uo8JCLPFk4DT",
        "colab_type": "code",
        "outputId": "9f2d5b70-4531-4e26-8140-b8f195453211",
        "colab": {
          "base_uri": "https://localhost:8080/",
          "height": 454
        }
      },
      "source": [
        "john = Personne()\n",
        "dir(john)"
      ],
      "execution_count": 0,
      "outputs": [
        {
          "output_type": "execute_result",
          "data": {
            "text/plain": [
              "['__class__',\n",
              " '__delattr__',\n",
              " '__dict__',\n",
              " '__dir__',\n",
              " '__doc__',\n",
              " '__eq__',\n",
              " '__format__',\n",
              " '__ge__',\n",
              " '__getattribute__',\n",
              " '__gt__',\n",
              " '__hash__',\n",
              " '__init__',\n",
              " '__init_subclass__',\n",
              " '__le__',\n",
              " '__lt__',\n",
              " '__module__',\n",
              " '__ne__',\n",
              " '__new__',\n",
              " '__reduce__',\n",
              " '__reduce_ex__',\n",
              " '__repr__',\n",
              " '__setattr__',\n",
              " '__sizeof__',\n",
              " '__str__',\n",
              " '__subclasshook__',\n",
              " '__weakref__']"
            ]
          },
          "metadata": {
            "tags": []
          },
          "execution_count": 26
        }
      ]
    },
    {
      "cell_type": "code",
      "metadata": {
        "id": "nZGTMbRWl0Ib",
        "colab_type": "code",
        "colab": {}
      },
      "source": [
        "def creer_personne(personne, nom, prenom):\n",
        "  \"\"\"La fonction qui jouera le rôlr de constructeur pour notre classe Personne.\n",
        "\n",
        "  Elle prend en paramètre, outre la personne :\n",
        "  nom -- son nom\n",
        "  prenom -- son prenom\"\"\"\n",
        "\n",
        "  personne.nom = nom\n",
        "  personne.prenom = prenom\n",
        "  personne.age = 21\n",
        "  personne.lieu_residence = \"Lyon\"\n",
        "\n",
        "def presenter_personne(personne):\n",
        "  \"\"\"Fonction présentant la personne.\n",
        "\n",
        "  Elle affiche son prénom et son nom\"\"\"\n",
        "\n",
        "  print(\"{} {}\".format(personne.prenom, personne.nom))\n",
        "\n",
        "# Dictionnaire des méthodes\n",
        "methodes = {\n",
        "    \"__init__\": creer_personne,\n",
        "    \"presenter\": presenter_personne,\n",
        "}\n",
        "\n",
        "# Création dynamique de la classe\n",
        "Personne = type(\"Personne\", (), methodes)"
      ],
      "execution_count": 0,
      "outputs": []
    },
    {
      "cell_type": "code",
      "metadata": {
        "id": "rJHmvH8cnZf_",
        "colab_type": "code",
        "outputId": "4c848554-50a9-45f2-8a02-78244b2ee57d",
        "colab": {
          "base_uri": "https://localhost:8080/",
          "height": 34
        }
      },
      "source": [
        "john = Personne(\"Doe\", \"John\")\n",
        "john.nom"
      ],
      "execution_count": 0,
      "outputs": [
        {
          "output_type": "execute_result",
          "data": {
            "text/plain": [
              "'Doe'"
            ]
          },
          "metadata": {
            "tags": []
          },
          "execution_count": 28
        }
      ]
    },
    {
      "cell_type": "code",
      "metadata": {
        "id": "Nd6cFhMqnsM4",
        "colab_type": "code",
        "outputId": "59c12825-cbc7-4da0-bece-973ac22bd31e",
        "colab": {
          "base_uri": "https://localhost:8080/",
          "height": 34
        }
      },
      "source": [
        "john.prenom\n",
        "'John'"
      ],
      "execution_count": 0,
      "outputs": [
        {
          "output_type": "execute_result",
          "data": {
            "text/plain": [
              "'John'"
            ]
          },
          "metadata": {
            "tags": []
          },
          "execution_count": 29
        }
      ]
    },
    {
      "cell_type": "code",
      "metadata": {
        "id": "v0_qKnW_nwVc",
        "colab_type": "code",
        "outputId": "2e10d070-4a27-4df7-f99e-74bbcb2e64ed",
        "colab": {
          "base_uri": "https://localhost:8080/",
          "height": 34
        }
      },
      "source": [
        "john.age"
      ],
      "execution_count": 0,
      "outputs": [
        {
          "output_type": "execute_result",
          "data": {
            "text/plain": [
              "21"
            ]
          },
          "metadata": {
            "tags": []
          },
          "execution_count": 30
        }
      ]
    },
    {
      "cell_type": "code",
      "metadata": {
        "id": "uha21Oc7nyDy",
        "colab_type": "code",
        "outputId": "59b0547e-6b79-48c9-c3c7-8d5222521443",
        "colab": {
          "base_uri": "https://localhost:8080/",
          "height": 34
        }
      },
      "source": [
        "john.presenter()"
      ],
      "execution_count": 0,
      "outputs": [
        {
          "output_type": "stream",
          "text": [
            "John Doe\n"
          ],
          "name": "stdout"
        }
      ]
    },
    {
      "cell_type": "markdown",
      "metadata": {
        "id": "mkylLLHfoqKC",
        "colab_type": "text"
      },
      "source": [
        "## Définition d'une métaclasse"
      ]
    },
    {
      "cell_type": "markdown",
      "metadata": {
        "id": "CJD9Z_0nothT",
        "colab_type": "text"
      },
      "source": [
        "## La méthode ```__new__```"
      ]
    },
    {
      "cell_type": "markdown",
      "metadata": {
        "id": "vhQzsMT4vQWw",
        "colab_type": "text"
      },
      "source": [
        "On peut faire hériter une classe de ```type``` pour créer une nouvelle métaclasse."
      ]
    },
    {
      "cell_type": "code",
      "metadata": {
        "id": "8g5HVp6-n09D",
        "colab_type": "code",
        "colab": {}
      },
      "source": [
        "class MaMetaClasse(type):\n",
        "\n",
        "  \"\"\"Exemple d'une métaclasse.\"\"\"\n",
        "\n",
        "  def __new__(metacls, nom, bases, dict):\n",
        "    \"\"\"Création de notre classe.\"\"\"\n",
        "    print(\"On crée la classe {}\".format(nom))\n",
        "    return type.__new__(metacls, nom, bases, dict)"
      ],
      "execution_count": 0,
      "outputs": []
    },
    {
      "cell_type": "markdown",
      "metadata": {
        "id": "Nbu2X5urvvqX",
        "colab_type": "text"
      },
      "source": [
        "Dans le corps d'une classe, pour spécifier sa métaclasse, on exploite la syntaxe suivante : ```class MaClasse(metaclass=NomDeLaMetaClasse):```."
      ]
    },
    {
      "cell_type": "code",
      "metadata": {
        "id": "k5Xjl8ltppe0",
        "colab_type": "code",
        "outputId": "829a9ce5-976f-4f32-c120-1abb83a4835a",
        "colab": {
          "base_uri": "https://localhost:8080/",
          "height": 34
        }
      },
      "source": [
        "class MaClasse(metaclass=MaMetaClasse):\n",
        "  pass"
      ],
      "execution_count": 0,
      "outputs": [
        {
          "output_type": "stream",
          "text": [
            "On crée la classe MaClasse\n"
          ],
          "name": "stdout"
        }
      ]
    },
    {
      "cell_type": "markdown",
      "metadata": {
        "id": "AYkVD0lFrEuU",
        "colab_type": "text"
      },
      "source": [
        "```py\n",
        "{\n",
        "    \"Widget\": Widget,\n",
        "    \"Bouton\": Bouton,\n",
        "    \"CaseACocher\": CaseACocher,\n",
        "    \"Menu\": Menu,\n",
        "    \"Cadre\": Cadre,\n",
        "    ...\n",
        "}\n",
        "```"
      ]
    },
    {
      "cell_type": "code",
      "metadata": {
        "id": "jIPmgoLYp0Aw",
        "colab_type": "code",
        "colab": {}
      },
      "source": [
        "trace_classes = {} # Notre dictionnaire vide\n",
        "\n",
        "class MetaWidget(type):\n",
        "\n",
        "  \"\"\"Notre métaclasse pour nos Widgets.\n",
        "\n",
        "  Elle hérite de type, puisque c'est une métaclasse.\n",
        "  Elle va écrire dans le dictionnaire trace_classes à chaque fois qu'une classe \n",
        "  sera créée, utilisant cette métaclasse naturellement.\"\"\"\n",
        "\n",
        "  def __init__(cls, nom, bases, dict):\n",
        "    \"\"\"Constructeur de notre métaclasse, appelé quand on crée une classe.\"\"\"\n",
        "    type.__init__(cls, nom, bases, dict)\n",
        "    trace_classes[nom] = cls"
      ],
      "execution_count": 0,
      "outputs": []
    },
    {
      "cell_type": "code",
      "metadata": {
        "id": "102WZS0OrBJ4",
        "colab_type": "code",
        "colab": {}
      },
      "source": [
        "class Widget(metaclass=MetaWidget):\n",
        "\n",
        "  \"\"\"Classe mère de tous nos widgets.\"\"\"\n",
        "\n",
        "  pass"
      ],
      "execution_count": 0,
      "outputs": []
    },
    {
      "cell_type": "code",
      "metadata": {
        "id": "63aQYEOHsjcI",
        "colab_type": "code",
        "outputId": "10e9c955-2a96-4427-9985-b674d530bc57",
        "colab": {
          "base_uri": "https://localhost:8080/",
          "height": 34
        }
      },
      "source": [
        "trace_classes"
      ],
      "execution_count": 0,
      "outputs": [
        {
          "output_type": "execute_result",
          "data": {
            "text/plain": [
              "{'Widget': __main__.Widget}"
            ]
          },
          "metadata": {
            "tags": []
          },
          "execution_count": 37
        }
      ]
    },
    {
      "cell_type": "code",
      "metadata": {
        "id": "aUU2USdWsmD-",
        "colab_type": "code",
        "colab": {}
      },
      "source": [
        "class bouton(Widget):\n",
        "\n",
        "  \"\"\"Une classe définissant le sidget bouton.\"\"\"\n",
        "\n",
        "  pass"
      ],
      "execution_count": 0,
      "outputs": []
    },
    {
      "cell_type": "markdown",
      "metadata": {
        "id": "ZYcjDZTYv30t",
        "colab_type": "text"
      },
      "source": [
        "[Source](https://openclassrooms.com/fr/courses/235344-apprenez-a-programmer-en-python/233659-decouvrez-les-metaclasses)"
      ]
    }
  ]
}