{
  "nbformat": 4,
  "nbformat_minor": 0,
  "metadata": {
    "colab": {
      "name": "la-portee-des-variables-et-les-references.ipynb",
      "provenance": [],
      "authorship_tag": "ABX9TyMARCE6BCDku2lIypJP0DFV"
    },
    "kernelspec": {
      "name": "python3",
      "display_name": "Python 3"
    }
  },
  "cells": [
    {
      "cell_type": "markdown",
      "metadata": {
        "id": "Vt8spScpfEgu",
        "colab_type": "text"
      },
      "source": [
        "# Découvrez la portée des variables et les références\n",
        "\n",
        "[![badge](https://img.shields.io/badge/variables-neobook-579ACA.svg?logo=data:image/png;base64,iVBORw0KGgoAAAANSUhEUgAAAFkAAABZCAMAAABi1XidAAAB8lBMVEX///9XmsrmZYH1olJXmsr1olJXmsrmZYH1olJXmsr1olJXmsrmZYH1olL1olJXmsr1olJXmsrmZYH1olL1olJXmsrmZYH1olJXmsr1olL1olJXmsrmZYH1olL1olJXmsrmZYH1olL1olL0nFf1olJXmsrmZYH1olJXmsq8dZb1olJXmsrmZYH1olJXmspXmspXmsr1olL1olJXmsrmZYH1olJXmsr1olL1olJXmsrmZYH1olL1olLeaIVXmsrmZYH1olL1olL1olJXmsrmZYH1olLna31Xmsr1olJXmsr1olJXmsrmZYH1olLqoVr1olJXmsr1olJXmsrmZYH1olL1olKkfaPobXvviGabgadXmsqThKuofKHmZ4Dobnr1olJXmsr1olJXmspXmsr1olJXmsrfZ4TuhWn1olL1olJXmsqBi7X1olJXmspZmslbmMhbmsdemsVfl8ZgmsNim8Jpk8F0m7R4m7F5nLB6jbh7jbiDirOEibOGnKaMhq+PnaCVg6qWg6qegKaff6WhnpKofKGtnomxeZy3noG6dZi+n3vCcpPDcpPGn3bLb4/Mb47UbIrVa4rYoGjdaIbeaIXhoWHmZYHobXvpcHjqdHXreHLroVrsfG/uhGnuh2bwj2Hxk17yl1vzmljzm1j0nlX1olL3AJXWAAAAbXRSTlMAEBAQHx8gICAuLjAwMDw9PUBAQEpQUFBXV1hgYGBkcHBwcXl8gICAgoiIkJCQlJicnJ2goKCmqK+wsLC4usDAwMjP0NDQ1NbW3Nzg4ODi5+3v8PDw8/T09PX29vb39/f5+fr7+/z8/Pz9/v7+zczCxgAABC5JREFUeAHN1ul3k0UUBvCb1CTVpmpaitAGSLSpSuKCLWpbTKNJFGlcSMAFF63iUmRccNG6gLbuxkXU66JAUef/9LSpmXnyLr3T5AO/rzl5zj137p136BISy44fKJXuGN/d19PUfYeO67Znqtf2KH33Id1psXoFdW30sPZ1sMvs2D060AHqws4FHeJojLZqnw53cmfvg+XR8mC0OEjuxrXEkX5ydeVJLVIlV0e10PXk5k7dYeHu7Cj1j+49uKg7uLU61tGLw1lq27ugQYlclHC4bgv7VQ+TAyj5Zc/UjsPvs1sd5cWryWObtvWT2EPa4rtnWW3JkpjggEpbOsPr7F7EyNewtpBIslA7p43HCsnwooXTEc3UmPmCNn5lrqTJxy6nRmcavGZVt/3Da2pD5NHvsOHJCrdc1G2r3DITpU7yic7w/7Rxnjc0kt5GC4djiv2Sz3Fb2iEZg41/ddsFDoyuYrIkmFehz0HR2thPgQqMyQYb2OtB0WxsZ3BeG3+wpRb1vzl2UYBog8FfGhttFKjtAclnZYrRo9ryG9uG/FZQU4AEg8ZE9LjGMzTmqKXPLnlWVnIlQQTvxJf8ip7VgjZjyVPrjw1te5otM7RmP7xm+sK2Gv9I8Gi++BRbEkR9EBw8zRUcKxwp73xkaLiqQb+kGduJTNHG72zcW9LoJgqQxpP3/Tj//c3yB0tqzaml05/+orHLksVO+95kX7/7qgJvnjlrfr2Ggsyx0eoy9uPzN5SPd86aXggOsEKW2Prz7du3VID3/tzs/sSRs2w7ovVHKtjrX2pd7ZMlTxAYfBAL9jiDwfLkq55Tm7ifhMlTGPyCAs7RFRhn47JnlcB9RM5T97ASuZXIcVNuUDIndpDbdsfrqsOppeXl5Y+XVKdjFCTh+zGaVuj0d9zy05PPK3QzBamxdwtTCrzyg/2Rvf2EstUjordGwa/kx9mSJLr8mLLtCW8HHGJc2R5hS219IiF6PnTusOqcMl57gm0Z8kanKMAQg0qSyuZfn7zItsbGyO9QlnxY0eCuD1XL2ys/MsrQhltE7Ug0uFOzufJFE2PxBo/YAx8XPPdDwWN0MrDRYIZF0mSMKCNHgaIVFoBbNoLJ7tEQDKxGF0kcLQimojCZopv0OkNOyWCCg9XMVAi7ARJzQdM2QUh0gmBozjc3Skg6dSBRqDGYSUOu66Zg+I2fNZs/M3/f/Grl/XnyF1Gw3VKCez0PN5IUfFLqvgUN4C0qNqYs5YhPL+aVZYDE4IpUk57oSFnJm4FyCqqOE0jhY2SMyLFoo56zyo6becOS5UVDdj7Vih0zp+tcMhwRpBeLyqtIjlJKAIZSbI8SGSF3k0pA3mR5tHuwPFoa7N7reoq2bqCsAk1HqCu5uvI1n6JuRXI+S1Mco54YmYTwcn6Aeic+kssXi8XpXC4V3t7/ADuTNKaQJdScAAAAAElFTkSuQmCC)](https://mybinder.org/v2/gh/neohack22/Software_Engineering/apprenez-a-programmer-en-python/?filepath=la_portee_des_variables_et_les_references.ipynb)"
      ]
    },
    {
      "cell_type": "markdown",
      "metadata": {
        "id": "-ILWXsnzhYIo",
        "colab_type": "text"
      },
      "source": [
        "## La portée des variables"
      ]
    },
    {
      "cell_type": "markdown",
      "metadata": {
        "id": "oy3e8NN7h2Nn",
        "colab_type": "text"
      },
      "source": [
        "### Dans nos fonctions, quelles variables sont accessibles ?"
      ]
    },
    {
      "cell_type": "markdown",
      "metadata": {
        "id": "olOoAthlPQ8-",
        "colab_type": "text"
      },
      "source": [
        "Les variables locales définies avant l'appel d'une fonction seront accessibles, depuis le corps de la fonction, en lecture seule."
      ]
    },
    {
      "cell_type": "code",
      "metadata": {
        "id": "Sx-lzISZerG8",
        "colab_type": "code",
        "colab": {
          "base_uri": "https://localhost:8080/",
          "height": 34
        },
        "outputId": "781aec50-9fda-4cfa-bbda-e451c6e2711b"
      },
      "source": [
        "a = 5\n",
        "def print_a():\n",
        "  \"\"\"Fonction chargée d'afficher la variable a.\n",
        "  Cette variable a n'est pas passée en paramètre de la fonction.\n",
        "  On suppose qu'elle a été créée en dehors de la fonction, on veut voir\n",
        "  si elle est accessible depuis le corps de la fonction\"\"\"\n",
        "\n",
        "  print(\"La variable a = {0}.\".format(a))\n",
        "\n",
        "print_a()"
      ],
      "execution_count": 2,
      "outputs": [
        {
          "output_type": "stream",
          "text": [
            "La variable a = 5.\n"
          ],
          "name": "stdout"
        }
      ]
    },
    {
      "cell_type": "code",
      "metadata": {
        "id": "KLrW0yS44K2d",
        "colab_type": "code",
        "colab": {
          "base_uri": "https://localhost:8080/",
          "height": 34
        },
        "outputId": "55518fc6-d516-4816-bf0e-8210ec329bd6"
      },
      "source": [
        "a = 8\n",
        "print_a()"
      ],
      "execution_count": 3,
      "outputs": [
        {
          "output_type": "stream",
          "text": [
            "La variable a = 8.\n"
          ],
          "name": "stdout"
        }
      ]
    },
    {
      "cell_type": "markdown",
      "metadata": {
        "id": "OjpsBtjkFBud",
        "colab_type": "text"
      },
      "source": [
        "### La portée de nos variables"
      ]
    },
    {
      "cell_type": "markdown",
      "metadata": {
        "id": "kwMOFycyFNo8",
        "colab_type": "text"
      },
      "source": [
        "#### Qu'advient-il des variables définies dans un corps de fonction ?"
      ]
    },
    {
      "cell_type": "markdown",
      "metadata": {
        "id": "ghiJ-ZEsPK1h",
        "colab_type": "text"
      },
      "source": [
        "Une variable locale définie dans une fonction sera supprimée après l'exécution de cette fonction.\n",
        "\n",
        "On peut cependant appeler les attributs et méthodes d'un objet pour le modifier durablement."
      ]
    },
    {
      "cell_type": "code",
      "metadata": {
        "id": "HtmmFSj3FQn8",
        "colab_type": "code",
        "colab": {}
      },
      "source": [
        "def set_var(nouvelle_valeur):\n",
        "  \"\"\"Fonction nous permettant de tester la portée des variables\n",
        "  définies dans notre corps de fonction\"\"\"\n",
        "\n",
        "  # On essaye d'afficher la variable var, si elle existe\n",
        "  try:\n",
        "    print(\"Avant l'affectation, notre variable var vaut {0}.\".format(var))\n",
        "  except NameError:\n",
        "    print(\"La variable var n'existe pas encore.\")\n",
        "  var = nouvelle_valeur\n",
        "  print(\"Après l'affectation, notre variable var vaut {0}.\".format(var))"
      ],
      "execution_count": 0,
      "outputs": []
    },
    {
      "cell_type": "code",
      "metadata": {
        "id": "ZzTRZNKtGVUU",
        "colab_type": "code",
        "colab": {
          "base_uri": "https://localhost:8080/",
          "height": 50
        },
        "outputId": "758be826-d6de-4469-e9cc-d03b4ac90dc5"
      },
      "source": [
        "set_var(5)"
      ],
      "execution_count": 5,
      "outputs": [
        {
          "output_type": "stream",
          "text": [
            "La variable var n'existe pas encore.\n",
            "Après l'affectation, notre variable var vaut 5.\n"
          ],
          "name": "stdout"
        }
      ]
    },
    {
      "cell_type": "code",
      "metadata": {
        "id": "5A1IU9osGaXN",
        "colab_type": "code",
        "colab": {
          "base_uri": "https://localhost:8080/",
          "height": 162
        },
        "outputId": "61a65762-d3fa-4335-e3c0-61fc96d2a706"
      },
      "source": [
        "var"
      ],
      "execution_count": 6,
      "outputs": [
        {
          "output_type": "error",
          "ename": "NameError",
          "evalue": "ignored",
          "traceback": [
            "\u001b[0;31m---------------------------------------------------------------------------\u001b[0m",
            "\u001b[0;31mNameError\u001b[0m                                 Traceback (most recent call last)",
            "\u001b[0;32m<ipython-input-6-84ddba356ca3>\u001b[0m in \u001b[0;36m<module>\u001b[0;34m()\u001b[0m\n\u001b[0;32m----> 1\u001b[0;31m \u001b[0mvar\u001b[0m\u001b[0;34m\u001b[0m\u001b[0;34m\u001b[0m\u001b[0m\n\u001b[0m",
            "\u001b[0;31mNameError\u001b[0m: name 'var' is not defined"
          ]
        }
      ]
    },
    {
      "cell_type": "code",
      "metadata": {
        "id": "OWOC9o2AHYej",
        "colab_type": "code",
        "colab": {
          "base_uri": "https://localhost:8080/",
          "height": 34
        },
        "outputId": "2545a203-2eea-40ba-accf-257851f8d880"
      },
      "source": [
        "def ajouter(liste, valeur_a_ajouter):\n",
        "  \"\"\"Cette fonction insère à la fin de la liste la valeur que l'on veut\n",
        "  ajouter\"\"\"\n",
        "  liste.append(valeur_a_ajouter)\n",
        "\n",
        "ma_liste=['a', 'e', 'i']\n",
        "ajouter(ma_liste, 'o')\n",
        "ma_liste"
      ],
      "execution_count": 7,
      "outputs": [
        {
          "output_type": "execute_result",
          "data": {
            "text/plain": [
              "['a', 'e', 'i', 'o']"
            ]
          },
          "metadata": {
            "tags": []
          },
          "execution_count": 7
        }
      ]
    },
    {
      "cell_type": "markdown",
      "metadata": {
        "id": "1_4WJjzZIcAL",
        "colab_type": "text"
      },
      "source": [
        "#### Et les références, dans tout cela ?"
      ]
    },
    {
      "cell_type": "code",
      "metadata": {
        "id": "EV3bi3wmJG8U",
        "colab_type": "code",
        "colab": {
          "base_uri": "https://localhost:8080/",
          "height": 34
        },
        "outputId": "30026150-7a1f-4643-eb2a-d52471f134b2"
      },
      "source": [
        "ma_liste1 = [1, 2, 3]\n",
        "ma_liste2 = ma_liste1\n",
        "ma_liste2.append(4)\n",
        "print(ma_liste2)"
      ],
      "execution_count": 8,
      "outputs": [
        {
          "output_type": "stream",
          "text": [
            "[1, 2, 3, 4]\n"
          ],
          "name": "stdout"
        }
      ]
    },
    {
      "cell_type": "code",
      "metadata": {
        "id": "9TebR_ZHJezD",
        "colab_type": "code",
        "colab": {
          "base_uri": "https://localhost:8080/",
          "height": 34
        },
        "outputId": "0b7031c7-c656-46f3-af2a-23a55e7b1bfc"
      },
      "source": [
        "print(ma_liste1)"
      ],
      "execution_count": 9,
      "outputs": [
        {
          "output_type": "stream",
          "text": [
            "[1, 2, 3, 4]\n"
          ],
          "name": "stdout"
        }
      ]
    },
    {
      "cell_type": "code",
      "metadata": {
        "id": "BWMOsFfOKVzv",
        "colab_type": "code",
        "colab": {
          "base_uri": "https://localhost:8080/",
          "height": 34
        },
        "outputId": "8832bb22-4137-4f6c-867c-4a68aa058979"
      },
      "source": [
        "ma_liste1 = [1, 2, 3]\n",
        "ma_liste2 = list(ma_liste1)\n",
        "# Cela revient à copier le contenu de ma_liste1\n",
        "ma_liste2.append(4)\n",
        "print(ma_liste2)"
      ],
      "execution_count": 10,
      "outputs": [
        {
          "output_type": "stream",
          "text": [
            "[1, 2, 3, 4]\n"
          ],
          "name": "stdout"
        }
      ]
    },
    {
      "cell_type": "code",
      "metadata": {
        "id": "hkVmb33DKuvR",
        "colab_type": "code",
        "colab": {
          "base_uri": "https://localhost:8080/",
          "height": 34
        },
        "outputId": "a304e8f1-dee2-443c-bf65-38fb188a30da"
      },
      "source": [
        "print(ma_liste1)"
      ],
      "execution_count": 11,
      "outputs": [
        {
          "output_type": "stream",
          "text": [
            "[1, 2, 3]\n"
          ],
          "name": "stdout"
        }
      ]
    },
    {
      "cell_type": "code",
      "metadata": {
        "id": "AhdYrewvLBCh",
        "colab_type": "code",
        "colab": {
          "base_uri": "https://localhost:8080/",
          "height": 34
        },
        "outputId": "bf306979-bd3b-41e8-922b-939fe64ddff0"
      },
      "source": [
        "ma_liste1 = [1, 2]\n",
        "ma_liste2 = [1, 2]\n",
        "ma_liste1 == ma_liste2 # On compare le contenu des listes"
      ],
      "execution_count": 13,
      "outputs": [
        {
          "output_type": "execute_result",
          "data": {
            "text/plain": [
              "True"
            ]
          },
          "metadata": {
            "tags": []
          },
          "execution_count": 13
        }
      ]
    },
    {
      "cell_type": "code",
      "metadata": {
        "id": "UsP2GYq0LT85",
        "colab_type": "code",
        "colab": {
          "base_uri": "https://localhost:8080/",
          "height": 34
        },
        "outputId": "2b9a632f-d9d2-4556-9065-b8f47ad83c66"
      },
      "source": [
        "ma_liste1 is ma_liste2 # On compare leur référence"
      ],
      "execution_count": 14,
      "outputs": [
        {
          "output_type": "execute_result",
          "data": {
            "text/plain": [
              "False"
            ]
          },
          "metadata": {
            "tags": []
          },
          "execution_count": 14
        }
      ]
    },
    {
      "cell_type": "markdown",
      "metadata": {
        "id": "lVeSBDwSLgRr",
        "colab_type": "text"
      },
      "source": [
        "## Les variables globales"
      ]
    },
    {
      "cell_type": "markdown",
      "metadata": {
        "id": "QDY0Y2f5OzBK",
        "colab_type": "text"
      },
      "source": [
        "Les variables globales se définissent à l'aide du mot-clé ```global``` suivi du nom de la variable préalablement créée."
      ]
    },
    {
      "cell_type": "markdown",
      "metadata": {
        "id": "o7dg5JVRMCWC",
        "colab_type": "text"
      },
      "source": [
        "### Utiliser concrètement les variables globales"
      ]
    },
    {
      "cell_type": "markdown",
      "metadata": {
        "id": "5Icp_B1qOrmI",
        "colab_type": "text"
      },
      "source": [
        "Les variables globales peuvent être modifiées depuis le corps d'une fonction (à utiliser avec prudence)."
      ]
    },
    {
      "cell_type": "code",
      "metadata": {
        "id": "RbPqROoGNjQn",
        "colab_type": "code",
        "colab": {
          "base_uri": "https://localhost:8080/",
          "height": 34
        },
        "outputId": "0dcd56b9-d6f1-4e7d-baab-7c162e2cee70"
      },
      "source": [
        "i = 4 # Une variable, nommée i, contenant un entier\n",
        "def inc_i():\n",
        "  \"\"\"Fonction chargée d'incrémenter i de 1\"\"\"\n",
        "  global i # Python recherche i en dehors de l'espace local de la fonction\n",
        "  i += 1\n",
        "\n",
        "i"
      ],
      "execution_count": 15,
      "outputs": [
        {
          "output_type": "execute_result",
          "data": {
            "text/plain": [
              "4"
            ]
          },
          "metadata": {
            "tags": []
          },
          "execution_count": 15
        }
      ]
    },
    {
      "cell_type": "code",
      "metadata": {
        "id": "9TEsrMm4N90H",
        "colab_type": "code",
        "colab": {
          "base_uri": "https://localhost:8080/",
          "height": 34
        },
        "outputId": "42aa218e-1cb6-47c2-fa45-57d3eb9d743f"
      },
      "source": [
        "inc_i()\n",
        "i"
      ],
      "execution_count": 16,
      "outputs": [
        {
          "output_type": "execute_result",
          "data": {
            "text/plain": [
              "5"
            ]
          },
          "metadata": {
            "tags": []
          },
          "execution_count": 16
        }
      ]
    },
    {
      "cell_type": "markdown",
      "metadata": {
        "id": "EGdehSXhfRXB",
        "colab_type": "text"
      },
      "source": [
        "[Source](https://openclassrooms.com/fr/courses/235344-apprenez-a-programmer-en-python/232431-utilisez-des-fichiers)"
      ]
    }
  ]
}