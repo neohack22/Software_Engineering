{
  "nbformat": 4,
  "nbformat_minor": 0,
  "metadata": {
    "colab": {
      "name": "definissez-des-proprietes.ipynb",
      "provenance": [],
      "authorship_tag": "ABX9TyMUmkEQqpEko9TLoKdF+iZq",
      "include_colab_link": true
    },
    "kernelspec": {
      "name": "python3",
      "display_name": "Python 3"
    }
  },
  "cells": [
    {
      "cell_type": "markdown",
      "metadata": {
        "id": "view-in-github",
        "colab_type": "text"
      },
      "source": [
        "<a href=\"https://colab.research.google.com/github/neohack22/Software_Engineering/blob/apprenez-a-programmer-en-python/definissez_des_proprietes.ipynb\" target=\"_parent\"><img src=\"https://colab.research.google.com/assets/colab-badge.svg\" alt=\"Open In Colab\"/></a>"
      ]
    },
    {
      "cell_type": "markdown",
      "metadata": {
        "id": "NipTk9wW95rX",
        "colab_type": "text"
      },
      "source": [
        "# Les propriétés en action"
      ]
    },
    {
      "cell_type": "markdown",
      "metadata": {
        "id": "p3cERuhJGzK9",
        "colab_type": "text"
      },
      "source": [
        "Les propriétés permettent de contrôler l'accès à certains attributs d'une instance."
      ]
    },
    {
      "cell_type": "markdown",
      "metadata": {
        "id": "-JkfyvjKG6uf",
        "colab_type": "text"
      },
      "source": [
        "Elles se définissent dans le corps de la classe en suivant cette syntaxe : ```nom_propriete = property(methode_accesseur, methode_mutateur, methode_suppression, methode_aide)```"
      ]
    },
    {
      "cell_type": "code",
      "metadata": {
        "id": "l-t2Ro9W94OU",
        "colab_type": "code",
        "colab": {}
      },
      "source": [
        "class Personne:\n",
        "  \"\"\"Classe définissant une personne caractérisée par :\n",
        "  - son nom ;\n",
        "  - son prénom ;\n",
        "  - son âge ;\n",
        "  - son lieu de résidence\"\"\"\n",
        "\n",
        "  def __init__(self, nom, prenom):\n",
        "    \"\"\"Constructeur de notre classe\"\"\"\n",
        "    self.nom = nom\n",
        "    self.prenom = prenom\n",
        "    self.age = 33\n",
        "    self._lieu_residence = \"Paris\" # Notez le souligné _ devant le nom\n",
        "\n",
        "  def _get_lieu_residence(self):\n",
        "    \"\"\"Méthode qui sera appelée quand on souhaitera accéder en lecture\n",
        "    à l'attribut 'lieu_residence'\"\"\"\n",
        "\n",
        "    print(\"On accède à l'attribut lieu_residence !\")\n",
        "    return self._lieu_residence\n",
        "\n",
        "  def _set_lieu_residence(self, nouvelle_residence):\n",
        "    \"\"\"Méthode appelée quand on souhaite modifier le lieu de résidence\"\"\"\n",
        "    print(\"Attention, il semble que {} déménage à {}.\".format(\n",
        "        self.prenom, nouvelle_residence))\n",
        "    self._lieu_residence = nouvelle_residence\n",
        "  # On dit à Python que l'attribut lieu_residence pointe vers une propriété\n",
        "  lieu_residence = property(_get_lieu_residence, _set_lieu_residence)"
      ],
      "execution_count": 0,
      "outputs": []
    },
    {
      "cell_type": "markdown",
      "metadata": {
        "id": "yC02zh6EIqYo",
        "colab_type": "text"
      },
      "source": [
        "Chacun des paramètres à passer àpropertyest optionnel."
      ]
    },
    {
      "cell_type": "code",
      "metadata": {
        "id": "Fx_THg1CFLlM",
        "colab_type": "code",
        "colab": {
          "base_uri": "https://localhost:8080/",
          "height": 34
        },
        "outputId": "dc0d16a7-5c3b-4bab-ea73-b576ef860040"
      },
      "source": [
        "jean = Personne(\"Micado\", \"Jean\")\n",
        "jean.nom"
      ],
      "execution_count": 7,
      "outputs": [
        {
          "output_type": "execute_result",
          "data": {
            "text/plain": [
              "'Micado'"
            ]
          },
          "metadata": {
            "tags": []
          },
          "execution_count": 7
        }
      ]
    },
    {
      "cell_type": "code",
      "metadata": {
        "id": "kXNt6vWtFVTQ",
        "colab_type": "code",
        "colab": {
          "base_uri": "https://localhost:8080/",
          "height": 34
        },
        "outputId": "81bf074b-3244-4186-d2fd-24ed9e8a119b"
      },
      "source": [
        "jean.prenom"
      ],
      "execution_count": 8,
      "outputs": [
        {
          "output_type": "execute_result",
          "data": {
            "text/plain": [
              "'Jean'"
            ]
          },
          "metadata": {
            "tags": []
          },
          "execution_count": 8
        }
      ]
    },
    {
      "cell_type": "code",
      "metadata": {
        "id": "VdnqgNP_FZWQ",
        "colab_type": "code",
        "colab": {
          "base_uri": "https://localhost:8080/",
          "height": 34
        },
        "outputId": "cc0be42c-eed1-4ae3-b739-857f9338e3ff"
      },
      "source": [
        "jean.age"
      ],
      "execution_count": 9,
      "outputs": [
        {
          "output_type": "execute_result",
          "data": {
            "text/plain": [
              "33"
            ]
          },
          "metadata": {
            "tags": []
          },
          "execution_count": 9
        }
      ]
    },
    {
      "cell_type": "markdown",
      "metadata": {
        "id": "woq4oMKCHO-a",
        "colab_type": "text"
      },
      "source": [
        "On y fait appel ensuite en écrivant ```objet.nom_propriete```comme pour n'importe quel attribut."
      ]
    },
    {
      "cell_type": "code",
      "metadata": {
        "id": "gdl3JzjNFa5Y",
        "colab_type": "code",
        "colab": {
          "base_uri": "https://localhost:8080/",
          "height": 50
        },
        "outputId": "3fef8d6c-bb13-44ed-cd0f-a7b9b1f0e6a5"
      },
      "source": [
        "jean.lieu_residence"
      ],
      "execution_count": 10,
      "outputs": [
        {
          "output_type": "stream",
          "text": [
            "On accède à l'attribut lieu_residence !\n"
          ],
          "name": "stdout"
        },
        {
          "output_type": "execute_result",
          "data": {
            "text/plain": [
              "'Paris'"
            ]
          },
          "metadata": {
            "tags": []
          },
          "execution_count": 10
        }
      ]
    },
    {
      "cell_type": "markdown",
      "metadata": {
        "id": "yhKSxm2MIfB5",
        "colab_type": "text"
      },
      "source": [
        "Si l'on souhaite modifier l'attribut, c'est la méthode mutateur, si elle est définie, qui est appelée."
      ]
    },
    {
      "cell_type": "code",
      "metadata": {
        "id": "KOeke_ASFdbe",
        "colab_type": "code",
        "colab": {
          "base_uri": "https://localhost:8080/",
          "height": 34
        },
        "outputId": "edfe48ca-c816-4c34-ae65-724c1d78ede7"
      },
      "source": [
        "jean.lieu_residence = \"Berlin\""
      ],
      "execution_count": 11,
      "outputs": [
        {
          "output_type": "stream",
          "text": [
            "Attention, il semble que Jean déménage à Berlin.\n"
          ],
          "name": "stdout"
        }
      ]
    },
    {
      "cell_type": "markdown",
      "metadata": {
        "id": "dOPTipFLIbgH",
        "colab_type": "text"
      },
      "source": [
        "Si l'on souhaite juste lire l'attribut, c'est la méthode définie comme accesseur qui est appelée."
      ]
    },
    {
      "cell_type": "code",
      "metadata": {
        "id": "xW0QuAOdGBjp",
        "colab_type": "code",
        "colab": {
          "base_uri": "https://localhost:8080/",
          "height": 50
        },
        "outputId": "e0a72476-e4da-4e0d-9868-7dcac9fc9bf0"
      },
      "source": [
        "jean.lieu_residence"
      ],
      "execution_count": 12,
      "outputs": [
        {
          "output_type": "stream",
          "text": [
            "On accède à l'attribut lieu_residence !\n"
          ],
          "name": "stdout"
        },
        {
          "output_type": "execute_result",
          "data": {
            "text/plain": [
              "'Berlin'"
            ]
          },
          "metadata": {
            "tags": []
          },
          "execution_count": 12
        }
      ]
    },
    {
      "cell_type": "markdown",
      "metadata": {
        "id": "YBhbmASuI_od",
        "colab_type": "text"
      },
      "source": [
        "[Source](https://openclassrooms.com/fr/courses/235344-apprenez-a-programmer-en-python/232793-definissez-des-proprietes#/id/r-232792)"
      ]
    }
  ]
}