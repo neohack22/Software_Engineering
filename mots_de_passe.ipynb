{
  "nbformat": 4,
  "nbformat_minor": 0,
  "metadata": {
    "colab": {
      "name": "mots-de-passe.ipynb",
      "provenance": [],
      "authorship_tag": "ABX9TyO2JF+Psz4f9GrLOgh9UzYT",
      "include_colab_link": true
    },
    "kernelspec": {
      "name": "python3",
      "display_name": "Python 3"
    }
  },
  "cells": [
    {
      "cell_type": "markdown",
      "metadata": {
        "id": "view-in-github",
        "colab_type": "text"
      },
      "source": [
        "<a href=\"https://colab.research.google.com/github/neohack22/Software_Engineering/blob/apprenez-a-programmer-en-python/mots_de_passe.ipynb\" target=\"_parent\"><img src=\"https://colab.research.google.com/assets/colab-badge.svg\" alt=\"Open In Colab\"/></a>"
      ]
    },
    {
      "cell_type": "markdown",
      "metadata": {
        "id": "Khrd0uEPk560",
        "colab_type": "text"
      },
      "source": [
        "# Gérez les mots de passe"
      ]
    },
    {
      "cell_type": "markdown",
      "metadata": {
        "id": "Vsgish9rk_eS",
        "colab_type": "text"
      },
      "source": [
        "## Réceptionner un mot de passe saisi par l'utilisateur"
      ]
    },
    {
      "cell_type": "markdown",
      "metadata": {
        "id": "zISaQuAKqU2A",
        "colab_type": "text"
      },
      "source": [
        "Pour demander à l'utilisateur de saisir un mot de passe, on peut utiliser le module ```getpass```."
      ]
    },
    {
      "cell_type": "code",
      "metadata": {
        "id": "00NGcO6Lkxim",
        "colab_type": "code",
        "colab": {
          "base_uri": "https://localhost:8080/",
          "height": 34
        },
        "outputId": "5be3a3ca-3b0c-4b19-a07f-a1b18592f03f"
      },
      "source": [
        "from getpass import getpass\n",
        "mot_de_passe = getpass()"
      ],
      "execution_count": 1,
      "outputs": [
        {
          "output_type": "stream",
          "text": [
            "··········\n"
          ],
          "name": "stdout"
        }
      ]
    },
    {
      "cell_type": "code",
      "metadata": {
        "id": "dorUl6UUloex",
        "colab_type": "code",
        "colab": {
          "base_uri": "https://localhost:8080/",
          "height": 34
        },
        "outputId": "6e845f00-7ff0-4795-8bfc-a5c5bba61326"
      },
      "source": [
        "mot_de_passe"
      ],
      "execution_count": 2,
      "outputs": [
        {
          "output_type": "execute_result",
          "data": {
            "text/plain": [
              "'un mot de passe'"
            ]
          },
          "metadata": {
            "tags": []
          },
          "execution_count": 2
        }
      ]
    },
    {
      "cell_type": "markdown",
      "metadata": {
        "id": "_k_4p9BTqh91",
        "colab_type": "text"
      },
      "source": [
        "La fonction ```getpass``` du module ```getpass``` fonctionne de la même façon que ```input```, sauf qu'elle n'affiche pas ce que l'utilisateur saisit."
      ]
    },
    {
      "cell_type": "code",
      "metadata": {
        "id": "57H4Lltil0Li",
        "colab_type": "code",
        "colab": {
          "base_uri": "https://localhost:8080/",
          "height": 34
        },
        "outputId": "041d9c0e-a5a2-4bda-dac3-aec2372eb398"
      },
      "source": [
        "mot_de_passe = getpass(\"Tapez votre mot de passe : \")"
      ],
      "execution_count": 3,
      "outputs": [
        {
          "output_type": "stream",
          "text": [
            "Tapez votre mot de passe : ··········\n"
          ],
          "name": "stdout"
        }
      ]
    },
    {
      "cell_type": "markdown",
      "metadata": {
        "id": "jEX6ZwI8mL97",
        "colab_type": "text"
      },
      "source": [
        "## Chiffrer un mot de passe"
      ]
    },
    {
      "cell_type": "markdown",
      "metadata": {
        "id": "_3i_U09Jm52O",
        "colab_type": "text"
      },
      "source": [
        "### Chiffrer un mot de passe"
      ]
    },
    {
      "cell_type": "markdown",
      "metadata": {
        "id": "SoYrhMEWquF9",
        "colab_type": "text"
      },
      "source": [
        "Pour chiffrer un mot de passe, on va utiliser le module ```hashlib```."
      ]
    },
    {
      "cell_type": "code",
      "metadata": {
        "id": "kkS0AbJjmCF1",
        "colab_type": "code",
        "colab": {}
      },
      "source": [
        "import hashlib"
      ],
      "execution_count": 0,
      "outputs": []
    },
    {
      "cell_type": "markdown",
      "metadata": {
        "id": "K1qHSLRNq4bs",
        "colab_type": "text"
      },
      "source": [
        "Ce module contient en attributs les différents algorithmes pouvant être utilisés pour chiffrer nos mots de passe."
      ]
    },
    {
      "cell_type": "code",
      "metadata": {
        "id": "gn_mwCw2m86A",
        "colab_type": "code",
        "colab": {
          "base_uri": "https://localhost:8080/",
          "height": 252
        },
        "outputId": "03399905-5375-48a1-abc4-c28cc766eab1"
      },
      "source": [
        "hashlib.algorithms_guaranteed"
      ],
      "execution_count": 5,
      "outputs": [
        {
          "output_type": "execute_result",
          "data": {
            "text/plain": [
              "{'blake2b',\n",
              " 'blake2s',\n",
              " 'md5',\n",
              " 'sha1',\n",
              " 'sha224',\n",
              " 'sha256',\n",
              " 'sha384',\n",
              " 'sha3_224',\n",
              " 'sha3_256',\n",
              " 'sha3_384',\n",
              " 'sha3_512',\n",
              " 'sha512',\n",
              " 'shake_128',\n",
              " 'shake_256'}"
            ]
          },
          "metadata": {
            "tags": []
          },
          "execution_count": 5
        }
      ]
    },
    {
      "cell_type": "code",
      "metadata": {
        "id": "wlMRl_bYnDtQ",
        "colab_type": "code",
        "colab": {
          "base_uri": "https://localhost:8080/",
          "height": 34
        },
        "outputId": "d272493a-f0c8-4732-a48e-ae76ed7c7916"
      },
      "source": [
        "b'test'"
      ],
      "execution_count": 6,
      "outputs": [
        {
          "output_type": "execute_result",
          "data": {
            "text/plain": [
              "b'test'"
            ]
          },
          "metadata": {
            "tags": []
          },
          "execution_count": 6
        }
      ]
    },
    {
      "cell_type": "markdown",
      "metadata": {
        "id": "4_qP0TxQoE8J",
        "colab_type": "text"
      },
      "source": [
        "\n",
        "\n",
        "> #### AttributeError: 'builtin_function_or_method' object has no attribute 'sha1'\n",
        "\n"
      ]
    },
    {
      "cell_type": "code",
      "metadata": {
        "id": "7KSMRrhbnsRU",
        "colab_type": "code",
        "colab": {
          "base_uri": "https://localhost:8080/",
          "height": 162
        },
        "outputId": "fbb08825-37d3-48a3-9b35-1405aedbd622"
      },
      "source": [
        "mot_de_passe = hash.sha1(b\"mot de passe\")"
      ],
      "execution_count": 7,
      "outputs": [
        {
          "output_type": "error",
          "ename": "AttributeError",
          "evalue": "ignored",
          "traceback": [
            "\u001b[0;31m---------------------------------------------------------------------------\u001b[0m",
            "\u001b[0;31mAttributeError\u001b[0m                            Traceback (most recent call last)",
            "\u001b[0;32m<ipython-input-7-147be4d8791b>\u001b[0m in \u001b[0;36m<module>\u001b[0;34m()\u001b[0m\n\u001b[0;32m----> 1\u001b[0;31m \u001b[0mmot_de_passe\u001b[0m \u001b[0;34m=\u001b[0m \u001b[0mhash\u001b[0m\u001b[0;34m.\u001b[0m\u001b[0msha1\u001b[0m\u001b[0;34m(\u001b[0m\u001b[0;34mb\"mot de passe\"\u001b[0m\u001b[0;34m)\u001b[0m\u001b[0;34m\u001b[0m\u001b[0;34m\u001b[0m\u001b[0m\n\u001b[0m",
            "\u001b[0;31mAttributeError\u001b[0m: 'builtin_function_or_method' object has no attribute 'sha1'"
          ]
        }
      ]
    },
    {
      "cell_type": "markdown",
      "metadata": {
        "id": "wQqWj-Y4oM4W",
        "colab_type": "text"
      },
      "source": [
        "\n",
        "\n",
        "> #### End of AttributeError"
      ]
    },
    {
      "cell_type": "code",
      "metadata": {
        "id": "lm_tiBnynzvl",
        "colab_type": "code",
        "colab": {}
      },
      "source": [
        "mot_de_passe = hashlib.sha1(b\"mot de passe\")"
      ],
      "execution_count": 0,
      "outputs": []
    },
    {
      "cell_type": "code",
      "metadata": {
        "id": "2La2rn7eod32",
        "colab_type": "code",
        "colab": {
          "base_uri": "https://localhost:8080/",
          "height": 34
        },
        "outputId": "4c924706-ea68-4ea5-946c-b795752693fe"
      },
      "source": [
        "mot_de_passe.hexdigest()"
      ],
      "execution_count": 9,
      "outputs": [
        {
          "output_type": "execute_result",
          "data": {
            "text/plain": [
              "'b47ea832576a75814e13351dcc97eaa985b9c6b7'"
            ]
          },
          "metadata": {
            "tags": []
          },
          "execution_count": 9
        }
      ]
    },
    {
      "cell_type": "code",
      "metadata": {
        "id": "68FEL-CpomHj",
        "colab_type": "code",
        "colab": {
          "base_uri": "https://localhost:8080/",
          "height": 84
        },
        "outputId": "8c57fae2-15d9-48ca-eb98-8a6b560d75ba"
      },
      "source": [
        "import hashlib\n",
        "from getpass import getpass\n",
        "\n",
        "chaine_mot_de_passe = b\"azerty\"\n",
        "mot_de_passe_chiffre = hashlib.sha1(chaine_mot_de_passe).hexdigest()\n",
        "\n",
        "verrouille = True\n",
        "while verrouille:\n",
        "  entre = getpass(\"Tapez le mot de passe : \") # azerty\n",
        "  # On encode la saisie pour avoir un type bytes\n",
        "  entre = entre.encode()\n",
        "\n",
        "  entre_chiffre = hashlib.sha1(entre).hexdigest()\n",
        "  if entre_chiffre == mot_de_passe_chiffre:\n",
        "    verrouille = False\n",
        "  else:\n",
        "    print(\"Mot de passe incorrect\")\n",
        "\n",
        "print(\"Mot de passe accepté...\")"
      ],
      "execution_count": 10,
      "outputs": [
        {
          "output_type": "stream",
          "text": [
            "Tapez le mot de passe : ··········\n",
            "Mot de passe incorrect\n",
            "Tapez le mot de passe : ··········\n",
            "Mot de passe accepté...\n"
          ],
          "name": "stdout"
        }
      ]
    },
    {
      "cell_type": "markdown",
      "metadata": {
        "id": "EnUgFdQdrBW4",
        "colab_type": "text"
      },
      "source": [
        "[Source](https://openclassrooms.com/fr/courses/235344-apprenez-a-programmer-en-python/234500-gerez-les-mots-de-passe)"
      ]
    },
    {
      "cell_type": "code",
      "metadata": {
        "id": "HA3hY_Xgp-uR",
        "colab_type": "code",
        "colab": {}
      },
      "source": [
        ""
      ],
      "execution_count": 0,
      "outputs": []
    }
  ]
}