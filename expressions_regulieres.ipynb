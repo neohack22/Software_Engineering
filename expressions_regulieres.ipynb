{
  "nbformat": 4,
  "nbformat_minor": 0,
  "metadata": {
    "colab": {
      "name": "expressions-regulieres.ipynb",
      "provenance": [],
      "authorship_tag": "ABX9TyN5QzE3cVW62csDU39PYXTH",
      "include_colab_link": true
    },
    "kernelspec": {
      "name": "python3",
      "display_name": "Python 3"
    }
  },
  "cells": [
    {
      "cell_type": "markdown",
      "metadata": {
        "id": "view-in-github",
        "colab_type": "text"
      },
      "source": [
        "<a href=\"https://colab.research.google.com/github/neohack22/Software_Engineering/blob/apprenez-a-programmer-en-python/expressions_regulieres.ipynb\" target=\"_parent\"><img src=\"https://colab.research.google.com/assets/colab-badge.svg\" alt=\"Open In Colab\"/></a>"
      ]
    },
    {
      "cell_type": "markdown",
      "metadata": {
        "id": "Okp45HkSOhBW",
        "colab_type": "text"
      },
      "source": [
        "# Manipulez les expressions régulières"
      ]
    },
    {
      "cell_type": "markdown",
      "metadata": {
        "id": "uXrhcKSZZMDx",
        "colab_type": "text"
      },
      "source": [
        "Les expressions régulières permettent de chercher et remplacer certaines expressions dans des chaînes de caractères."
      ]
    },
    {
      "cell_type": "markdown",
      "metadata": {
        "id": "4XlmXlBmP7Ib",
        "colab_type": "text"
      },
      "source": [
        "## Contrôler le nombre d'occurrences"
      ]
    },
    {
      "cell_type": "markdown",
      "metadata": {
        "id": "mZawrfL8P9M8",
        "colab_type": "text"
      },
      "source": [
        "```chat*```"
      ]
    },
    {
      "cell_type": "markdown",
      "metadata": {
        "id": "fAifoXKBQNld",
        "colab_type": "text"
      },
      "source": [
        "```bat*e```"
      ]
    },
    {
      "cell_type": "markdown",
      "metadata": {
        "id": "UzT4PSL1QvOT",
        "colab_type": "text"
      },
      "source": [
        "## Les groupes"
      ]
    },
    {
      "cell_type": "code",
      "metadata": {
        "id": "LtSjv-X0ORIw",
        "colab_type": "code",
        "colab": {}
      },
      "source": [
        "(cha){2,5}"
      ],
      "execution_count": 0,
      "outputs": []
    },
    {
      "cell_type": "markdown",
      "metadata": {
        "id": "-U5UyJpLRBVz",
        "colab_type": "text"
      },
      "source": [
        "## Le module re"
      ]
    },
    {
      "cell_type": "markdown",
      "metadata": {
        "id": "4IDFZA3eZPJF",
        "colab_type": "text"
      },
      "source": [
        "Le modulerede Python permet de manipuler des expressions régulières en Python."
      ]
    },
    {
      "cell_type": "markdown",
      "metadata": {
        "id": "Hfzz8MZxRFay",
        "colab_type": "text"
      },
      "source": [
        "### Chercher dans une chaîne"
      ]
    },
    {
      "cell_type": "code",
      "metadata": {
        "id": "yx4ttg8kRGOg",
        "colab_type": "code",
        "colab": {}
      },
      "source": [
        "import re"
      ],
      "execution_count": 0,
      "outputs": []
    },
    {
      "cell_type": "code",
      "metadata": {
        "id": "Xz1IWwUBRHUB",
        "colab_type": "code",
        "colab": {
          "base_uri": "https://localhost:8080/",
          "height": 34
        },
        "outputId": "90714574-f129-47ea-fc00-8aa895288ce2"
      },
      "source": [
        "r'\\n'"
      ],
      "execution_count": 2,
      "outputs": [
        {
          "output_type": "execute_result",
          "data": {
            "text/plain": [
              "'\\\\n'"
            ]
          },
          "metadata": {
            "tags": []
          },
          "execution_count": 2
        }
      ]
    },
    {
      "cell_type": "markdown",
      "metadata": {
        "id": "GDkAIp7qZSih",
        "colab_type": "text"
      },
      "source": [
        "La fonction ```search``` du modulerepermet de chercher une expression dans une chaîne."
      ]
    },
    {
      "cell_type": "code",
      "metadata": {
        "id": "4gHFcvEKRcMi",
        "colab_type": "code",
        "colab": {
          "base_uri": "https://localhost:8080/",
          "height": 34
        },
        "outputId": "a8140eab-03fd-4181-be64-7eb0ce13d19d"
      },
      "source": [
        "re.search(r\"abc\", \"abcdef\")"
      ],
      "execution_count": 3,
      "outputs": [
        {
          "output_type": "execute_result",
          "data": {
            "text/plain": [
              "<_sre.SRE_Match object; span=(0, 3), match='abc'>"
            ]
          },
          "metadata": {
            "tags": []
          },
          "execution_count": 3
        }
      ]
    },
    {
      "cell_type": "code",
      "metadata": {
        "id": "OChuwaHoRnFc",
        "colab_type": "code",
        "colab": {}
      },
      "source": [
        "re.search(r\"abc\", \"abacadaeaf\")"
      ],
      "execution_count": 0,
      "outputs": []
    },
    {
      "cell_type": "code",
      "metadata": {
        "id": "50E95HG0Rwc8",
        "colab_type": "code",
        "colab": {
          "base_uri": "https://localhost:8080/",
          "height": 34
        },
        "outputId": "340d5ac9-97f0-4753-a1b9-59bb28d52898"
      },
      "source": [
        "re.search(r\"abc*\", \"ab\")"
      ],
      "execution_count": 5,
      "outputs": [
        {
          "output_type": "execute_result",
          "data": {
            "text/plain": [
              "<_sre.SRE_Match object; span=(0, 2), match='ab'>"
            ]
          },
          "metadata": {
            "tags": []
          },
          "execution_count": 5
        }
      ]
    },
    {
      "cell_type": "code",
      "metadata": {
        "id": "txpQ8ZgsR4SN",
        "colab_type": "code",
        "colab": {
          "base_uri": "https://localhost:8080/",
          "height": 34
        },
        "outputId": "29582821-2913-49ea-a053-c5cce9efc322"
      },
      "source": [
        "re.search(r\"abc*\", \"abccc\")"
      ],
      "execution_count": 6,
      "outputs": [
        {
          "output_type": "execute_result",
          "data": {
            "text/plain": [
              "<_sre.SRE_Match object; span=(0, 5), match='abccc'>"
            ]
          },
          "metadata": {
            "tags": []
          },
          "execution_count": 6
        }
      ]
    },
    {
      "cell_type": "code",
      "metadata": {
        "id": "bNtmZJfSSDU4",
        "colab_type": "code",
        "colab": {
          "base_uri": "https://localhost:8080/",
          "height": 34
        },
        "outputId": "d1cd7c76-3a91-48d4-a196-bb9669856565"
      },
      "source": [
        "re.search(r\"chat\", \"chateau\")"
      ],
      "execution_count": 7,
      "outputs": [
        {
          "output_type": "execute_result",
          "data": {
            "text/plain": [
              "<_sre.SRE_Match object; span=(0, 4), match='chat'>"
            ]
          },
          "metadata": {
            "tags": []
          },
          "execution_count": 7
        }
      ]
    },
    {
      "cell_type": "markdown",
      "metadata": {
        "id": "e4Zpm5cqSpKZ",
        "colab_type": "text"
      },
      "source": [
        "```py\n",
        "if re.match(expression, chaine) is not None:\n",
        "  # Si l'expression est dans la chaîne\n",
        "  # Ou alors, plus intuitivement\n",
        "if re.match(expression, chaine):\n",
        "```"
      ]
    },
    {
      "cell_type": "code",
      "metadata": {
        "id": "gQpPoeTlSdzF",
        "colab_type": "code",
        "colab": {}
      },
      "source": [
        "import re\n",
        "chaine = \"\"\n",
        "expression = r\"^0[0-9]([ .-]?[0-9]{2}){4}$\"\n",
        "while re.search(expression, chaine) is None:\n",
        "  chaine = input(\"Saisissez un numéro de téléphone (valide) :\")"
      ],
      "execution_count": 0,
      "outputs": []
    },
    {
      "cell_type": "markdown",
      "metadata": {
        "id": "6Yyl7kn-Un--",
        "colab_type": "text"
      },
      "source": [
        "### Des groupes numérotés"
      ]
    },
    {
      "cell_type": "markdown",
      "metadata": {
        "id": "opgPyKqRUzzU",
        "colab_type": "text"
      },
      "source": [
        "```(a)b(cd)```"
      ]
    },
    {
      "cell_type": "markdown",
      "metadata": {
        "id": "JbCbe5M9ZdhU",
        "colab_type": "text"
      },
      "source": [
        "Pour remplacer une certaine expression dans une chaîne, on utilise la fonction ```sub``` du module ```re```."
      ]
    },
    {
      "cell_type": "code",
      "metadata": {
        "id": "5z7fkRv3UqGo",
        "colab_type": "code",
        "colab": {
          "base_uri": "https://localhost:8080/",
          "height": 34
        },
        "outputId": "1b98d6a3-2acd-4b98-b4af-873964fa05db"
      },
      "source": [
        "re.sub(r\"(ab)\", r\" \\1 \", \"abcdef\")"
      ],
      "execution_count": 9,
      "outputs": [
        {
          "output_type": "execute_result",
          "data": {
            "text/plain": [
              "' ab cdef'"
            ]
          },
          "metadata": {
            "tags": []
          },
          "execution_count": 9
        }
      ]
    },
    {
      "cell_type": "markdown",
      "metadata": {
        "id": "9BRs7U8KVvLM",
        "colab_type": "text"
      },
      "source": [
        "### Donner des noms à nos groupes"
      ]
    },
    {
      "cell_type": "markdown",
      "metadata": {
        "id": "QDRxZbY0V9DT",
        "colab_type": "text"
      },
      "source": [
        "```(?P<id>[0-9]{2})```"
      ]
    },
    {
      "cell_type": "code",
      "metadata": {
        "id": "7UUj8enLUxIq",
        "colab_type": "code",
        "colab": {}
      },
      "source": [
        "texte = \"\"\"\n",
        "nom='Task1', id=8\n",
        "nom='Task2', id=31\n",
        "nom='Task3', id=127\"\"\""
      ],
      "execution_count": 0,
      "outputs": []
    },
    {
      "cell_type": "markdown",
      "metadata": {
        "id": "6gzcpVIAXN5-",
        "colab_type": "text"
      },
      "source": [
        "\n",
        "\n",
        "> #### SyntaxError: invalid syntax\n",
        "\n"
      ]
    },
    {
      "cell_type": "code",
      "metadata": {
        "id": "K6IDKTmVWaw7",
        "colab_type": "code",
        "colab": {
          "base_uri": "https://localhost:8080/",
          "height": 128
        },
        "outputId": "281ac453-e61e-45f7-8a14-cb67ffd5a4a9"
      },
      "source": [
        "print(re.sub(r\"id=(r\"id=(?P<id>[0-9]+)\", r\"id[\\g<id>]\", texte))"
      ],
      "execution_count": 11,
      "outputs": [
        {
          "output_type": "error",
          "ename": "SyntaxError",
          "evalue": "ignored",
          "traceback": [
            "\u001b[0;36m  File \u001b[0;32m\"<ipython-input-11-a9d91fa8257e>\"\u001b[0;36m, line \u001b[0;32m1\u001b[0m\n\u001b[0;31m    print(re.sub(r\"id=(r\"id=(?P<id>[0-9]+)\", r\"id[\\g<id>]\", texte))\u001b[0m\n\u001b[0m                          ^\u001b[0m\n\u001b[0;31mSyntaxError\u001b[0m\u001b[0;31m:\u001b[0m invalid syntax\n"
          ]
        }
      ]
    },
    {
      "cell_type": "markdown",
      "metadata": {
        "id": "OvixLI-kXTLl",
        "colab_type": "text"
      },
      "source": [
        "> #### End of SyntaxError"
      ]
    },
    {
      "cell_type": "code",
      "metadata": {
        "id": "QPK_EIzUXGVF",
        "colab_type": "code",
        "colab": {
          "base_uri": "https://localhost:8080/",
          "height": 84
        },
        "outputId": "d3a64a67-8b41-4c14-aff5-09592d88ba81"
      },
      "source": [
        "print(re.sub(r\"id=(?P<id>[0-9]+)\", r\"id[\\g<id>]\", texte))"
      ],
      "execution_count": 12,
      "outputs": [
        {
          "output_type": "stream",
          "text": [
            "\n",
            "nom='Task1', id[8]\n",
            "nom='Task2', id[31]\n",
            "nom='Task3', id[127]\n"
          ],
          "name": "stdout"
        }
      ]
    },
    {
      "cell_type": "markdown",
      "metadata": {
        "id": "T4DWBSbvX6hS",
        "colab_type": "text"
      },
      "source": [
        "### Des expressions compilées"
      ]
    },
    {
      "cell_type": "markdown",
      "metadata": {
        "id": "8E5uB2jaX802",
        "colab_type": "text"
      },
      "source": [
        "^[A-Za-z0-9]{6,}$"
      ]
    },
    {
      "cell_type": "markdown",
      "metadata": {
        "id": "rrO02APoZqY-",
        "colab_type": "text"
      },
      "source": [
        "On peut également compiler les expressions régulières grâce à la fonction ```compile``` du module ```re```."
      ]
    },
    {
      "cell_type": "code",
      "metadata": {
        "id": "TijwJs2zXtHr",
        "colab_type": "code",
        "colab": {}
      },
      "source": [
        "chn_mdp = r\"^[A-Za-z0-9]{6,}$\"\n",
        "exp_mdp = re.compile(chn_mdp)"
      ],
      "execution_count": 0,
      "outputs": []
    },
    {
      "cell_type": "code",
      "metadata": {
        "id": "UfgQNnRWYgt7",
        "colab_type": "code",
        "colab": {}
      },
      "source": [
        "chn_mdp = r\"^[A-Za-z0-9]{6,}$\"\n",
        "exp_mdp = re.compile(chn_mdp)\n",
        "mot_de_passe = \"\"\n",
        "while exp_mdp.search(mot_de_passe) is None:\n",
        "  mot_de_passe = input(\"Tapez votre mot de passe : \")"
      ],
      "execution_count": 0,
      "outputs": []
    },
    {
      "cell_type": "markdown",
      "metadata": {
        "id": "nMfQOOypZzW4",
        "colab_type": "text"
      },
      "source": [
        "[Source](https://openclassrooms.com/fr/courses/235344-apprenez-a-programmer-en-python/233857-manipulez-les-expressions-regulieres)"
      ]
    }
  ]
}