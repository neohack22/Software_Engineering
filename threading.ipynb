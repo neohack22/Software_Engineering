{
  "nbformat": 4,
  "nbformat_minor": 0,
  "metadata": {
    "colab": {
      "name": "threading.ipynb",
      "provenance": [],
      "authorship_tag": "ABX9TyNhIEyGxwgT24W5RZhRBvv8",
      "include_colab_link": true
    },
    "kernelspec": {
      "name": "python3",
      "display_name": "Python 3"
    }
  },
  "cells": [
    {
      "cell_type": "markdown",
      "metadata": {
        "id": "view-in-github",
        "colab_type": "text"
      },
      "source": [
        "<a href=\"https://colab.research.google.com/github/neohack22/Software_Engineering/blob/apprenez-a-programmer-en-python/threading.ipynb\" target=\"_parent\"><img src=\"https://colab.research.google.com/assets/colab-badge.svg\" alt=\"Open In Colab\"/></a>"
      ]
    },
    {
      "cell_type": "markdown",
      "metadata": {
        "id": "aFqYFehxzSVF",
        "colab_type": "text"
      },
      "source": [
        "# Faites de la programmation parallèle avec threading"
      ]
    },
    {
      "cell_type": "markdown",
      "metadata": {
        "id": "3juKx9an6kAv",
        "colab_type": "text"
      },
      "source": [
        "Il existe plusieurs mécanismes de programmation parallèle, dont les **threads** proposés dans le module *threading* de la bibliothèque standard"
      ]
    },
    {
      "cell_type": "markdown",
      "metadata": {
        "id": "l1JQZH5k0VCT",
        "colab_type": "text"
      },
      "source": [
        "## Création de threads"
      ]
    },
    {
      "cell_type": "code",
      "metadata": {
        "id": "pJisjzWfy7qm",
        "colab_type": "code",
        "colab": {
          "base_uri": "https://localhost:8080/",
          "height": 50
        },
        "outputId": "9011e845-33dd-48ad-fed8-baa81efcca73"
      },
      "source": [
        "import time\n",
        "print(\"Avant le sleep...\")\n",
        "time.sleep(5)\n",
        "print(\"Après le sleep.\")"
      ],
      "execution_count": 1,
      "outputs": [
        {
          "output_type": "stream",
          "text": [
            "Avant le sleep...\n",
            "Après le sleep.\n"
          ],
          "name": "stdout"
        }
      ]
    },
    {
      "cell_type": "markdown",
      "metadata": {
        "id": "gQ1itv1J1F5G",
        "colab_type": "text"
      },
      "source": [
        "## Premier exemple d'un thread"
      ]
    },
    {
      "cell_type": "code",
      "metadata": {
        "id": "9sY4bORO0fyb",
        "colab_type": "code",
        "colab": {
          "base_uri": "https://localhost:8080/",
          "height": 34
        },
        "outputId": "b1601f2a-2f0b-4771-ba34-38521a14a546"
      },
      "source": [
        "import random\n",
        "import sys\n",
        "import time\n",
        "\n",
        "# Répète 20 fois\n",
        "i = 0\n",
        "while i < 20:\n",
        "  sys.stdout.write(\"1\")\n",
        "  sys.stdout.flush()\n",
        "  attente = 0.2\n",
        "  attente += random.randint(1, 60) / 100\n",
        "  # attente est à présent entre 0.2 et 0.8\n",
        "  time.sleep(attente)\n",
        "  i += 1"
      ],
      "execution_count": 2,
      "outputs": [
        {
          "output_type": "stream",
          "text": [
            "11111111111111111111"
          ],
          "name": "stdout"
        }
      ]
    },
    {
      "cell_type": "code",
      "metadata": {
        "id": "5Y8D1_4C2Am_",
        "colab_type": "code",
        "colab": {}
      },
      "source": [
        ""
      ],
      "execution_count": 0,
      "outputs": []
    },
    {
      "cell_type": "markdown",
      "metadata": {
        "id": "umPnFobr2mLB",
        "colab_type": "text"
      },
      "source": [
        "### Approche parallèle"
      ]
    },
    {
      "cell_type": "code",
      "metadata": {
        "id": "9TPgR8vi3ayd",
        "colab_type": "code",
        "colab": {}
      },
      "source": [
        "import random\n",
        "import sys\n",
        "from threading import Thread\n",
        "import time\n",
        "\n",
        "class Afficheur(Thread):\n",
        "  \n",
        "  \"\"\"Thread chargé simplement d'afficher une lettre dans la console.\"\"\"\n",
        "\n",
        "  def __init__(self, lettre):\n",
        "    Thread.__init__(self)\n",
        "    self.lettre = lettre\n",
        "\n",
        "  def run(self):\n",
        "    \"\"\"Code à exécuter pendant l'exécution du thread.\"\"\"\n",
        "    i = 0\n",
        "    while i < 20:\n",
        "      sys/stdout.write(self.lettre)\n",
        "      sys.stdout.flush()\n",
        "      attente = 0.2\n",
        "      attente += random.randint(1, 60) / 100\n",
        "      time.sleep(attente)\n",
        "      i += 1"
      ],
      "execution_count": 0,
      "outputs": []
    },
    {
      "cell_type": "markdown",
      "metadata": {
        "id": "_j3vdwU06voi",
        "colab_type": "text"
      },
      "source": [
        "Créer un **thread** se fait en redéfinissant une classe héritée de *threading*.Thread et en appelant sa méthode *start*"
      ]
    },
    {
      "cell_type": "code",
      "metadata": {
        "id": "AQ2Iiu7r5PKh",
        "colab_type": "code",
        "colab": {
          "base_uri": "https://localhost:8080/",
          "height": 286
        },
        "outputId": "714cf560-4760-4545-d53e-d8f72a6fa744"
      },
      "source": [
        "# Création des threads\n",
        "thread_1 = Afficheur(\"1\")\n",
        "thread_2 = Afficheur(\"2\")\n",
        "\n",
        "# Lancement des threads\n",
        "thread_1.start()\n",
        "thread_2.start()\n",
        "\n",
        "# Attend que les threads se terminent\n",
        "thread_1.join()\n",
        "thread_2.join()"
      ],
      "execution_count": 4,
      "outputs": [
        {
          "output_type": "stream",
          "text": [
            "Exception in thread Thread-4:\n",
            "Traceback (most recent call last):\n",
            "  File \"/usr/lib/python3.6/threading.py\", line 916, in _bootstrap_inner\n",
            "    self.run()\n",
            "  File \"<ipython-input-3-56a20750d0fb>\", line 18, in run\n",
            "    sys/stdout.write(self.lettre)\n",
            "NameError: name 'stdout' is not defined\n",
            "Exception in thread Thread-5:\n",
            "Traceback (most recent call last):\n",
            "  File \"/usr/lib/python3.6/threading.py\", line 916, in _bootstrap_inner\n",
            "    self.run()\n",
            "  File \"<ipython-input-3-56a20750d0fb>\", line 18, in run\n",
            "    sys/stdout.write(self.lettre)\n",
            "NameError: name 'stdout' is not defined\n",
            "\n",
            "\n"
          ],
          "name": "stderr"
        }
      ]
    },
    {
      "cell_type": "code",
      "metadata": {
        "id": "aHwaqLew7UkQ",
        "colab_type": "code",
        "colab": {
          "base_uri": "https://localhost:8080/",
          "height": 34
        },
        "outputId": "c14bb183-ef2e-45a5-de20-dc563c3833f6"
      },
      "source": [
        "import random\n",
        "import sys\n",
        "from threading import Thread\n",
        "import time\n",
        "\n",
        "class Afficheur(Thread):\n",
        "\n",
        "  \"\"\"Thread chargé simplement d'afficher une lettre dans la console.\"\"\"\n",
        "\n",
        "  def __init__(self, lettre):\n",
        "    Thread.__init__(self)\n",
        "    self.lettre = lettre\n",
        "\n",
        "  def run(self):\n",
        "    \"\"\"Code à exécuter pendant l'exécution du thread.\"\"\"\n",
        "    i = 0\n",
        "    while i < 20:\n",
        "      sys.stdout.write(self.lettre)\n",
        "      sys.stdout.flush()\n",
        "      attente = 0.2\n",
        "      attente += random.randint(1, 60) / 100\n",
        "      time.sleep(attente)\n",
        "      i += 1\n",
        "\n",
        "# Création des threads\n",
        "thread_1 = Afficheur(\"1\")\n",
        "thread_2 = Afficheur(\"2\")\n",
        "\n",
        "# Lancement des threads\n",
        "thread_1.start()\n",
        "thread_2.start()\n",
        "\n",
        "# Attend que les threads se terminent se terminent\n",
        "thread_1.join()\n",
        "thread_2.join()"
      ],
      "execution_count": 5,
      "outputs": [
        {
          "output_type": "stream",
          "text": [
            "1221212121212121212122122121122121122111"
          ],
          "name": "stdout"
        }
      ]
    },
    {
      "cell_type": "markdown",
      "metadata": {
        "id": "2-xmqjDF-h_7",
        "colab_type": "text"
      },
      "source": [
        "## La synchronisation des threads"
      ]
    },
    {
      "cell_type": "markdown",
      "metadata": {
        "id": "0wGkIRxA-_hk",
        "colab_type": "text"
      },
      "source": [
        "### Opérations concurrentes"
      ]
    },
    {
      "cell_type": "markdown",
      "metadata": {
        "id": "jCxP6BRI_DUx",
        "colab_type": "text"
      },
      "source": [
        "```py\n",
        "nombre = 1\n",
        "nombre += 1\n",
        "```"
      ]
    },
    {
      "cell_type": "markdown",
      "metadata": {
        "id": "GfMMaSyaAP4y",
        "colab_type": "text"
      },
      "source": [
        "### Accès simultané à des ressources"
      ]
    },
    {
      "cell_type": "code",
      "metadata": {
        "id": "7sm1-jBf9WJo",
        "colab_type": "code",
        "colab": {
          "base_uri": "https://localhost:8080/",
          "height": 34
        },
        "outputId": "def0710b-d83c-4d97-9548-f597be4bb6c8"
      },
      "source": [
        "import random\n",
        "import sys\n",
        "from threading import Thread\n",
        "import time\n",
        "\n",
        "class Afficheur(Thread):\n",
        "\n",
        "  \"\"\"Thread chargé d'afficher un mot dans la console.\"\"\"\n",
        "\n",
        "  def __init__(self, mot):\n",
        "    Thread.__init__(self)\n",
        "    self.mot = mot\n",
        "\n",
        "  def run(self):\n",
        "    \"\"\"Code à exécuter pendant l'exécution du thread.\"\"\"\n",
        "    i = 0\n",
        "    while i < 5:\n",
        "      for lettre in self.mot:\n",
        "        sys.stdout.write(lettre)\n",
        "        sys.stdout.flush()\n",
        "        attente = 0.2\n",
        "        attente += random.randint(1, 60) / 100\n",
        "        time.sleep(attente)\n",
        "      i += 1\n",
        "\n",
        "# Création des threads\n",
        "thread_1 = Afficheur(\"canard\")\n",
        "thread_2 = Afficheur(\"TORTUE\")\n",
        "\n",
        "# Lancement des Threads\n",
        "thread_1.start()\n",
        "thread_2.start()\n",
        "\n",
        "# Attend que les threads se terminent\n",
        "thread_1.join()\n",
        "thread_2.join()"
      ],
      "execution_count": 1,
      "outputs": [
        {
          "output_type": "stream",
          "text": [
            "cTOanRTardUcETanORaTrUdcEaTOnaRrTdUcEaTnOaRrTdUEcaTnOaRTrdUE"
          ],
          "name": "stdout"
        }
      ]
    },
    {
      "cell_type": "markdown",
      "metadata": {
        "id": "FC74TYH46-lL",
        "colab_type": "text"
      },
      "source": [
        "On peut utiliser les **locks** pour synchroniser nos **threads** et faire en sorte que certaines parties de notre code s'exécutent bien à la suite des autres."
      ]
    },
    {
      "cell_type": "code",
      "metadata": {
        "id": "6En0vI9f1kR2",
        "colab_type": "code",
        "colab": {
          "base_uri": "https://localhost:8080/",
          "height": 34
        },
        "outputId": "0272bf00-663c-489a-990b-27fcfbe43970"
      },
      "source": [
        "import random\n",
        "import sys\n",
        "from threading import Thread, RLock\n",
        "import time\n",
        "\n",
        "verrou = RLock()\n",
        "\n",
        "class Afficheur(Thread):\n",
        "\n",
        "  \"\"\"Thread chargé simplement d'afficher un mot dans la console.\"\"\"\n",
        "\n",
        "  def __init__(self, mot):\n",
        "    Thread.__init__(self)\n",
        "    self.mot = mot\n",
        "\n",
        "  def run(self):\n",
        "    \"\"\"Code à exécuter pendant l'exécution du thread.\"\"\"\n",
        "    i = 0\n",
        "    while i < 5:\n",
        "      with verrou:\n",
        "        for lettre in self.mot:\n",
        "          sys.stdout.write(lettre)\n",
        "          sys.stdout.flush()\n",
        "          attente = 0.2\n",
        "          attente += random.randint(1, 60) / 100\n",
        "          time.sleep(attente)\n",
        "      i += 1\n",
        "\n",
        "# Création des threads\n",
        "thread_1 = Afficheur(\"canard\")\n",
        "thread_2 = Afficheur(\"TORTUE\")\n",
        "\n",
        "# Lancement des threads\n",
        "thread_1.start()\n",
        "thread_2.start()\n",
        "\n",
        "# Attend que les threads se terminent\n",
        "thread_1.join()\n",
        "thread_2.join()"
      ],
      "execution_count": 2,
      "outputs": [
        {
          "output_type": "stream",
          "text": [
            "canardcanardcanardcanardcanardTORTUETORTUETORTUETORTUETORTUE"
          ],
          "name": "stdout"
        }
      ]
    },
    {
      "cell_type": "markdown",
      "metadata": {
        "id": "iX54Wwsm5EQg",
        "colab_type": "text"
      },
      "source": [
        "```py\n",
        "with verrou:\n",
        "  for lettre in self.mot:\n",
        "    sys.stdout.write(lettre)\n",
        "    sys.stdout.flush()\n",
        "    attente = 0.2\n",
        "    attente += random.randint(1, 60) / 100\n",
        "    time.sleep(attente)\n",
        "```"
      ]
    },
    {
      "cell_type": "markdown",
      "metadata": {
        "id": "xOvEfQUJ7Iei",
        "colab_type": "text"
      },
      "source": [
        "[Source](https://openclassrooms.com/fr/courses/235344-apprenez-a-programmer-en-python/2235545-faites-de-la-programmation-parallele-avec-threading)"
      ]
    }
  ]
}