{
  "nbformat": 4,
  "nbformat_minor": 0,
  "metadata": {
    "colab": {
      "name": "gerez-les-heritages.ipynb",
      "provenance": [],
      "authorship_tag": "ABX9TyPUhf94ab2HiiJLJlHeX/wZ",
      "include_colab_link": true
    },
    "kernelspec": {
      "name": "python3",
      "display_name": "Python 3"
    }
  },
  "cells": [
    {
      "cell_type": "markdown",
      "metadata": {
        "id": "view-in-github",
        "colab_type": "text"
      },
      "source": [
        "<a href=\"https://colab.research.google.com/github/neohack22/Software_Engineering/blob/apprenez-a-programmer-en-python/gerez_les_heritages.ipynb\" target=\"_parent\"><img src=\"https://colab.research.google.com/assets/colab-badge.svg\" alt=\"Open In Colab\"/></a>"
      ]
    },
    {
      "cell_type": "markdown",
      "metadata": {
        "id": "ztxm4-b2x6ex",
        "colab_type": "text"
      },
      "source": [
        "# Gérez les héritages"
      ]
    },
    {
      "cell_type": "markdown",
      "metadata": {
        "id": "J14ixrhkJCiC",
        "colab_type": "text"
      },
      "source": [
        "L'héritage permet à une classe d'hériter du comportement d'une autre en reprenant ses méthodes."
      ]
    },
    {
      "cell_type": "markdown",
      "metadata": {
        "id": "FcEJMrbovsit",
        "colab_type": "text"
      },
      "source": [
        "## L'héritage simple"
      ]
    },
    {
      "cell_type": "code",
      "metadata": {
        "id": "AyAsTMxuvl4E",
        "colab_type": "code",
        "colab": {}
      },
      "source": [
        "class A:\n",
        "  \"\"\"Classe A, pour l'illustrer notre exemple d'héritage\"\n",
        "  pass # On laisse la définition vide, ce n'est qu'un exemple\"\"\"\n",
        "\n",
        "class B(A):\n",
        "  \"\"\"Classe B, qui hérite de A.\n",
        "  Elle reprend les mêmes méthodes et attributs (dans cet exemple, ma classe\n",
        "  A ne possède de toute façon ni méthode ni attribut)\"\"\"\n",
        "\n",
        "  pass"
      ],
      "execution_count": 0,
      "outputs": []
    },
    {
      "cell_type": "markdown",
      "metadata": {
        "id": "OCvbVJQ1JO7C",
        "colab_type": "text"
      },
      "source": [
        "La syntaxe de l'héritage est ```class NouvelleClasse(ClasseMere):```."
      ]
    },
    {
      "cell_type": "code",
      "metadata": {
        "id": "it3K8F2SzCNH",
        "colab_type": "code",
        "colab": {}
      },
      "source": [
        "class Personne:\n",
        "  \"\"\"Classe représentant une personne\"\"\"\n",
        "  def __init__(self, nom):\n",
        "    \"\"\"Constructeur de notre classe\"\"\"\n",
        "    self.nom = nom\n",
        "    self.prenom = \"Martin\"\n",
        "  def __str__(self):\n",
        "    \"\"\"Méthode appelée lors d'une conversion de l'objet en chaîne\"\"\"\n",
        "    return \"{0} {1}\".format(self.prenom, self.nom)\n",
        "    \n",
        "class AgentSpecial(Personne):\n",
        "  \"\"\"Classe définissant un agent spécial.\n",
        "  Elle hérite de la classe Personne\"\"\"\n",
        "\n",
        "  def __init__(self, nom, matricule):\n",
        "    \"\"\"Un agent se définit par son nom et son matricule\"\"\"\n",
        "    self.nom = nom\n",
        "    self.matricule = matricule\n",
        "  def __str__(self):\n",
        "    \"\"\"Méthode appelée lors d'une conversion de l'objet en chaîne\"\"\"\n",
        "    return \"Agent {0}, matricule {1}\".format(self.nom, self.matricule)"
      ],
      "execution_count": 0,
      "outputs": []
    },
    {
      "cell_type": "code",
      "metadata": {
        "id": "RGKI953i6eBW",
        "colab_type": "code",
        "colab": {
          "base_uri": "https://localhost:8080/",
          "height": 34
        },
        "outputId": "fbfa451d-099b-46c7-9c29-a80af9fbe313"
      },
      "source": [
        "agent = AgentSpecial(\"Fisher\", \"18327-121\")\n",
        "agent.nom"
      ],
      "execution_count": 3,
      "outputs": [
        {
          "output_type": "execute_result",
          "data": {
            "text/plain": [
              "'Fisher'"
            ]
          },
          "metadata": {
            "tags": []
          },
          "execution_count": 3
        }
      ]
    },
    {
      "cell_type": "code",
      "metadata": {
        "id": "w2c0P-re6oAF",
        "colab_type": "code",
        "colab": {
          "base_uri": "https://localhost:8080/",
          "height": 34
        },
        "outputId": "51996eb7-453a-4e72-cdaf-d9d0fc297f09"
      },
      "source": [
        "print(agent)"
      ],
      "execution_count": 4,
      "outputs": [
        {
          "output_type": "stream",
          "text": [
            "Agent Fisher, matricule 18327-121\n"
          ],
          "name": "stdout"
        }
      ]
    },
    {
      "cell_type": "code",
      "metadata": {
        "id": "BH1IYpEy6rol",
        "colab_type": "code",
        "colab": {
          "base_uri": "https://localhost:8080/",
          "height": 162
        },
        "outputId": "c84a95c9-23aa-4db4-ec64-69967bd26f86"
      },
      "source": [
        "agent.prenom"
      ],
      "execution_count": 5,
      "outputs": [
        {
          "output_type": "error",
          "ename": "AttributeError",
          "evalue": "ignored",
          "traceback": [
            "\u001b[0;31m---------------------------------------------------------------------------\u001b[0m",
            "\u001b[0;31mAttributeError\u001b[0m                            Traceback (most recent call last)",
            "\u001b[0;32m<ipython-input-5-901aa46a61a8>\u001b[0m in \u001b[0;36m<module>\u001b[0;34m()\u001b[0m\n\u001b[0;32m----> 1\u001b[0;31m \u001b[0magent\u001b[0m\u001b[0;34m.\u001b[0m\u001b[0mprenom\u001b[0m\u001b[0;34m\u001b[0m\u001b[0;34m\u001b[0m\u001b[0m\n\u001b[0m",
            "\u001b[0;31mAttributeError\u001b[0m: 'AgentSpecial' object has no attribute 'prenom'"
          ]
        }
      ]
    },
    {
      "cell_type": "markdown",
      "metadata": {
        "id": "aD21htedJ86o",
        "colab_type": "text"
      },
      "source": [
        ""
      ]
    },
    {
      "cell_type": "markdown",
      "metadata": {
        "id": "tXlr97XaJ4Xx",
        "colab_type": "text"
      },
      "source": [
        "On peut accéder aux méthodes de la classe mère directement via la syntaxe : ```ClasseMere.methode(self)```."
      ]
    },
    {
      "cell_type": "code",
      "metadata": {
        "id": "fzGztMUK6yxH",
        "colab_type": "code",
        "colab": {}
      },
      "source": [
        "class Personne:\n",
        "  \"\"\"Classe représentant une personne\"\"\"\n",
        "  def __init__(self, nom):\n",
        "    \"\"\"Constructeur de notre classe\"\"\"\n",
        "    self.nom = nom\n",
        "    self.prenom = \"Martin\"\n",
        "  def __str__(self):\n",
        "    \"\"\"Méthode appelée lors d'une conversion de l'objet en chaîne\"\"\"\n",
        "    return \"{0} {1}\".format(self.prenom, self.nom)\n",
        "\n",
        "class AgentSpecial(Personne):\n",
        "  \"\"\"Classe définissant un agent spécial.\n",
        "  Elle hérite de la classe Personne\"\"\"\n",
        "\n",
        "  def __init__(self, nom, matricule):\n",
        "    \"\"\"Un agent se définit par son nom et son matricule\"\"\"\n",
        "    # On appelle explicitement le constructeur de Personne :\n",
        "    Personne.__init__(self, nom)\n",
        "    self.matricule = matricule\n",
        "  def __str__(self):\n",
        "    \"\"\"Méthode appelée lors d'une conversion de l'objet en chaîne\"\"\"\n",
        "    return \"Agent {0}, matricule {1}\".format(self.nom, self.matricule)"
      ],
      "execution_count": 0,
      "outputs": []
    },
    {
      "cell_type": "code",
      "metadata": {
        "id": "ote2Q6AZ9A0M",
        "colab_type": "code",
        "colab": {
          "base_uri": "https://localhost:8080/",
          "height": 34
        },
        "outputId": "a877e244-60ec-48bd-d068-aa9dd658c502"
      },
      "source": [
        "agent = AgentSpecial(\"Fisher\", \"18327-121\")\n",
        "agent.nom"
      ],
      "execution_count": 7,
      "outputs": [
        {
          "output_type": "execute_result",
          "data": {
            "text/plain": [
              "'Fisher'"
            ]
          },
          "metadata": {
            "tags": []
          },
          "execution_count": 7
        }
      ]
    },
    {
      "cell_type": "code",
      "metadata": {
        "id": "GaoC1Vkl9KQb",
        "colab_type": "code",
        "colab": {
          "base_uri": "https://localhost:8080/",
          "height": 34
        },
        "outputId": "7c5bbc61-9dd3-422e-c799-a97a546e3a56"
      },
      "source": [
        "print(agent)"
      ],
      "execution_count": 8,
      "outputs": [
        {
          "output_type": "stream",
          "text": [
            "Agent Fisher, matricule 18327-121\n"
          ],
          "name": "stdout"
        }
      ]
    },
    {
      "cell_type": "code",
      "metadata": {
        "id": "FysFmenN9MR4",
        "colab_type": "code",
        "colab": {
          "base_uri": "https://localhost:8080/",
          "height": 34
        },
        "outputId": "49256f56-b15c-4382-c2fd-277a2e7c57e2"
      },
      "source": [
        "agent.prenom"
      ],
      "execution_count": 9,
      "outputs": [
        {
          "output_type": "execute_result",
          "data": {
            "text/plain": [
              "'Martin'"
            ]
          },
          "metadata": {
            "tags": []
          },
          "execution_count": 9
        }
      ]
    },
    {
      "cell_type": "markdown",
      "metadata": {
        "id": "hUlJhBrd_pXr",
        "colab_type": "text"
      },
      "source": [
        "```py\n",
        "def __setattr__(self, nom_attribut, valeur_attribut):\n",
        "  \"\"\"Méthode appelée quand on fait objet.attribut = valeur\"\"\"\n",
        "  print(\"Attention, on modifie l'attribut {0} de l'objet !\".format(nom_attribut))\n",
        "  object.__setattr__(self, nom_attribut, valeur_attribut)\n",
        "```"
      ]
    },
    {
      "cell_type": "markdown",
      "metadata": {
        "id": "iYBLa1U3BPJv",
        "colab_type": "text"
      },
      "source": [
        "### Deux fonctions très pratiques"
      ]
    },
    {
      "cell_type": "markdown",
      "metadata": {
        "id": "sJykCRUPBZx5",
        "colab_type": "text"
      },
      "source": [
        "#### ```issubclass```"
      ]
    },
    {
      "cell_type": "code",
      "metadata": {
        "id": "FesjqSU69PRm",
        "colab_type": "code",
        "colab": {
          "base_uri": "https://localhost:8080/",
          "height": 34
        },
        "outputId": "ca018a0c-4c0c-4e02-b05a-570ce37322b2"
      },
      "source": [
        "issubclass(AgentSpecial, Personne) # AgentSpecial hérite de Personne"
      ],
      "execution_count": 10,
      "outputs": [
        {
          "output_type": "execute_result",
          "data": {
            "text/plain": [
              "True"
            ]
          },
          "metadata": {
            "tags": []
          },
          "execution_count": 10
        }
      ]
    },
    {
      "cell_type": "code",
      "metadata": {
        "id": "Yo65ET7FBlKy",
        "colab_type": "code",
        "colab": {
          "base_uri": "https://localhost:8080/",
          "height": 34
        },
        "outputId": "430a11fd-6c29-4d84-c1e8-829c6d445b63"
      },
      "source": [
        "issubclass(AgentSpecial, object)"
      ],
      "execution_count": 11,
      "outputs": [
        {
          "output_type": "execute_result",
          "data": {
            "text/plain": [
              "True"
            ]
          },
          "metadata": {
            "tags": []
          },
          "execution_count": 11
        }
      ]
    },
    {
      "cell_type": "code",
      "metadata": {
        "id": "_-wvQUX2Bpx1",
        "colab_type": "code",
        "colab": {
          "base_uri": "https://localhost:8080/",
          "height": 34
        },
        "outputId": "c30c82b9-67eb-495d-83a2-a1b3f9cc8669"
      },
      "source": [
        "issubclass(Personne, object)"
      ],
      "execution_count": 12,
      "outputs": [
        {
          "output_type": "execute_result",
          "data": {
            "text/plain": [
              "True"
            ]
          },
          "metadata": {
            "tags": []
          },
          "execution_count": 12
        }
      ]
    },
    {
      "cell_type": "code",
      "metadata": {
        "id": "OP2E6EqKBtsI",
        "colab_type": "code",
        "colab": {
          "base_uri": "https://localhost:8080/",
          "height": 34
        },
        "outputId": "2d4407b7-b6a0-45b9-ecff-e8c4f1eb777d"
      },
      "source": [
        "issubclass(Personne, AgentSpecial) # Personne n'hérite pas d'AgentSpecial"
      ],
      "execution_count": 13,
      "outputs": [
        {
          "output_type": "execute_result",
          "data": {
            "text/plain": [
              "False"
            ]
          },
          "metadata": {
            "tags": []
          },
          "execution_count": 13
        }
      ]
    },
    {
      "cell_type": "markdown",
      "metadata": {
        "id": "DdqMtiqLB8Hy",
        "colab_type": "text"
      },
      "source": [
        "#### ```isinstance```"
      ]
    },
    {
      "cell_type": "code",
      "metadata": {
        "id": "CaQ478ORB3yM",
        "colab_type": "code",
        "colab": {
          "base_uri": "https://localhost:8080/",
          "height": 34
        },
        "outputId": "c001546d-df0d-44ff-b14f-cdfe09f0bab5"
      },
      "source": [
        "agent = AgentSpecial(\"Fisher\", \"18327-121\")\n",
        "isinstance(agent, AgentSpecial) # Agent est une instance d'AgentSpecial"
      ],
      "execution_count": 14,
      "outputs": [
        {
          "output_type": "execute_result",
          "data": {
            "text/plain": [
              "True"
            ]
          },
          "metadata": {
            "tags": []
          },
          "execution_count": 14
        }
      ]
    },
    {
      "cell_type": "code",
      "metadata": {
        "id": "IT3jGxbJCPd-",
        "colab_type": "code",
        "colab": {
          "base_uri": "https://localhost:8080/",
          "height": 34
        },
        "outputId": "57821019-aefe-4302-f0c1-dc998e3e4864"
      },
      "source": [
        "isinstance(agent, Personne) # Agent est une instance héritée de Personne"
      ],
      "execution_count": 15,
      "outputs": [
        {
          "output_type": "execute_result",
          "data": {
            "text/plain": [
              "True"
            ]
          },
          "metadata": {
            "tags": []
          },
          "execution_count": 15
        }
      ]
    },
    {
      "cell_type": "markdown",
      "metadata": {
        "id": "xOGdEFYYC9ko",
        "colab_type": "text"
      },
      "source": [
        "## L'héritage multiple"
      ]
    },
    {
      "cell_type": "markdown",
      "metadata": {
        "id": "xr_B38ZsKBDu",
        "colab_type": "text"
      },
      "source": [
        "L'héritage multiple permet à une classe d'hériter de plusieurs classes mères."
      ]
    },
    {
      "cell_type": "markdown",
      "metadata": {
        "id": "SPWpZj4wKH6h",
        "colab_type": "text"
      },
      "source": [
        "La syntaxe de l'héritage multiple s'écrit donc de la manière suivante : ```class NouvelleClasse(ClasseMere1, ClasseMere2, ClasseMereN):```."
      ]
    },
    {
      "cell_type": "markdown",
      "metadata": {
        "id": "H_mvFLShDB80",
        "colab_type": "text"
      },
      "source": [
        "```py\n",
        "class MaClasseHeritee(MaClasseMere1, MaClasseMere2):\n",
        "```"
      ]
    },
    {
      "cell_type": "markdown",
      "metadata": {
        "id": "fgYGZYFvD2dX",
        "colab_type": "text"
      },
      "source": [
        "## Retour sur les exceptions"
      ]
    },
    {
      "cell_type": "markdown",
      "metadata": {
        "id": "qEcy1W-2KRCD",
        "colab_type": "text"
      },
      "source": [
        "Les exceptions définies par Python sont ordonnées selon une hiérarchie d'héritage."
      ]
    },
    {
      "cell_type": "markdown",
      "metadata": {
        "id": "ZNHz3q3dFWFy",
        "colab_type": "text"
      },
      "source": [
        "### Création d'exceptions personnalisées"
      ]
    },
    {
      "cell_type": "markdown",
      "metadata": {
        "id": "exjhxZ_bFoAp",
        "colab_type": "text"
      },
      "source": [
        "#### Se positionner dans la hiérarchie"
      ]
    },
    {
      "cell_type": "code",
      "metadata": {
        "id": "WwSXvhW_CX9D",
        "colab_type": "code",
        "colab": {}
      },
      "source": [
        "class MonException(Exception):\n",
        "  \"\"\"Exception levée dans un certain contexte... qui reste à définir\"\"\"\n",
        "  def __init__(self, message):\n",
        "    \"\"\"On se contente de stocker le message d'erreur\"\"\"\n",
        "    self.message = message\n",
        "  def __str__(self):\n",
        "    \"\"\"On renvoie le message\"\"\"\n",
        "    return self.message"
      ],
      "execution_count": 0,
      "outputs": []
    },
    {
      "cell_type": "code",
      "metadata": {
        "id": "goiN-tpaD8Tu",
        "colab_type": "code",
        "colab": {
          "base_uri": "https://localhost:8080/",
          "height": 162
        },
        "outputId": "0fc71f31-f4f6-489c-aa79-d8713901ff80"
      },
      "source": [
        "raise MonException(\"OUPS... j'ai tout cassé\")"
      ],
      "execution_count": 18,
      "outputs": [
        {
          "output_type": "error",
          "ename": "MonException",
          "evalue": "ignored",
          "traceback": [
            "\u001b[0;31m---------------------------------------------------------------------------\u001b[0m",
            "\u001b[0;31mMonException\u001b[0m                              Traceback (most recent call last)",
            "\u001b[0;32m<ipython-input-18-a17ca33bc46c>\u001b[0m in \u001b[0;36m<module>\u001b[0;34m()\u001b[0m\n\u001b[0;32m----> 1\u001b[0;31m \u001b[0;32mraise\u001b[0m \u001b[0mMonException\u001b[0m\u001b[0;34m(\u001b[0m\u001b[0;34m\"OUPS... j'ai tout cassé\"\u001b[0m\u001b[0;34m)\u001b[0m\u001b[0;34m\u001b[0m\u001b[0;34m\u001b[0m\u001b[0m\n\u001b[0m",
            "\u001b[0;31mMonException\u001b[0m: OUPS... j'ai tout cassé"
          ]
        }
      ]
    },
    {
      "cell_type": "code",
      "metadata": {
        "id": "44pF0gBLHnfM",
        "colab_type": "code",
        "colab": {}
      },
      "source": [
        "class ErreurAnalyseFichier(Exception):\n",
        "  \"\"\"Cette exception est levée quand un fichier (de configuration)\n",
        "  n'a pas pu être analysé.\n",
        "\n",
        "  Attributs :\n",
        "    fichier -- le nom du fichier posant problème\n",
        "    ligne -- le numéro de la ligne posant problème\n",
        "    message -- le problème proprement dit\"\"\"\n",
        "\n",
        "  def __init__(self, fichier, ligne, message):\n",
        "    \"\"\"Constructeur de notre exception\"\"\"\n",
        "    self.fichier = fichier\n",
        "    self.ligne = ligne\n",
        "    self.message = message\n",
        "  def __str__(self):\n",
        "    \"\"\"Affichage de l'exception\"\"\"\n",
        "    return \"[{}:{}]: {}\".format(self.fichier, self.ligne, \\\n",
        "                                self.message)"
      ],
      "execution_count": 0,
      "outputs": []
    },
    {
      "cell_type": "code",
      "metadata": {
        "id": "f6yXlgSJIypH",
        "colab_type": "code",
        "colab": {
          "base_uri": "https://localhost:8080/",
          "height": 182
        },
        "outputId": "c0a4f5ba-2583-4b5d-9165-a1779375ca22"
      },
      "source": [
        "raise ErreurAnalyseFichier(\"plop.conf\", 34, \"Il manque une parenthèse à la fin de l'expression\")"
      ],
      "execution_count": 20,
      "outputs": [
        {
          "output_type": "error",
          "ename": "ErreurAnalyseFichier",
          "evalue": "ignored",
          "traceback": [
            "\u001b[0;31m---------------------------------------------------------------------------\u001b[0m",
            "\u001b[0;31mErreurAnalyseFichier\u001b[0m                      Traceback (most recent call last)",
            "\u001b[0;32m<ipython-input-20-d3e821b6b0f2>\u001b[0m in \u001b[0;36m<module>\u001b[0;34m()\u001b[0m\n\u001b[0;32m----> 1\u001b[0;31m \u001b[0;32mraise\u001b[0m \u001b[0mErreurAnalyseFichier\u001b[0m\u001b[0;34m(\u001b[0m\u001b[0;34m\"plop.conf\"\u001b[0m\u001b[0;34m,\u001b[0m \u001b[0;36m34\u001b[0m\u001b[0;34m,\u001b[0m \u001b[0;34m\"Il manque une parenthèse à la fin de l'expression\"\u001b[0m\u001b[0;34m)\u001b[0m\u001b[0;34m\u001b[0m\u001b[0;34m\u001b[0m\u001b[0m\n\u001b[0m",
            "\u001b[0;31mErreurAnalyseFichier\u001b[0m: [plop.conf:34]: Il manque une parenthèse à la fin de l'expression"
          ]
        }
      ]
    },
    {
      "cell_type": "markdown",
      "metadata": {
        "id": "pRfdjlvnKd72",
        "colab_type": "text"
      },
      "source": [
        "[Source](https://openclassrooms.com/fr/courses/235344-apprenez-a-programmer-en-python/233164-gerez-les-heritages)"
      ]
    }
  ]
}