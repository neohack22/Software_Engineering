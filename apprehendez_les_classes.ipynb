{
  "nbformat": 4,
  "nbformat_minor": 0,
  "metadata": {
    "colab": {
      "name": "apprehendez-les-classes.ipynb",
      "provenance": [],
      "authorship_tag": "ABX9TyM0fkNkeAG7V31dPfGdeTkd",
      "include_colab_link": true
    },
    "kernelspec": {
      "name": "python3",
      "display_name": "Python 3"
    }
  },
  "cells": [
    {
      "cell_type": "markdown",
      "metadata": {
        "id": "view-in-github",
        "colab_type": "text"
      },
      "source": [
        "<a href=\"https://colab.research.google.com/github/neohack22/Software_Engineering/blob/apprenez-a-programmer-en-python/apprehendez_les_classes.ipynb\" target=\"_parent\"><img src=\"https://colab.research.google.com/assets/colab-badge.svg\" alt=\"Open In Colab\"/></a>"
      ]
    },
    {
      "cell_type": "markdown",
      "metadata": {
        "id": "KkhGfdwmuVg4",
        "colab_type": "text"
      },
      "source": [
        "# Appréhendez les classes"
      ]
    },
    {
      "cell_type": "markdown",
      "metadata": {
        "id": "b_rmcBCHM80f",
        "colab_type": "text"
      },
      "source": [
        "On définit une classe en suivant la syntaxe ```class NomClasse:```."
      ]
    },
    {
      "cell_type": "markdown",
      "metadata": {
        "id": "e3AuveaJuaXQ",
        "colab_type": "text"
      },
      "source": [
        "## Nos premiers attributs"
      ]
    },
    {
      "cell_type": "markdown",
      "metadata": {
        "id": "fGRqJKGWNV5b",
        "colab_type": "text"
      },
      "source": [
        "Les méthodes se définissent comme des fonctions, sauf qu'elles se trouvent dans le corps de la classe."
      ]
    },
    {
      "cell_type": "markdown",
      "metadata": {
        "id": "O5HzkZo-Nvkr",
        "colab_type": "text"
      },
      "source": [
        "Les méthodes d'instance prennent en premier paramètreself, l'instance de l'objet manipulé."
      ]
    },
    {
      "cell_type": "markdown",
      "metadata": {
        "id": "wAokIKoQN3_o",
        "colab_type": "text"
      },
      "source": [
        "On construit une instance de classe en appelant son constructeur, une méthode d'instance appelée ```__init__```."
      ]
    },
    {
      "cell_type": "markdown",
      "metadata": {
        "id": "Bt9AGJYhOE7u",
        "colab_type": "text"
      },
      "source": [
        "On définit les attributs d'une instance dans le constructeur de sa classe, en suivant cette syntaxe : ```self.nom_attribut = valeur```."
      ]
    },
    {
      "cell_type": "code",
      "metadata": {
        "id": "qbddmGkzv_8F",
        "colab_type": "code",
        "colab": {}
      },
      "source": [
        "class Personne: # Définition de notre classe Personne\n",
        "  \"\"\"Classe définissant une personne caractérisée par :\n",
        "  - son nom\n",
        "  - son prenom\n",
        "  - son âge\n",
        "  - son lieu de résidence\"\"\"\n",
        "\n",
        "  def __init__(self): # Notre méthode constructeur\n",
        "    \"\"\"Pour l'instant, on ne va définir qu'un seul attribut\"\"\"\n",
        "    self.nom = \"Dupont\""
      ],
      "execution_count": 0,
      "outputs": []
    },
    {
      "cell_type": "code",
      "metadata": {
        "id": "XYUO1sXWxb_B",
        "colab_type": "code",
        "colab": {
          "base_uri": "https://localhost:8080/",
          "height": 34
        },
        "outputId": "7e79c24e-67e0-44f0-81fa-6430de9a97aa"
      },
      "source": [
        "bernard = Personne()\n",
        "bernard"
      ],
      "execution_count": 2,
      "outputs": [
        {
          "output_type": "execute_result",
          "data": {
            "text/plain": [
              "<__main__.Personne at 0x7f7176306ba8>"
            ]
          },
          "metadata": {
            "tags": []
          },
          "execution_count": 2
        }
      ]
    },
    {
      "cell_type": "code",
      "metadata": {
        "id": "_trIrk6Fx_g-",
        "colab_type": "code",
        "colab": {
          "base_uri": "https://localhost:8080/",
          "height": 34
        },
        "outputId": "4e8ae5ef-829d-4abf-b2ef-4c31bd65211b"
      },
      "source": [
        "bernard.nom"
      ],
      "execution_count": 3,
      "outputs": [
        {
          "output_type": "execute_result",
          "data": {
            "text/plain": [
              "'Dupont'"
            ]
          },
          "metadata": {
            "tags": []
          },
          "execution_count": 3
        }
      ]
    },
    {
      "cell_type": "markdown",
      "metadata": {
        "id": "HTtuxBFCui_K",
        "colab_type": "text"
      },
      "source": [
        "### Étoffons un peu notre constructeur"
      ]
    },
    {
      "cell_type": "code",
      "metadata": {
        "id": "gXEo6XaAuRNu",
        "colab_type": "code",
        "colab": {}
      },
      "source": [
        "class Personne:\n",
        "  \"\"\"Classe définissant une personne caractérisée par :\n",
        "  - son nom\n",
        "  - son prénom\n",
        "  - son âge\n",
        "  - son lieu de résidence\"\"\"\n",
        "\n",
        "  def __init__(self): # Notre méthode constructeur\n",
        "    \"\"\"Constructeur de notre classe.\n",
        "    Chaque attribut ca être instancié avec une valeur par défaut... original\"\"\"\n",
        "\n",
        "    self.nom = \"Dupont\"\n",
        "    self.prenom = \"Jean\" # Quelle originalité\n",
        "    self.age = 33 # Cela n'engage à rien\n",
        "    self.lieu_residence = \"Paris\""
      ],
      "execution_count": 0,
      "outputs": []
    },
    {
      "cell_type": "code",
      "metadata": {
        "id": "kpE95pbJ0jVS",
        "colab_type": "code",
        "colab": {
          "base_uri": "https://localhost:8080/",
          "height": 34
        },
        "outputId": "5711726f-aa17-431c-9cd7-992b92f46717"
      },
      "source": [
        "jean = Personne()\n",
        "jean.nom"
      ],
      "execution_count": 5,
      "outputs": [
        {
          "output_type": "execute_result",
          "data": {
            "text/plain": [
              "'Dupont'"
            ]
          },
          "metadata": {
            "tags": []
          },
          "execution_count": 5
        }
      ]
    },
    {
      "cell_type": "code",
      "metadata": {
        "id": "0-It8xFL0r61",
        "colab_type": "code",
        "colab": {
          "base_uri": "https://localhost:8080/",
          "height": 34
        },
        "outputId": "ef477712-6647-46ff-d32b-9d1499365522"
      },
      "source": [
        "jean.prenom"
      ],
      "execution_count": 6,
      "outputs": [
        {
          "output_type": "execute_result",
          "data": {
            "text/plain": [
              "'Jean'"
            ]
          },
          "metadata": {
            "tags": []
          },
          "execution_count": 6
        }
      ]
    },
    {
      "cell_type": "code",
      "metadata": {
        "id": "Km6DfdSv0_rd",
        "colab_type": "code",
        "colab": {
          "base_uri": "https://localhost:8080/",
          "height": 34
        },
        "outputId": "318351b0-aad3-4f34-8ca9-50eb805624b0"
      },
      "source": [
        "jean.age"
      ],
      "execution_count": 7,
      "outputs": [
        {
          "output_type": "execute_result",
          "data": {
            "text/plain": [
              "33"
            ]
          },
          "metadata": {
            "tags": []
          },
          "execution_count": 7
        }
      ]
    },
    {
      "cell_type": "code",
      "metadata": {
        "id": "9HW6qQtb1Bxb",
        "colab_type": "code",
        "colab": {
          "base_uri": "https://localhost:8080/",
          "height": 34
        },
        "outputId": "97dff57a-59e9-445f-c225-f6d7fdf2a046"
      },
      "source": [
        "jean.lieu_residence"
      ],
      "execution_count": 8,
      "outputs": [
        {
          "output_type": "execute_result",
          "data": {
            "text/plain": [
              "'Paris'"
            ]
          },
          "metadata": {
            "tags": []
          },
          "execution_count": 8
        }
      ]
    },
    {
      "cell_type": "code",
      "metadata": {
        "id": "xYNnkg6d1FEB",
        "colab_type": "code",
        "colab": {
          "base_uri": "https://localhost:8080/",
          "height": 34
        },
        "outputId": "a407d257-8266-405f-db4e-33798f3bac19"
      },
      "source": [
        "# Jean déménage...\n",
        "jean.lieu_residence = \"Berlin\"\n",
        "jean.lieu_residence"
      ],
      "execution_count": 9,
      "outputs": [
        {
          "output_type": "execute_result",
          "data": {
            "text/plain": [
              "'Berlin'"
            ]
          },
          "metadata": {
            "tags": []
          },
          "execution_count": 9
        }
      ]
    },
    {
      "cell_type": "code",
      "metadata": {
        "id": "6t_2Xzoj1Odt",
        "colab_type": "code",
        "colab": {}
      },
      "source": [
        "class Personne:\n",
        "  \"\"\"Classe définissant une personne caractérisée par :\n",
        "  - son nom\n",
        "  - son prénom\n",
        "  - son âge\n",
        "  - son lieu de résidence\"\"\"\n",
        "\n",
        "  def __init__(self, nom, prenom):\n",
        "    \"\"\"Constructeur de notre classe\"\"\"\n",
        "    self.nom = nom\n",
        "    self.prenom = prenom\n",
        "    self.age = 33\n",
        "    self.lieu_residence = \"Paris\""
      ],
      "execution_count": 0,
      "outputs": []
    },
    {
      "cell_type": "code",
      "metadata": {
        "id": "OXCGAAAt19qk",
        "colab_type": "code",
        "colab": {
          "base_uri": "https://localhost:8080/",
          "height": 34
        },
        "outputId": "0c77d0b0-6a91-4525-e26f-484b30141eea"
      },
      "source": [
        "bernard = Personne(\"Micado\", \"Bernard\")\n",
        "bernard.nom"
      ],
      "execution_count": 11,
      "outputs": [
        {
          "output_type": "execute_result",
          "data": {
            "text/plain": [
              "'Micado'"
            ]
          },
          "metadata": {
            "tags": []
          },
          "execution_count": 11
        }
      ]
    },
    {
      "cell_type": "code",
      "metadata": {
        "id": "ymaVqGss2FZy",
        "colab_type": "code",
        "colab": {
          "base_uri": "https://localhost:8080/",
          "height": 34
        },
        "outputId": "22bcdfc5-cfb6-4cdf-aa94-abe9b35d0294"
      },
      "source": [
        "bernard.prenom"
      ],
      "execution_count": 12,
      "outputs": [
        {
          "output_type": "execute_result",
          "data": {
            "text/plain": [
              "'Bernard'"
            ]
          },
          "metadata": {
            "tags": []
          },
          "execution_count": 12
        }
      ]
    },
    {
      "cell_type": "code",
      "metadata": {
        "id": "CJyxfFr92Hu0",
        "colab_type": "code",
        "colab": {
          "base_uri": "https://localhost:8080/",
          "height": 34
        },
        "outputId": "1fd54621-388d-4856-a9ca-a8baf99adc80"
      },
      "source": [
        "bernard.age"
      ],
      "execution_count": 13,
      "outputs": [
        {
          "output_type": "execute_result",
          "data": {
            "text/plain": [
              "33"
            ]
          },
          "metadata": {
            "tags": []
          },
          "execution_count": 13
        }
      ]
    },
    {
      "cell_type": "markdown",
      "metadata": {
        "id": "FifQ677d2i1r",
        "colab_type": "text"
      },
      "source": [
        "### Attributs de classe"
      ]
    },
    {
      "cell_type": "code",
      "metadata": {
        "id": "MrDr_3AS2JBO",
        "colab_type": "code",
        "colab": {}
      },
      "source": [
        "class Compteur:\n",
        "  \"\"\"Cette classe possède un attribut de classe qui s'incrémente à chaque\n",
        "  fois que l'on crée un objet de ce type\"\"\"\n",
        "\n",
        "  objets_crees = 0 # Le compteur vaut 0 au départ\n",
        "  def __init__(self):\n",
        "    \"\"\"A chaque fois qu'on crée un objet, on incrémente le compteur\"\"\"\n",
        "    Compteur.objets_crees += 1"
      ],
      "execution_count": 0,
      "outputs": []
    },
    {
      "cell_type": "code",
      "metadata": {
        "id": "0FB7Dlpm3wi4",
        "colab_type": "code",
        "colab": {
          "base_uri": "https://localhost:8080/",
          "height": 34
        },
        "outputId": "fe6fb4d2-cfb9-4dab-9d5c-e303a93a758b"
      },
      "source": [
        "Compteur.objets_crees"
      ],
      "execution_count": 15,
      "outputs": [
        {
          "output_type": "execute_result",
          "data": {
            "text/plain": [
              "0"
            ]
          },
          "metadata": {
            "tags": []
          },
          "execution_count": 15
        }
      ]
    },
    {
      "cell_type": "code",
      "metadata": {
        "id": "kYkTIgt3357u",
        "colab_type": "code",
        "colab": {
          "base_uri": "https://localhost:8080/",
          "height": 34
        },
        "outputId": "1b754ed7-bb2a-4709-e750-2b693bf13b1f"
      },
      "source": [
        "a = Compteur() # On crée un premier objet\n",
        "Compteur.objets_crees"
      ],
      "execution_count": 16,
      "outputs": [
        {
          "output_type": "execute_result",
          "data": {
            "text/plain": [
              "1"
            ]
          },
          "metadata": {
            "tags": []
          },
          "execution_count": 16
        }
      ]
    },
    {
      "cell_type": "code",
      "metadata": {
        "id": "VJ-Da1tS4EXT",
        "colab_type": "code",
        "colab": {
          "base_uri": "https://localhost:8080/",
          "height": 34
        },
        "outputId": "c006e1c3-c075-4266-bdf6-e2dc952de72f"
      },
      "source": [
        "b = Compteur()\n",
        "Compteur.objets_crees"
      ],
      "execution_count": 17,
      "outputs": [
        {
          "output_type": "execute_result",
          "data": {
            "text/plain": [
              "2"
            ]
          },
          "metadata": {
            "tags": []
          },
          "execution_count": 17
        }
      ]
    },
    {
      "cell_type": "markdown",
      "metadata": {
        "id": "bqUX3vMZ4h5Y",
        "colab_type": "text"
      },
      "source": [
        "## Les méthodes, la recette"
      ]
    },
    {
      "cell_type": "code",
      "metadata": {
        "id": "O9-VxGkC4I7G",
        "colab_type": "code",
        "colab": {}
      },
      "source": [
        "class TableauNoir:\n",
        "  \"\"\"Classe définissant une surface sur laquelle on peut écrire,\n",
        "  que l'on peut lire et effacer, par jeu de méthodes.\n",
        "  L'attribut modifié est 'surface'\"\"\"\n",
        "\n",
        "  def __init__(self):\n",
        "    \"\"\"Par défaut, notre surface est vide\"\"\"\n",
        "    self.surface = \"\"\n",
        "\n",
        "  def ecrire(self, message_a_ecrire):\n",
        "    \"\"\"Méthode permettant d'écrire sur la surface du tableau.\n",
        "    Si la surface n'est pas vide, on saute une ligne avant de rajouter\n",
        "    le message à écrire\"\"\"\n",
        "\n",
        "    if self.surface != \"\":\n",
        "      self.surface += \"\\n\"\n",
        "    self.surface += message_a_ecrire"
      ],
      "execution_count": 0,
      "outputs": []
    },
    {
      "cell_type": "code",
      "metadata": {
        "id": "YG8MRXjs6P8h",
        "colab_type": "code",
        "colab": {
          "base_uri": "https://localhost:8080/",
          "height": 34
        },
        "outputId": "e4171aab-7d53-4ab1-b282-3c4c2e9956bc"
      },
      "source": [
        "tab = TableauNoir()\n",
        "tab.surface"
      ],
      "execution_count": 19,
      "outputs": [
        {
          "output_type": "execute_result",
          "data": {
            "text/plain": [
              "''"
            ]
          },
          "metadata": {
            "tags": []
          },
          "execution_count": 19
        }
      ]
    },
    {
      "cell_type": "code",
      "metadata": {
        "id": "YCk0X9dk6Xjx",
        "colab_type": "code",
        "colab": {
          "base_uri": "https://localhost:8080/",
          "height": 34
        },
        "outputId": "56559c2f-034b-4ba6-e247-300f7b9eaae6"
      },
      "source": [
        "tab.ecrire(\"Coooool ! Ce sont les vacances !\")\n",
        "tab.surface"
      ],
      "execution_count": 20,
      "outputs": [
        {
          "output_type": "execute_result",
          "data": {
            "text/plain": [
              "'Coooool ! Ce sont les vacances !'"
            ]
          },
          "metadata": {
            "tags": []
          },
          "execution_count": 20
        }
      ]
    },
    {
      "cell_type": "code",
      "metadata": {
        "id": "V6L1sVfF6i38",
        "colab_type": "code",
        "colab": {
          "base_uri": "https://localhost:8080/",
          "height": 34
        },
        "outputId": "90ffda36-50fa-4627-8445-208471b77258"
      },
      "source": [
        "tab.ecrire(\"Joyeux Noêl !\")\n",
        "tab.surface"
      ],
      "execution_count": 21,
      "outputs": [
        {
          "output_type": "execute_result",
          "data": {
            "text/plain": [
              "'Coooool ! Ce sont les vacances !\\nJoyeux Noêl !'"
            ]
          },
          "metadata": {
            "tags": []
          },
          "execution_count": 21
        }
      ]
    },
    {
      "cell_type": "code",
      "metadata": {
        "id": "HuJLlrA46sol",
        "colab_type": "code",
        "colab": {
          "base_uri": "https://localhost:8080/",
          "height": 50
        },
        "outputId": "739299a7-2d1b-4522-8aea-77e423e337bf"
      },
      "source": [
        "print(tab.surface)"
      ],
      "execution_count": 22,
      "outputs": [
        {
          "output_type": "stream",
          "text": [
            "Coooool ! Ce sont les vacances !\n",
            "Joyeux Noêl !\n"
          ],
          "name": "stdout"
        }
      ]
    },
    {
      "cell_type": "markdown",
      "metadata": {
        "id": "T8aFEoDF7DoS",
        "colab_type": "text"
      },
      "source": [
        "### Le paramètre ```self```"
      ]
    },
    {
      "cell_type": "code",
      "metadata": {
        "id": "GWZsKlad6ydT",
        "colab_type": "code",
        "colab": {
          "base_uri": "https://localhost:8080/",
          "height": 54
        },
        "outputId": "373a73d4-52b7-474a-d89b-f31e665eaabc"
      },
      "source": [
        "tab.ecrire"
      ],
      "execution_count": 23,
      "outputs": [
        {
          "output_type": "execute_result",
          "data": {
            "text/plain": [
              "<bound method TableauNoir.ecrire of <__main__.TableauNoir object at 0x7f7175a21c50>>"
            ]
          },
          "metadata": {
            "tags": []
          },
          "execution_count": 23
        }
      ]
    },
    {
      "cell_type": "code",
      "metadata": {
        "id": "VI9DlsJm7wss",
        "colab_type": "code",
        "colab": {
          "base_uri": "https://localhost:8080/",
          "height": 34
        },
        "outputId": "b727df80-86df-4406-8837-95413384bc32"
      },
      "source": [
        "TableauNoir.ecrire"
      ],
      "execution_count": 24,
      "outputs": [
        {
          "output_type": "execute_result",
          "data": {
            "text/plain": [
              "<function __main__.TableauNoir.ecrire>"
            ]
          },
          "metadata": {
            "tags": []
          },
          "execution_count": 24
        }
      ]
    },
    {
      "cell_type": "code",
      "metadata": {
        "id": "gBgcSQhk70s3",
        "colab_type": "code",
        "colab": {
          "base_uri": "https://localhost:8080/",
          "height": 134
        },
        "outputId": "0211d6f9-06f1-4262-becf-2e0ed396572a"
      },
      "source": [
        "help(TableauNoir.ecrire)"
      ],
      "execution_count": 25,
      "outputs": [
        {
          "output_type": "stream",
          "text": [
            "Help on function ecrire in module __main__:\n",
            "\n",
            "ecrire(self, message_a_ecrire)\n",
            "    Méthode permettant d'écrire sur la surface du tableau.\n",
            "    Si la surface n'est pas vide, on saute une ligne avant de rajouter\n",
            "    le message à écrire\n",
            "\n"
          ],
          "name": "stdout"
        }
      ]
    },
    {
      "cell_type": "code",
      "metadata": {
        "id": "XDIKHzco7_F8",
        "colab_type": "code",
        "colab": {}
      },
      "source": [
        "TableauNoir.ecrire(tab, \"essai\")"
      ],
      "execution_count": 0,
      "outputs": []
    },
    {
      "cell_type": "code",
      "metadata": {
        "id": "U3_FHKAO8Iuo",
        "colab_type": "code",
        "colab": {
          "base_uri": "https://localhost:8080/",
          "height": 34
        },
        "outputId": "006f877a-35b1-4d40-815d-6d21e0063eb5"
      },
      "source": [
        "tab.surface"
      ],
      "execution_count": 27,
      "outputs": [
        {
          "output_type": "execute_result",
          "data": {
            "text/plain": [
              "'Coooool ! Ce sont les vacances !\\nJoyeux Noêl !\\nessai'"
            ]
          },
          "metadata": {
            "tags": []
          },
          "execution_count": 27
        }
      ]
    },
    {
      "cell_type": "code",
      "metadata": {
        "id": "nKyQHC7L8LJK",
        "colab_type": "code",
        "colab": {}
      },
      "source": [
        "class TableauNoir:\n",
        "  \"\"\"Classe définissant une surface sur laquelle on peut écrire,\n",
        "  que l'on peut lire et effacer, par jeu de méthodes.\n",
        "  L'attribut modifié est 'surface'\"\"\"\n",
        "\n",
        "  def __init__(self):\n",
        "    \"\"\"Par défaut, notre surface est vide\"\"\"\n",
        "    self.surface = \"\"\n",
        "\n",
        "  def ecrire(self, message_a_ecrire):\n",
        "    \"\"\"Méthode permettant d'écrire sur la surface du tableau.\n",
        "    Si la surface n'est pas vide,\n",
        "    on saute une ligne avant de rajouter le message à écrire\"\"\"\n",
        "\n",
        "    if self.surface != \"\":\n",
        "      self.surface += \"\\n\"\n",
        "    self.surface += message_a_ecrire\n",
        "\n",
        "  def lire(self):\n",
        "    \"\"\"Cette méthode se charge d'afficher, grâce à print,\n",
        "    la surface du tableau\"\"\"\n",
        "\n",
        "    print(self.surface)\n",
        "\n",
        "  def effacer(self):\n",
        "    \"\"\"Cette méthode permet d'effacer la surface du tableau\"\"\"\n",
        "    self.surface = \"\""
      ],
      "execution_count": 0,
      "outputs": []
    },
    {
      "cell_type": "code",
      "metadata": {
        "id": "GAqYKzUx-6k4",
        "colab_type": "code",
        "colab": {
          "base_uri": "https://localhost:8080/",
          "height": 67
        },
        "outputId": "bf29474b-cb7b-416d-d8fa-1011855b2fdc"
      },
      "source": [
        "tab = TableauNoir()\n",
        "tab.lire()\n",
        "tab.ecrire(\"Salut tout le monde.\")\n",
        "tab.ecrire(\"La forme ?\")\n",
        "tab.lire()"
      ],
      "execution_count": 29,
      "outputs": [
        {
          "output_type": "stream",
          "text": [
            "\n",
            "Salut tout le monde.\n",
            "La forme ?\n"
          ],
          "name": "stdout"
        }
      ]
    },
    {
      "cell_type": "code",
      "metadata": {
        "id": "k_DXCtm1_O5h",
        "colab_type": "code",
        "colab": {
          "base_uri": "https://localhost:8080/",
          "height": 34
        },
        "outputId": "1a5c3098-39a9-4787-f5b3-c84ba25d458d"
      },
      "source": [
        "tab.effacer()\n",
        "tab.lire()"
      ],
      "execution_count": 30,
      "outputs": [
        {
          "output_type": "stream",
          "text": [
            "\n"
          ],
          "name": "stdout"
        }
      ]
    },
    {
      "cell_type": "markdown",
      "metadata": {
        "id": "jAAV9RVf_vxb",
        "colab_type": "text"
      },
      "source": [
        "### Méthodes de classe et méthodes statiques"
      ]
    },
    {
      "cell_type": "code",
      "metadata": {
        "id": "t3bQj4au_VXG",
        "colab_type": "code",
        "colab": {}
      },
      "source": [
        "class Compteur:\n",
        "  \"\"\"Cette classe possède un attribut de classe qui s'incrémente à chaque\n",
        "  fois que l'on crée un objet de ce type\"\"\"\n",
        "\n",
        "  objets_crees = 0 # Le compteur vaut 0 au départ\n",
        "  def __init__(self):\n",
        "    \"\"\"A chaque fois qu'on crée un objet, on incrémente le compteur\"\"\"\n",
        "    Compteur.objets_crees += 1\n",
        "\n",
        "  def combien(cls):\n",
        "    \"\"\"Méthode de classe affichant combien d'objets ont été créés\"\"\"\n",
        "    print(\"Jusqu'à présent, {} objets ont été créés.\".format(\n",
        "        cls.objets_crees))\n",
        "  combien = classmethod(combien)"
      ],
      "execution_count": 0,
      "outputs": []
    },
    {
      "cell_type": "code",
      "metadata": {
        "id": "Iz7vGG1QGV0O",
        "colab_type": "code",
        "colab": {
          "base_uri": "https://localhost:8080/",
          "height": 34
        },
        "outputId": "7cedd64c-d71c-46f6-98ab-39ccef9b6e12"
      },
      "source": [
        "Compteur.combien()"
      ],
      "execution_count": 32,
      "outputs": [
        {
          "output_type": "stream",
          "text": [
            "Jusqu'à présent, 0 objets ont été créés.\n"
          ],
          "name": "stdout"
        }
      ]
    },
    {
      "cell_type": "code",
      "metadata": {
        "id": "AfIXCM3JGab8",
        "colab_type": "code",
        "colab": {}
      },
      "source": [
        "a = Compteur()"
      ],
      "execution_count": 0,
      "outputs": []
    },
    {
      "cell_type": "code",
      "metadata": {
        "id": "PNDtssQkGeW1",
        "colab_type": "code",
        "colab": {
          "base_uri": "https://localhost:8080/",
          "height": 34
        },
        "outputId": "bf6ae511-a519-46cc-8fd1-1e9dffae90bb"
      },
      "source": [
        "Compteur.combien()"
      ],
      "execution_count": 34,
      "outputs": [
        {
          "output_type": "stream",
          "text": [
            "Jusqu'à présent, 1 objets ont été créés.\n"
          ],
          "name": "stdout"
        }
      ]
    },
    {
      "cell_type": "code",
      "metadata": {
        "id": "nIVIdRVOGhtG",
        "colab_type": "code",
        "colab": {}
      },
      "source": [
        "b = Compteur()"
      ],
      "execution_count": 0,
      "outputs": []
    },
    {
      "cell_type": "code",
      "metadata": {
        "id": "2ueSGuebGlMS",
        "colab_type": "code",
        "colab": {
          "base_uri": "https://localhost:8080/",
          "height": 34
        },
        "outputId": "de2801de-517e-4fd4-9d2f-d9e891fadc61"
      },
      "source": [
        "Compteur.combien()"
      ],
      "execution_count": 36,
      "outputs": [
        {
          "output_type": "stream",
          "text": [
            "Jusqu'à présent, 2 objets ont été créés.\n"
          ],
          "name": "stdout"
        }
      ]
    },
    {
      "cell_type": "code",
      "metadata": {
        "id": "1Gg8MXrBH0FX",
        "colab_type": "code",
        "colab": {}
      },
      "source": [
        "class Test:\n",
        "  \"\"\"Une classe de test tout simplement\"\"\"\n",
        "  def afficher():\n",
        "    \"\"\"Fonction chargée d'afficher quelque chose\"\"\"\n",
        "    print(\"On affiche la même chose.\")\n",
        "    print(\"peu importe les données de l'objet ou de la classe.\")\n",
        "  afficher = staticmethod(afficher)"
      ],
      "execution_count": 0,
      "outputs": []
    },
    {
      "cell_type": "markdown",
      "metadata": {
        "id": "gZ99jJuYI9fG",
        "colab_type": "text"
      },
      "source": [
        "## Un peu d'introspection"
      ]
    },
    {
      "cell_type": "markdown",
      "metadata": {
        "id": "dGTPu_lpJAiP",
        "colab_type": "text"
      },
      "source": [
        "### La fonction ```dir```"
      ]
    },
    {
      "cell_type": "code",
      "metadata": {
        "id": "kLaNwr3zJGqD",
        "colab_type": "code",
        "colab": {}
      },
      "source": [
        "class Test:\n",
        "  \"\"\"Une classe de test tout simplement\"\"\"\n",
        "  def __init__(self):\n",
        "    \"\"\"On définit dans le constructeur un unique attribut\"\"\"\n",
        "    self.mon_attribut = \"ok\"\n",
        "\n",
        "  def afficher_attribut(self):\n",
        "    \"\"\"Méthode affichant l'attribut 'mon attribut'\"\"\"\n",
        "    print(\"Mon attribut est {0}.\".format(self.mon_attribut))"
      ],
      "execution_count": 0,
      "outputs": []
    },
    {
      "cell_type": "code",
      "metadata": {
        "id": "SCbvICuxJzTi",
        "colab_type": "code",
        "colab": {
          "base_uri": "https://localhost:8080/",
          "height": 34
        },
        "outputId": "ceeb7725-c6c4-4879-db50-664c09e7a8b6"
      },
      "source": [
        "# Créons un objet de la classe Test\n",
        "un_test = Test()\n",
        "un_test.afficher_attribut()"
      ],
      "execution_count": 45,
      "outputs": [
        {
          "output_type": "stream",
          "text": [
            "Mon attribut est ok.\n"
          ],
          "name": "stdout"
        }
      ]
    },
    {
      "cell_type": "code",
      "metadata": {
        "id": "CztZ2tqAKATc",
        "colab_type": "code",
        "colab": {
          "base_uri": "https://localhost:8080/",
          "height": 487
        },
        "outputId": "7e6d62c6-2867-44cc-cffd-b43dc6697234"
      },
      "source": [
        "dir(un_test)"
      ],
      "execution_count": 46,
      "outputs": [
        {
          "output_type": "execute_result",
          "data": {
            "text/plain": [
              "['__class__',\n",
              " '__delattr__',\n",
              " '__dict__',\n",
              " '__dir__',\n",
              " '__doc__',\n",
              " '__eq__',\n",
              " '__format__',\n",
              " '__ge__',\n",
              " '__getattribute__',\n",
              " '__gt__',\n",
              " '__hash__',\n",
              " '__init__',\n",
              " '__init_subclass__',\n",
              " '__le__',\n",
              " '__lt__',\n",
              " '__module__',\n",
              " '__ne__',\n",
              " '__new__',\n",
              " '__reduce__',\n",
              " '__reduce_ex__',\n",
              " '__repr__',\n",
              " '__setattr__',\n",
              " '__sizeof__',\n",
              " '__str__',\n",
              " '__subclasshook__',\n",
              " '__weakref__',\n",
              " 'afficher_attribut',\n",
              " 'mon_attribut']"
            ]
          },
          "metadata": {
            "tags": []
          },
          "execution_count": 46
        }
      ]
    },
    {
      "cell_type": "markdown",
      "metadata": {
        "id": "6UqTfz3GKb95",
        "colab_type": "text"
      },
      "source": [
        "### L'attribut spécial ```__dict__```"
      ]
    },
    {
      "cell_type": "code",
      "metadata": {
        "id": "rQaPY2SRKDsq",
        "colab_type": "code",
        "colab": {
          "base_uri": "https://localhost:8080/",
          "height": 34
        },
        "outputId": "81d2b776-8786-4911-b87c-863373290b1e"
      },
      "source": [
        "un_test = Test()\n",
        "un_test.__dict__"
      ],
      "execution_count": 47,
      "outputs": [
        {
          "output_type": "execute_result",
          "data": {
            "text/plain": [
              "{'mon_attribut': 'ok'}"
            ]
          },
          "metadata": {
            "tags": []
          },
          "execution_count": 47
        }
      ]
    },
    {
      "cell_type": "code",
      "metadata": {
        "id": "1Eug0fiELXJU",
        "colab_type": "code",
        "colab": {
          "base_uri": "https://localhost:8080/",
          "height": 34
        },
        "outputId": "b42e4d78-c8c9-4484-9116-9a0c423f1f11"
      },
      "source": [
        "un_test.__dict__[\"mon_attribut\"] = \"plus ok\"\n",
        "un_test.afficher_attribut()"
      ],
      "execution_count": 48,
      "outputs": [
        {
          "output_type": "stream",
          "text": [
            "Mon attribut est plus ok.\n"
          ],
          "name": "stdout"
        }
      ]
    },
    {
      "cell_type": "markdown",
      "metadata": {
        "id": "ZgXYSlplOTz_",
        "colab_type": "text"
      },
      "source": [
        "[source](https://openclassrooms.com/fr/courses/235344-apprenez-a-programmer-en-python/232721-apprehendez-les-classes)"
      ]
    }
  ]
}