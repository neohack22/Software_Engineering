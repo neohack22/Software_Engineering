{
  "nbformat": 4,
  "nbformat_minor": 0,
  "metadata": {
    "colab": {
      "name": "boucle-for.ipynb",
      "provenance": [],
      "authorship_tag": "ABX9TyPwNu9gP2xlY4jWGdE/o0+d",
      "include_colab_link": true
    },
    "kernelspec": {
      "name": "python3",
      "display_name": "Python 3"
    }
  },
  "cells": [
    {
      "cell_type": "markdown",
      "metadata": {
        "id": "view-in-github",
        "colab_type": "text"
      },
      "source": [
        "<a href=\"https://colab.research.google.com/github/neohack22/Software_Engineering/blob/apprenez-a-programmer-en-python/boucle_for.ipynb\" target=\"_parent\"><img src=\"https://colab.research.google.com/assets/colab-badge.svg\" alt=\"Open In Colab\"/></a>"
      ]
    },
    {
      "cell_type": "markdown",
      "metadata": {
        "id": "aR34ncLgMJdu",
        "colab_type": "text"
      },
      "source": [
        "# Découvrez la boucle for"
      ]
    },
    {
      "cell_type": "markdown",
      "metadata": {
        "id": "QZUWzjBUMZEL",
        "colab_type": "text"
      },
      "source": [
        "## Les itérateurs"
      ]
    },
    {
      "cell_type": "markdown",
      "metadata": {
        "id": "bVxluk65dN1Q",
        "colab_type": "text"
      },
      "source": [
        "Quand on utilise la boucle ```for element in sequence:```, un itérateur de cette séquence permet de la parcourir."
      ]
    },
    {
      "cell_type": "markdown",
      "metadata": {
        "id": "5zfoPZbrNMYx",
        "colab_type": "text"
      },
      "source": [
        "```py\n",
        "ma_liste = [1, 2, 3]\n",
        "for element in ma_liste:\n",
        "```"
      ]
    },
    {
      "cell_type": "markdown",
      "metadata": {
        "id": "PzIK6ovLNNb6",
        "colab_type": "text"
      },
      "source": [
        "### Utiliser les itérateurs"
      ]
    },
    {
      "cell_type": "markdown",
      "metadata": {
        "id": "sZjm6AxldXzH",
        "colab_type": "text"
      },
      "source": [
        "On peut récupérer l'itérateur d'une séquence grâce à la fonction ```iter```."
      ]
    },
    {
      "cell_type": "code",
      "metadata": {
        "id": "oiLf-OxoMBEB",
        "colab_type": "code",
        "colab": {
          "base_uri": "https://localhost:8080/",
          "height": 34
        },
        "outputId": "cf892f47-bbd1-462e-a4ff-ff270bbcf0ae"
      },
      "source": [
        "ma_chaine = \"test\"\n",
        "iterateur_de_ma_chaine = iter(ma_chaine)\n",
        "iterateur_de_ma_chaine"
      ],
      "execution_count": 1,
      "outputs": [
        {
          "output_type": "execute_result",
          "data": {
            "text/plain": [
              "<str_iterator at 0x7f0d2aee8128>"
            ]
          },
          "metadata": {
            "tags": []
          },
          "execution_count": 1
        }
      ]
    },
    {
      "cell_type": "code",
      "metadata": {
        "id": "wZK8wCx1O9W5",
        "colab_type": "code",
        "colab": {
          "base_uri": "https://localhost:8080/",
          "height": 34
        },
        "outputId": "3fda5c53-070f-49c2-a5d9-3c08279eb4f8"
      },
      "source": [
        "next(iterateur_de_ma_chaine)"
      ],
      "execution_count": 2,
      "outputs": [
        {
          "output_type": "execute_result",
          "data": {
            "text/plain": [
              "'t'"
            ]
          },
          "metadata": {
            "tags": []
          },
          "execution_count": 2
        }
      ]
    },
    {
      "cell_type": "code",
      "metadata": {
        "id": "YK8HS-WDPBiT",
        "colab_type": "code",
        "colab": {
          "base_uri": "https://localhost:8080/",
          "height": 34
        },
        "outputId": "0eaea0a8-acef-4e26-dcf4-0401a03f3bb2"
      },
      "source": [
        "next(iterateur_de_ma_chaine)"
      ],
      "execution_count": 3,
      "outputs": [
        {
          "output_type": "execute_result",
          "data": {
            "text/plain": [
              "'e'"
            ]
          },
          "metadata": {
            "tags": []
          },
          "execution_count": 3
        }
      ]
    },
    {
      "cell_type": "code",
      "metadata": {
        "id": "b9-_Ac7qPIBa",
        "colab_type": "code",
        "colab": {
          "base_uri": "https://localhost:8080/",
          "height": 34
        },
        "outputId": "980e6b36-9605-4a35-db5d-aafd4b91c669"
      },
      "source": [
        "next(iterateur_de_ma_chaine)"
      ],
      "execution_count": 4,
      "outputs": [
        {
          "output_type": "execute_result",
          "data": {
            "text/plain": [
              "'s'"
            ]
          },
          "metadata": {
            "tags": []
          },
          "execution_count": 4
        }
      ]
    },
    {
      "cell_type": "code",
      "metadata": {
        "id": "Hb1XHAG5PJvM",
        "colab_type": "code",
        "colab": {
          "base_uri": "https://localhost:8080/",
          "height": 34
        },
        "outputId": "5b8e0508-a1da-4aac-e370-5efdea12b88a"
      },
      "source": [
        "next(iterateur_de_ma_chaine)"
      ],
      "execution_count": 5,
      "outputs": [
        {
          "output_type": "execute_result",
          "data": {
            "text/plain": [
              "'t'"
            ]
          },
          "metadata": {
            "tags": []
          },
          "execution_count": 5
        }
      ]
    },
    {
      "cell_type": "code",
      "metadata": {
        "id": "KiaSATA2PKwD",
        "colab_type": "code",
        "colab": {
          "base_uri": "https://localhost:8080/",
          "height": 162
        },
        "outputId": "4455311a-4e55-4d3d-8733-3f585025ca7e"
      },
      "source": [
        "next(iterateur_de_ma_chaine)"
      ],
      "execution_count": 6,
      "outputs": [
        {
          "output_type": "error",
          "ename": "StopIteration",
          "evalue": "ignored",
          "traceback": [
            "\u001b[0;31m---------------------------------------------------------------------------\u001b[0m",
            "\u001b[0;31mStopIteration\u001b[0m                             Traceback (most recent call last)",
            "\u001b[0;32m<ipython-input-6-ac9401c82aea>\u001b[0m in \u001b[0;36m<module>\u001b[0;34m()\u001b[0m\n\u001b[0;32m----> 1\u001b[0;31m \u001b[0mnext\u001b[0m\u001b[0;34m(\u001b[0m\u001b[0miterateur_de_ma_chaine\u001b[0m\u001b[0;34m)\u001b[0m\u001b[0;34m\u001b[0m\u001b[0;34m\u001b[0m\u001b[0m\n\u001b[0m",
            "\u001b[0;31mStopIteration\u001b[0m: "
          ]
        }
      ]
    },
    {
      "cell_type": "markdown",
      "metadata": {
        "id": "YlP2zB3oPqih",
        "colab_type": "text"
      },
      "source": [
        "### Créons nos itérateurs"
      ]
    },
    {
      "cell_type": "markdown",
      "metadata": {
        "id": "4JuhWWiUdfvo",
        "colab_type": "text"
      },
      "source": [
        "Une séquence renvoie l'itérateur permettant de la parcourir grâce à la méthode spéciale ```__iter__```."
      ]
    },
    {
      "cell_type": "markdown",
      "metadata": {
        "id": "Bpk2eUX8dwkH",
        "colab_type": "text"
      },
      "source": [
        "Un itérateur possède une méthode spéciale, ```__next__```, qui renvoie le prochain élément à parcourir ou lève l'exception StopIteration qui arrête la boucle."
      ]
    },
    {
      "cell_type": "code",
      "metadata": {
        "id": "3S92PXevPL_v",
        "colab_type": "code",
        "colab": {}
      },
      "source": [
        "class RevStr(str):\n",
        "  \"\"\"Classe reprenant les méthodes et attributs des chaines construites depuis \n",
        "  'str'.\n",
        "  On se contente de définir une méthode de parcours différente :\n",
        "  au lieu de parcourir la chaîne de la 1ère à la dernière lettre, \n",
        "  on la parcourt de la dernière à la 1ère.\n",
        "  Les autres, y compris le constructeur, n'ont pas besoin d'être redéfinies\"\"\"\n",
        "\n",
        "  def __iter__(self):\n",
        "    \"\"\"Cette méthode renvoie un itérateur parcourant la chaîne\n",
        "    dans le sens inverse de celui de 'str'\"\"\"\n",
        "\n",
        "    return ItRevStr(self) # On renvoie l'itérateur créé pour l'occasion\n",
        "\n",
        "class ItRevStr:\n",
        "  \"\"\"Un itérateur permettant de parcourir une chaîne de la dernière lettre à la\n",
        "  1ère.\n",
        "  On stocke dans des attributs la position courante et la chaîne à parcourir\"\"\"\n",
        "\n",
        "  def __init__(self, chaine_a_parcourir):\n",
        "    \"\"\"On se positionne à la fin de la chaîne\"\"\"\n",
        "    self.chaine_a_parcourir = chaine_a_parcourir\n",
        "    self.position = len(chaine_a_parcourir)\n",
        "\n",
        "  def __next__(self):\n",
        "    \"\"\"Cette méthode doit renvoyer l'élément suivant dans le parcours,\n",
        "    ou lever l'exception 'StopIteration' si le parcours est fini\"\"\"\n",
        "\n",
        "    if self.position == 0: # Fin de parcours\n",
        "      raise StopIteration\n",
        "    self.position -= 1 # On décrémente la position\n",
        "    return self.chaine_a_parcourir[self.position]"
      ],
      "execution_count": 0,
      "outputs": []
    },
    {
      "cell_type": "code",
      "metadata": {
        "id": "oeBPMdgxStMO",
        "colab_type": "code",
        "colab": {
          "base_uri": "https://localhost:8080/",
          "height": 34
        },
        "outputId": "81345da3-42dd-4c1b-c5e9-fbb5d349d2d0"
      },
      "source": [
        "ma_chaine = RevStr(\"Bonjour\")\n",
        "ma_chaine"
      ],
      "execution_count": 8,
      "outputs": [
        {
          "output_type": "execute_result",
          "data": {
            "text/plain": [
              "'Bonjour'"
            ]
          },
          "metadata": {
            "tags": []
          },
          "execution_count": 8
        }
      ]
    },
    {
      "cell_type": "code",
      "metadata": {
        "id": "H1fIcDweSzoJ",
        "colab_type": "code",
        "colab": {
          "base_uri": "https://localhost:8080/",
          "height": 134
        },
        "outputId": "cf16f56c-0b81-4c9c-e6b3-a7bd64da9442"
      },
      "source": [
        "for lettre in ma_chaine:\n",
        "  print(lettre)"
      ],
      "execution_count": 9,
      "outputs": [
        {
          "output_type": "stream",
          "text": [
            "r\n",
            "u\n",
            "o\n",
            "j\n",
            "n\n",
            "o\n",
            "B\n"
          ],
          "name": "stdout"
        }
      ]
    },
    {
      "cell_type": "markdown",
      "metadata": {
        "id": "CYXfX-nFTL1x",
        "colab_type": "text"
      },
      "source": [
        "## Les générateurs"
      ]
    },
    {
      "cell_type": "markdown",
      "metadata": {
        "id": "Whc92Tb4d9V4",
        "colab_type": "text"
      },
      "source": [
        "Les générateurs permettent de créer plus simplement des itérateurs."
      ]
    },
    {
      "cell_type": "markdown",
      "metadata": {
        "id": "kRTTJ2SlTZlL",
        "colab_type": "text"
      },
      "source": [
        "### Les générateurs simples"
      ]
    },
    {
      "cell_type": "markdown",
      "metadata": {
        "id": "d9SaiFyTeJe4",
        "colab_type": "text"
      },
      "source": [
        "Ce sont des fonctions utilisant le mot-clé yield suivi de la valeur à transmettre à la boucle."
      ]
    },
    {
      "cell_type": "code",
      "metadata": {
        "id": "Jf3c4-gyS57s",
        "colab_type": "code",
        "colab": {}
      },
      "source": [
        "def mon_generateur():\n",
        "  \"\"\"Notre 1er générateur. Il va simplement renvoyer 1, 2 et 3\"\"\"\n",
        "  yield 1\n",
        "  yield 2\n",
        "  yield 3"
      ],
      "execution_count": 0,
      "outputs": []
    },
    {
      "cell_type": "code",
      "metadata": {
        "id": "BeqkhyF3VyIJ",
        "colab_type": "code",
        "colab": {
          "base_uri": "https://localhost:8080/",
          "height": 34
        },
        "outputId": "6d301c04-3236-41b8-fb01-e0a7cdd6e595"
      },
      "source": [
        "mon_generateur"
      ],
      "execution_count": 11,
      "outputs": [
        {
          "output_type": "execute_result",
          "data": {
            "text/plain": [
              "<function __main__.mon_generateur>"
            ]
          },
          "metadata": {
            "tags": []
          },
          "execution_count": 11
        }
      ]
    },
    {
      "cell_type": "code",
      "metadata": {
        "id": "qV_5xGcCV4eb",
        "colab_type": "code",
        "colab": {
          "base_uri": "https://localhost:8080/",
          "height": 34
        },
        "outputId": "a9336608-2bfc-487e-b3e4-a765fe218db7"
      },
      "source": [
        "mon_generateur()"
      ],
      "execution_count": 12,
      "outputs": [
        {
          "output_type": "execute_result",
          "data": {
            "text/plain": [
              "<generator object mon_generateur at 0x7f0d2a4fc938>"
            ]
          },
          "metadata": {
            "tags": []
          },
          "execution_count": 12
        }
      ]
    },
    {
      "cell_type": "code",
      "metadata": {
        "id": "gy-kGlULV7ZI",
        "colab_type": "code",
        "colab": {
          "base_uri": "https://localhost:8080/",
          "height": 34
        },
        "outputId": "8b69e3f8-f6aa-4a36-85d7-659cba5974a0"
      },
      "source": [
        "mon_iterateur = iter(mon_generateur())\n",
        "next(mon_iterateur)"
      ],
      "execution_count": 13,
      "outputs": [
        {
          "output_type": "execute_result",
          "data": {
            "text/plain": [
              "1"
            ]
          },
          "metadata": {
            "tags": []
          },
          "execution_count": 13
        }
      ]
    },
    {
      "cell_type": "code",
      "metadata": {
        "id": "oVElDgRhWOfU",
        "colab_type": "code",
        "colab": {
          "base_uri": "https://localhost:8080/",
          "height": 34
        },
        "outputId": "80bfebd3-206b-48a9-c182-6ede1db39fea"
      },
      "source": [
        "next(mon_iterateur)"
      ],
      "execution_count": 14,
      "outputs": [
        {
          "output_type": "execute_result",
          "data": {
            "text/plain": [
              "2"
            ]
          },
          "metadata": {
            "tags": []
          },
          "execution_count": 14
        }
      ]
    },
    {
      "cell_type": "code",
      "metadata": {
        "id": "DUtojx4fWPPA",
        "colab_type": "code",
        "colab": {
          "base_uri": "https://localhost:8080/",
          "height": 34
        },
        "outputId": "946820d6-0779-4c2c-984a-2a5dc4dbc878"
      },
      "source": [
        "next(mon_iterateur)"
      ],
      "execution_count": 15,
      "outputs": [
        {
          "output_type": "execute_result",
          "data": {
            "text/plain": [
              "3"
            ]
          },
          "metadata": {
            "tags": []
          },
          "execution_count": 15
        }
      ]
    },
    {
      "cell_type": "code",
      "metadata": {
        "id": "IMsJxXPVWQJv",
        "colab_type": "code",
        "colab": {
          "base_uri": "https://localhost:8080/",
          "height": 162
        },
        "outputId": "7a312385-87f5-47b5-84f2-25f347f8542e"
      },
      "source": [
        "next(mon_iterateur)"
      ],
      "execution_count": 16,
      "outputs": [
        {
          "output_type": "error",
          "ename": "StopIteration",
          "evalue": "ignored",
          "traceback": [
            "\u001b[0;31m---------------------------------------------------------------------------\u001b[0m",
            "\u001b[0;31mStopIteration\u001b[0m                             Traceback (most recent call last)",
            "\u001b[0;32m<ipython-input-16-3b8757294f60>\u001b[0m in \u001b[0;36m<module>\u001b[0;34m()\u001b[0m\n\u001b[0;32m----> 1\u001b[0;31m \u001b[0mnext\u001b[0m\u001b[0;34m(\u001b[0m\u001b[0mmon_iterateur\u001b[0m\u001b[0;34m)\u001b[0m\u001b[0;34m\u001b[0m\u001b[0;34m\u001b[0m\u001b[0m\n\u001b[0m",
            "\u001b[0;31mStopIteration\u001b[0m: "
          ]
        }
      ]
    },
    {
      "cell_type": "code",
      "metadata": {
        "id": "mpVXgGhgWRRu",
        "colab_type": "code",
        "colab": {
          "base_uri": "https://localhost:8080/",
          "height": 67
        },
        "outputId": "273d7fcf-15d4-45a5-a8c9-bd33e4aae7d5"
      },
      "source": [
        "for nombre in mon_generateur(): # Attention on exécute la fonction\n",
        "  print(nombre)"
      ],
      "execution_count": 17,
      "outputs": [
        {
          "output_type": "stream",
          "text": [
            "1\n",
            "2\n",
            "3\n"
          ],
          "name": "stdout"
        }
      ]
    },
    {
      "cell_type": "code",
      "metadata": {
        "id": "u_Odt6OtXFaS",
        "colab_type": "code",
        "colab": {}
      },
      "source": [
        "def intervalle(borne_inf, borne_sup):\n",
        "  \"\"\"Générateur parcourant la série des entiers entre borne_inf et borne_sup.\n",
        "\n",
        "  Note: borne_inf doit être inférieure à borne_sup\"\"\"\n",
        "\n",
        "  borne_inf += 1\n",
        "  while borne_inf < borne_sup:\n",
        "    yield borne_inf\n",
        "    borne_inf += 1"
      ],
      "execution_count": 0,
      "outputs": []
    },
    {
      "cell_type": "code",
      "metadata": {
        "id": "09_DO8aQW27J",
        "colab_type": "code",
        "colab": {
          "base_uri": "https://localhost:8080/",
          "height": 84
        },
        "outputId": "11715608-7829-44e1-a29f-353e960add43"
      },
      "source": [
        "for nombre in intervalle(5, 10):\n",
        "  print(nombre)"
      ],
      "execution_count": 20,
      "outputs": [
        {
          "output_type": "stream",
          "text": [
            "6\n",
            "7\n",
            "8\n",
            "9\n"
          ],
          "name": "stdout"
        }
      ]
    },
    {
      "cell_type": "markdown",
      "metadata": {
        "id": "Eu25btn8Ybpr",
        "colab_type": "text"
      },
      "source": [
        "### Interrompre la boucle"
      ]
    },
    {
      "cell_type": "code",
      "metadata": {
        "id": "Rldsi4d5W_76",
        "colab_type": "code",
        "colab": {}
      },
      "source": [
        "generateur = intervalle(5, 20)\n",
        "for nombre in generateur:\n",
        "  if nombre > 17:\n",
        "    if nombre > 17:\n",
        "      generateur.close() # Interruption de la boucle"
      ],
      "execution_count": 0,
      "outputs": []
    },
    {
      "cell_type": "markdown",
      "metadata": {
        "id": "HslSwIazbfTU",
        "colab_type": "text"
      },
      "source": [
        "### Envoyer des données à notre générateur"
      ]
    },
    {
      "cell_type": "code",
      "metadata": {
        "id": "gaNStoBWbiLC",
        "colab_type": "code",
        "colab": {}
      },
      "source": [
        "def intervalle(borne_inf, borne_sup):\n",
        "  \"\"\"Générateur parcourant la série des entiers entre borne_inf et borne_sup.\n",
        "  Notre générateur doit pouvoir \"sauter\" une certaine plage de nombres en \n",
        "  fonction d'une valeur qu'on lui donne pendant le parcours. \n",
        "  Ma valeur qu'on lui passe est la nouvelle valeur de borne_inf.\n",
        "\n",
        "  Note : borne_inf doit être inférieure à borne_sup\"\"\"\n",
        "  borne_inf += 1\n",
        "  while borne_inf < borne_sup:\n",
        "    valeur_recue = (yield borne_inf)\n",
        "    if valeur_recue is not None: # Notre générateur a reçu quelque chose\n",
        "      borne_inf = valeur_recue\n",
        "    borne_inf += 1"
      ],
      "execution_count": 0,
      "outputs": []
    },
    {
      "cell_type": "code",
      "metadata": {
        "id": "5-OXipW3cwlw",
        "colab_type": "code",
        "colab": {
          "base_uri": "https://localhost:8080/",
          "height": 34
        },
        "outputId": "f6c2ab7c-b89b-4e9f-a39d-34f5501a75b0"
      },
      "source": [
        "generateur = intervalle(10, 25)\n",
        "for nombre in generateur:\n",
        "  if nombre == 15: # On saute à 20\n",
        "    generateur.send(20)\n",
        "  print(nombre, end=\" \")"
      ],
      "execution_count": 22,
      "outputs": [
        {
          "output_type": "stream",
          "text": [
            "11 12 13 14 15 22 23 24 "
          ],
          "name": "stdout"
        }
      ]
    },
    {
      "cell_type": "markdown",
      "metadata": {
        "id": "4Nbp5q6Nfmka",
        "colab_type": "text"
      },
      "source": [
        "[Source](https://openclassrooms.com/fr/courses/235344-apprenez-a-programmer-en-python/233261-decouvrez-la-boucle-for)"
      ]
    }
  ]
}