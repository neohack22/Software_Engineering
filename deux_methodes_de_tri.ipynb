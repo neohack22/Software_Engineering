{
  "nbformat": 4,
  "nbformat_minor": 0,
  "metadata": {
    "colab": {
      "name": "deux-methodes-de-tri.ipynb",
      "provenance": [],
      "authorship_tag": "ABX9TyNW1gjvMIID6scfP/gHPtGH",
      "include_colab_link": true
    },
    "kernelspec": {
      "name": "python3",
      "display_name": "Python 3"
    }
  },
  "cells": [
    {
      "cell_type": "markdown",
      "metadata": {
        "id": "view-in-github",
        "colab_type": "text"
      },
      "source": [
        "<a href=\"https://colab.research.google.com/github/neohack22/Software_Engineering/blob/apprenez-a-programmer-en-python/deux_methodes_de_tri.ipynb\" target=\"_parent\"><img src=\"https://colab.research.google.com/assets/colab-badge.svg\" alt=\"Open In Colab\"/></a>"
      ]
    },
    {
      "cell_type": "markdown",
      "metadata": {
        "id": "SZ4qhSKRK58O",
        "colab_type": "text"
      },
      "source": [
        "# Appliquez deux méthodes de tri en Python"
      ]
    },
    {
      "cell_type": "markdown",
      "metadata": {
        "id": "0kGvQ6tULHGH",
        "colab_type": "text"
      },
      "source": [
        "## Première approche du tri"
      ]
    },
    {
      "cell_type": "markdown",
      "metadata": {
        "id": "D7aJ3fXByYsx",
        "colab_type": "text"
      },
      "source": [
        "Le tri en Python se fait grâce à la méthode de liste *sort*, qui modifie la liste d'origine, et la fonction *sorted*, qui ne modifie pas la liste (ou la séquence) passée en paramètre"
      ]
    },
    {
      "cell_type": "markdown",
      "metadata": {
        "id": "JPIOvYNuLZdW",
        "colab_type": "text"
      },
      "source": [
        "### Deux méthodes"
      ]
    },
    {
      "cell_type": "code",
      "metadata": {
        "id": "c7944UYPKfru",
        "colab_type": "code",
        "colab": {
          "base_uri": "https://localhost:8080/",
          "height": 34
        },
        "outputId": "18c6fae4-e9c5-4b06-93f8-09ca27b618d3"
      },
      "source": [
        "prenoms = [\"Jacques\", \"Laure\", \"André\", \"Victoire\", \"Albert\", \"Sophie\"]\n",
        "prenoms.sort()\n",
        "prenoms"
      ],
      "execution_count": 1,
      "outputs": [
        {
          "output_type": "execute_result",
          "data": {
            "text/plain": [
              "['Albert', 'André', 'Jacques', 'Laure', 'Sophie', 'Victoire']"
            ]
          },
          "metadata": {
            "tags": []
          },
          "execution_count": 1
        }
      ]
    },
    {
      "cell_type": "code",
      "metadata": {
        "id": "M5xBuI44L0iQ",
        "colab_type": "code",
        "colab": {
          "base_uri": "https://localhost:8080/",
          "height": 34
        },
        "outputId": "02182d07-0e8f-4902-b835-ba0fdaaec651"
      },
      "source": [
        "# Et avec la fonction 'sorted'\n",
        "prenoms = [\"Jacques\", \"Laure\", \"André\", \"Victoire\", \"Albert\", \"Sophie\"]\n",
        "sorted(prenoms)"
      ],
      "execution_count": 2,
      "outputs": [
        {
          "output_type": "execute_result",
          "data": {
            "text/plain": [
              "['Albert', 'André', 'Jacques', 'Laure', 'Sophie', 'Victoire']"
            ]
          },
          "metadata": {
            "tags": []
          },
          "execution_count": 2
        }
      ]
    },
    {
      "cell_type": "code",
      "metadata": {
        "id": "YHMIXC7GMVKA",
        "colab_type": "code",
        "colab": {
          "base_uri": "https://localhost:8080/",
          "height": 34
        },
        "outputId": "adc4415d-dca2-47b8-8bfe-9bca7b57806d"
      },
      "source": [
        "prenoms"
      ],
      "execution_count": 3,
      "outputs": [
        {
          "output_type": "execute_result",
          "data": {
            "text/plain": [
              "['Jacques', 'Laure', 'André', 'Victoire', 'Albert', 'Sophie']"
            ]
          },
          "metadata": {
            "tags": []
          },
          "execution_count": 3
        }
      ]
    },
    {
      "cell_type": "markdown",
      "metadata": {
        "id": "OLcUKZ9iM2Nj",
        "colab_type": "text"
      },
      "source": [
        "### Aperçu des critères de tri"
      ]
    },
    {
      "cell_type": "code",
      "metadata": {
        "id": "R_HK0ciaMbso",
        "colab_type": "code",
        "colab": {
          "base_uri": "https://localhost:8080/",
          "height": 34
        },
        "outputId": "d415aa2f-7608-4875-83b0-5dc1db6e749d"
      },
      "source": [
        "sorted([1, 8, -2, 15, 9])"
      ],
      "execution_count": 4,
      "outputs": [
        {
          "output_type": "execute_result",
          "data": {
            "text/plain": [
              "[-2, 1, 8, 9, 15]"
            ]
          },
          "metadata": {
            "tags": []
          },
          "execution_count": 4
        }
      ]
    },
    {
      "cell_type": "code",
      "metadata": {
        "id": "I_f65bdaM8ts",
        "colab_type": "code",
        "colab": {
          "base_uri": "https://localhost:8080/",
          "height": 34
        },
        "outputId": "f3de3d04-c1b4-44a5-ce49-702c847f9360"
      },
      "source": [
        "sorted([\"1\", \"8\", \"-2\", \"15\", \"9\"])"
      ],
      "execution_count": 5,
      "outputs": [
        {
          "output_type": "execute_result",
          "data": {
            "text/plain": [
              "['-2', '1', '15', '8', '9']"
            ]
          },
          "metadata": {
            "tags": []
          },
          "execution_count": 5
        }
      ]
    },
    {
      "cell_type": "code",
      "metadata": {
        "id": "KR7GKRVKNTpQ",
        "colab_type": "code",
        "colab": {
          "base_uri": "https://localhost:8080/",
          "height": 162
        },
        "outputId": "a8579eb3-7d85-4da5-85b1-c53c5371c8e5"
      },
      "source": [
        "sorted([1, \"8\", \"-2\", \"15\", 9])"
      ],
      "execution_count": 6,
      "outputs": [
        {
          "output_type": "error",
          "ename": "TypeError",
          "evalue": "ignored",
          "traceback": [
            "\u001b[0;31m---------------------------------------------------------------------------\u001b[0m",
            "\u001b[0;31mTypeError\u001b[0m                                 Traceback (most recent call last)",
            "\u001b[0;32m<ipython-input-6-b091a7212edb>\u001b[0m in \u001b[0;36m<module>\u001b[0;34m()\u001b[0m\n\u001b[0;32m----> 1\u001b[0;31m \u001b[0msorted\u001b[0m\u001b[0;34m(\u001b[0m\u001b[0;34m[\u001b[0m\u001b[0;36m1\u001b[0m\u001b[0;34m,\u001b[0m \u001b[0;34m\"8\"\u001b[0m\u001b[0;34m,\u001b[0m \u001b[0;34m\"-2\"\u001b[0m\u001b[0;34m,\u001b[0m \u001b[0;34m\"15\"\u001b[0m\u001b[0;34m,\u001b[0m \u001b[0;36m9\u001b[0m\u001b[0;34m]\u001b[0m\u001b[0;34m)\u001b[0m\u001b[0;34m\u001b[0m\u001b[0;34m\u001b[0m\u001b[0m\n\u001b[0m",
            "\u001b[0;31mTypeError\u001b[0m: '<' not supported between instances of 'str' and 'int'"
          ]
        }
      ]
    },
    {
      "cell_type": "markdown",
      "metadata": {
        "id": "cik9UvO-RnL9",
        "colab_type": "text"
      },
      "source": [
        "## Trier avec des clés précises"
      ]
    },
    {
      "cell_type": "code",
      "metadata": {
        "id": "Lrgo0_EuPU5_",
        "colab_type": "code",
        "colab": {}
      },
      "source": [
        "etudiants = [\n",
        "             (\"Clément\", 14, 16),\n",
        "             (\"Charles\", 12, 15),\n",
        "             (\"Oriane\", 14, 18),\n",
        "             (\"Thomas\", 11, 12),\n",
        "             (\"Damien\", 12, 15),\n",
        "]"
      ],
      "execution_count": 0,
      "outputs": []
    },
    {
      "cell_type": "code",
      "metadata": {
        "id": "ZM3yF7j_SDnv",
        "colab_type": "code",
        "colab": {
          "base_uri": "https://localhost:8080/",
          "height": 101
        },
        "outputId": "d24f172f-7a1b-49f6-8756-8f597634a35c"
      },
      "source": [
        "sorted(etudiants)"
      ],
      "execution_count": 8,
      "outputs": [
        {
          "output_type": "execute_result",
          "data": {
            "text/plain": [
              "[('Charles', 12, 15),\n",
              " ('Clément', 14, 16),\n",
              " ('Damien', 12, 15),\n",
              " ('Oriane', 14, 18),\n",
              " ('Thomas', 11, 12)]"
            ]
          },
          "metadata": {
            "tags": []
          },
          "execution_count": 8
        }
      ]
    },
    {
      "cell_type": "markdown",
      "metadata": {
        "id": "vgumdeWqSg6l",
        "colab_type": "text"
      },
      "source": [
        "## L'argument key"
      ]
    },
    {
      "cell_type": "markdown",
      "metadata": {
        "id": "TTvgpzMRyrzR",
        "colab_type": "text"
      },
      "source": [
        "On peut spécifier des fonctions clés grâce à l'argument *key*. Ces fonctions sont appelées pour chaque élément de la séquence à trier, et retournent le critère du tri"
      ]
    },
    {
      "cell_type": "code",
      "metadata": {
        "id": "fbCfDE82SOQy",
        "colab_type": "code",
        "colab": {
          "base_uri": "https://localhost:8080/",
          "height": 34
        },
        "outputId": "11a5edcd-89cf-4b88-c4cb-b1e2a1a60d60"
      },
      "source": [
        "doubler = lambda x: x * 2\n",
        "doubler"
      ],
      "execution_count": 9,
      "outputs": [
        {
          "output_type": "execute_result",
          "data": {
            "text/plain": [
              "<function __main__.<lambda>>"
            ]
          },
          "metadata": {
            "tags": []
          },
          "execution_count": 9
        }
      ]
    },
    {
      "cell_type": "code",
      "metadata": {
        "id": "Odw-djimVDM0",
        "colab_type": "code",
        "colab": {
          "base_uri": "https://localhost:8080/",
          "height": 34
        },
        "outputId": "80c68141-41c9-4726-8e79-fd65e6b8a096"
      },
      "source": [
        "doubler(8)"
      ],
      "execution_count": 10,
      "outputs": [
        {
          "output_type": "execute_result",
          "data": {
            "text/plain": [
              "16"
            ]
          },
          "metadata": {
            "tags": []
          },
          "execution_count": 10
        }
      ]
    },
    {
      "cell_type": "code",
      "metadata": {
        "id": "fmSyWB2WVFlC",
        "colab_type": "code",
        "colab": {
          "base_uri": "https://localhost:8080/",
          "height": 34
        },
        "outputId": "cc42a827-533c-4d41-8880-0c09b74e4e34"
      },
      "source": [
        "lambda colonnes: colonnes[2]"
      ],
      "execution_count": 11,
      "outputs": [
        {
          "output_type": "execute_result",
          "data": {
            "text/plain": [
              "<function __main__.<lambda>>"
            ]
          },
          "metadata": {
            "tags": []
          },
          "execution_count": 11
        }
      ]
    },
    {
      "cell_type": "code",
      "metadata": {
        "id": "ck3Y_4V-WL1w",
        "colab_type": "code",
        "colab": {
          "base_uri": "https://localhost:8080/",
          "height": 101
        },
        "outputId": "a2fcbbaf-891b-4977-d1ca-bacfa6591361"
      },
      "source": [
        "sorted(etudiants, key=lambda colonnes: colonnes[2])"
      ],
      "execution_count": 12,
      "outputs": [
        {
          "output_type": "execute_result",
          "data": {
            "text/plain": [
              "[('Thomas', 11, 12),\n",
              " ('Charles', 12, 15),\n",
              " ('Damien', 12, 15),\n",
              " ('Clément', 14, 16),\n",
              " ('Oriane', 14, 18)]"
            ]
          },
          "metadata": {
            "tags": []
          },
          "execution_count": 12
        }
      ]
    },
    {
      "cell_type": "markdown",
      "metadata": {
        "id": "RYO7xODAXDEN",
        "colab_type": "text"
      },
      "source": [
        "### Trier une liste d'objets"
      ]
    },
    {
      "cell_type": "code",
      "metadata": {
        "id": "zSnbHC2CW9kF",
        "colab_type": "code",
        "colab": {}
      },
      "source": [
        "class Etudiant:\n",
        "\n",
        "  \"\"\"Classe représentant un étudiant.\n",
        "\n",
        "  On représente un étudiant par son prénom (attribut prenom), son âge\n",
        "  (attribut age) et sa note moyenne (attribut moyenne, entre 0 et 20).\n",
        "\n",
        "  Paramètres du constructeur :\n",
        "    prenom -- le prénom de l'étudiant\n",
        "    age -- l'âge de l'étudiant\n",
        "    moyenne -- la moyenne de l'étudiant\n",
        "\n",
        "  \"\"\"\n",
        "\n",
        "  def __init__(self, prenom, age, moyenne):\n",
        "    self.prenom = prenom\n",
        "    self.age = age\n",
        "    self.moyenne = moyenne\n",
        "\n",
        "  def __repr__(self):\n",
        "    return \"<Etudiant {} (âge={}, moyenne={})>\".format(\n",
        "        self.prenom, self.age, self.moyenne)"
      ],
      "execution_count": 0,
      "outputs": []
    },
    {
      "cell_type": "code",
      "metadata": {
        "id": "6qnr-2gJbufh",
        "colab_type": "code",
        "colab": {}
      },
      "source": [
        "etudiants = [\n",
        "            Etudiant(\"Clément\", 14, 16),\n",
        "            Etudiant(\"Charles\", 12, 15),\n",
        "            Etudiant(\"Oriane\", 14, 18),\n",
        "            Etudiant(\"Thomas\", 11, 12),\n",
        "            Etudiant(\"Damien\", 12, 15)\n",
        "]"
      ],
      "execution_count": 0,
      "outputs": []
    },
    {
      "cell_type": "code",
      "metadata": {
        "id": "YHLYYJiZcSWb",
        "colab_type": "code",
        "colab": {
          "base_uri": "https://localhost:8080/",
          "height": 101
        },
        "outputId": "2766a75a-ade3-4ed3-91f9-5653a16fbe32"
      },
      "source": [
        "etudiants"
      ],
      "execution_count": 17,
      "outputs": [
        {
          "output_type": "execute_result",
          "data": {
            "text/plain": [
              "[<Etudiant Clément (âge=14, moyenne=16)>,\n",
              " <Etudiant Charles (âge=12, moyenne=15)>,\n",
              " <Etudiant Oriane (âge=14, moyenne=18)>,\n",
              " <Etudiant Thomas (âge=11, moyenne=12)>,\n",
              " <Etudiant Damien (âge=12, moyenne=15)>]"
            ]
          },
          "metadata": {
            "tags": []
          },
          "execution_count": 17
        }
      ]
    },
    {
      "cell_type": "code",
      "metadata": {
        "id": "QZDNoQ_mcXrO",
        "colab_type": "code",
        "colab": {
          "base_uri": "https://localhost:8080/",
          "height": 162
        },
        "outputId": "476d4e33-cf47-44fe-b0bf-1e4fd9375c3d"
      },
      "source": [
        "sorted(etudiants)"
      ],
      "execution_count": 18,
      "outputs": [
        {
          "output_type": "error",
          "ename": "TypeError",
          "evalue": "ignored",
          "traceback": [
            "\u001b[0;31m---------------------------------------------------------------------------\u001b[0m",
            "\u001b[0;31mTypeError\u001b[0m                                 Traceback (most recent call last)",
            "\u001b[0;32m<ipython-input-18-1fa58bb5e175>\u001b[0m in \u001b[0;36m<module>\u001b[0;34m()\u001b[0m\n\u001b[0;32m----> 1\u001b[0;31m \u001b[0msorted\u001b[0m\u001b[0;34m(\u001b[0m\u001b[0metudiants\u001b[0m\u001b[0;34m)\u001b[0m\u001b[0;34m\u001b[0m\u001b[0;34m\u001b[0m\u001b[0m\n\u001b[0m",
            "\u001b[0;31mTypeError\u001b[0m: '<' not supported between instances of 'Etudiant' and 'Etudiant'"
          ]
        }
      ]
    },
    {
      "cell_type": "code",
      "metadata": {
        "id": "ohIatKbLdJtF",
        "colab_type": "code",
        "colab": {
          "base_uri": "https://localhost:8080/",
          "height": 101
        },
        "outputId": "6359e54c-8ee3-41e1-df11-77a7a072b9a8"
      },
      "source": [
        "sorted(etudiants, key=lambda etudiant: etudiant.moyenne)"
      ],
      "execution_count": 19,
      "outputs": [
        {
          "output_type": "execute_result",
          "data": {
            "text/plain": [
              "[<Etudiant Thomas (âge=11, moyenne=12)>,\n",
              " <Etudiant Charles (âge=12, moyenne=15)>,\n",
              " <Etudiant Damien (âge=12, moyenne=15)>,\n",
              " <Etudiant Clément (âge=14, moyenne=16)>,\n",
              " <Etudiant Oriane (âge=14, moyenne=18)>]"
            ]
          },
          "metadata": {
            "tags": []
          },
          "execution_count": 19
        }
      ]
    },
    {
      "cell_type": "markdown",
      "metadata": {
        "id": "a4au1UIXdoAv",
        "colab_type": "text"
      },
      "source": [
        "### Trier dans l'ordre inverse"
      ]
    },
    {
      "cell_type": "markdown",
      "metadata": {
        "id": "N6Y-7ZHxeBa7",
        "colab_type": "text"
      },
      "source": [
        "> #### NameError: name 'etudiands' is not defined"
      ]
    },
    {
      "cell_type": "code",
      "metadata": {
        "id": "gOZMvGo9diFK",
        "colab_type": "code",
        "colab": {}
      },
      "source": [
        "sorted(etudiands, key=lambda etudiant: etudiant.age, reverse=True)"
      ],
      "execution_count": 0,
      "outputs": []
    },
    {
      "cell_type": "markdown",
      "metadata": {
        "id": "y1MuvZfzeOoM",
        "colab_type": "text"
      },
      "source": [
        "> #### End of NameError"
      ]
    },
    {
      "cell_type": "code",
      "metadata": {
        "id": "tz-yvoHwdyf0",
        "colab_type": "code",
        "colab": {
          "base_uri": "https://localhost:8080/",
          "height": 101
        },
        "outputId": "ae3c3807-34b8-4682-a34e-b6279efcc6ae"
      },
      "source": [
        "sorted(etudiants, key=lambda etudiant: etudiant.age, reverse=True)"
      ],
      "execution_count": 21,
      "outputs": [
        {
          "output_type": "execute_result",
          "data": {
            "text/plain": [
              "[<Etudiant Clément (âge=14, moyenne=16)>,\n",
              " <Etudiant Oriane (âge=14, moyenne=18)>,\n",
              " <Etudiant Charles (âge=12, moyenne=15)>,\n",
              " <Etudiant Damien (âge=12, moyenne=15)>,\n",
              " <Etudiant Thomas (âge=11, moyenne=12)>]"
            ]
          },
          "metadata": {
            "tags": []
          },
          "execution_count": 21
        }
      ]
    },
    {
      "cell_type": "markdown",
      "metadata": {
        "id": "ASVc7nAJfMrA",
        "colab_type": "text"
      },
      "source": [
        "## Plus rapide et plus efficace"
      ]
    },
    {
      "cell_type": "markdown",
      "metadata": {
        "id": "01OrU8QnfkGI",
        "colab_type": "text"
      },
      "source": [
        "### Les fonctions du module operator"
      ]
    },
    {
      "cell_type": "markdown",
      "metadata": {
        "id": "_R18fo_Zy5rt",
        "colab_type": "text"
      },
      "source": [
        "Le module *operator* propose les fonctions *itemgetter* et *attrgetter* qui peuvent être très utiles en tant que fonction clés, si on veut trier une liste de tuples ou une liste d'objets selon un attribut"
      ]
    },
    {
      "cell_type": "code",
      "metadata": {
        "id": "g0urckyWe5O0",
        "colab_type": "code",
        "colab": {}
      },
      "source": [
        "etudiants = [\n",
        "             (\"Clément\", 14, 16),\n",
        "             (\"Charles\", 12, 15),\n",
        "             (\"Oriane\", 14, 18),\n",
        "             (\"Thomas\", 11, 12),\n",
        "             (\"Damien\", 12, 15),\n",
        "]"
      ],
      "execution_count": 0,
      "outputs": []
    },
    {
      "cell_type": "code",
      "metadata": {
        "id": "rKwZChJYgXdp",
        "colab_type": "code",
        "colab": {
          "base_uri": "https://localhost:8080/",
          "height": 101
        },
        "outputId": "6bb683a2-290c-4e65-98c7-5478fb9bebb0"
      },
      "source": [
        "sorted(etudiants, key=lambda  etudiant: etudiant[2])"
      ],
      "execution_count": 23,
      "outputs": [
        {
          "output_type": "execute_result",
          "data": {
            "text/plain": [
              "[('Thomas', 11, 12),\n",
              " ('Charles', 12, 15),\n",
              " ('Damien', 12, 15),\n",
              " ('Clément', 14, 16),\n",
              " ('Oriane', 14, 18)]"
            ]
          },
          "metadata": {
            "tags": []
          },
          "execution_count": 23
        }
      ]
    },
    {
      "cell_type": "code",
      "metadata": {
        "id": "PkEPGldHglR0",
        "colab_type": "code",
        "colab": {}
      },
      "source": [
        "from operator import itemgettersorted(etudiants, key=itemgetter(2))"
      ],
      "execution_count": 0,
      "outputs": []
    },
    {
      "cell_type": "markdown",
      "metadata": {
        "id": "qOXauCsUhv20",
        "colab_type": "text"
      },
      "source": [
        "### Trier une liste d'objets"
      ]
    },
    {
      "cell_type": "code",
      "metadata": {
        "id": "5kzxqRgRiAC1",
        "colab_type": "code",
        "colab": {}
      },
      "source": [
        "class Etudiant:\n",
        "\n",
        "  \"\"\"Classe représentant un étudiant.\n",
        "\n",
        "  On représente un étudiant par son prénom (attribut prenom), son âge\n",
        "  (attribut age) et sa note moyenne (attribut moyenne, entre 0 et 20).\n",
        "\n",
        "  Paramètres du constructeur :\n",
        "  prenoù -- le prénom de l'étudiant\n",
        "  age -- l'âge de l'étudiant\n",
        "  moyenne -- la moyenne de l'étudiant\n",
        "\n",
        "  \"\"\"\n",
        "\n",
        "  def __init__(self, prenom, age, moyenne):\n",
        "    self.prenom = prenom\n",
        "    self.age = age\n",
        "    self.moyenne = moyenne\n",
        "\n",
        "  def __repr__(self):\n",
        "    return \"<Etudiant {} (âge={}, moyenne={})>\".format(\n",
        "        self.prenom, self.age, self.moyenne)\n",
        "    \n",
        "etudiants = [\n",
        "             Etudiant(\"Clément\", 14, 16),\n",
        "             Etudiant(\"Charles\", 12, 15),\n",
        "             Etudiant(\"Oriane\", 14, 18),\n",
        "             Etudiant(\"Thomas\", 11, 12),\n",
        "             Etudiant(\"Damien\", 12, 15),\n",
        "]"
      ],
      "execution_count": 0,
      "outputs": []
    },
    {
      "cell_type": "markdown",
      "metadata": {
        "id": "w4nsW4LSkfr0",
        "colab_type": "text"
      },
      "source": [
        "\n",
        "\n",
        "> #### SyntaxError: invalid syntax\n",
        "\n"
      ]
    },
    {
      "cell_type": "code",
      "metadata": {
        "id": "DPBZ707ekFcl",
        "colab_type": "code",
        "colab": {}
      },
      "source": [
        "from operator import attrgettersorted(etudiants, key=attrgetter(\"moyenne\"))"
      ],
      "execution_count": 0,
      "outputs": []
    },
    {
      "cell_type": "markdown",
      "metadata": {
        "id": "0o1g9oRuklSD",
        "colab_type": "text"
      },
      "source": [
        "> #### End of SyntaxError"
      ]
    },
    {
      "cell_type": "code",
      "metadata": {
        "id": "4uPeSaS0kZfW",
        "colab_type": "code",
        "colab": {
          "base_uri": "https://localhost:8080/",
          "height": 101
        },
        "outputId": "a8351db3-1a07-4e1c-fc8c-6ecf0eb474b3"
      },
      "source": [
        "from operator import attrgetter\n",
        "sorted(etudiants, key=attrgetter(\"moyenne\"))"
      ],
      "execution_count": 26,
      "outputs": [
        {
          "output_type": "execute_result",
          "data": {
            "text/plain": [
              "[<Etudiant Thomas (âge=11, moyenne=12)>,\n",
              " <Etudiant Charles (âge=12, moyenne=15)>,\n",
              " <Etudiant Damien (âge=12, moyenne=15)>,\n",
              " <Etudiant Clément (âge=14, moyenne=16)>,\n",
              " <Etudiant Oriane (âge=14, moyenne=18)>]"
            ]
          },
          "metadata": {
            "tags": []
          },
          "execution_count": 26
        }
      ]
    },
    {
      "cell_type": "markdown",
      "metadata": {
        "id": "kQ5LQewgk4qw",
        "colab_type": "text"
      },
      "source": [
        "### Trier selon plusieurs critères"
      ]
    },
    {
      "cell_type": "code",
      "metadata": {
        "id": "1kbjFoAOkz8a",
        "colab_type": "code",
        "colab": {
          "base_uri": "https://localhost:8080/",
          "height": 101
        },
        "outputId": "6174f8fe-1b7c-4a9a-b7af-3091f824ed8b"
      },
      "source": [
        "sorted(etudiants, key=attrgetter(\"age\", \"moyenne\"))"
      ],
      "execution_count": 27,
      "outputs": [
        {
          "output_type": "execute_result",
          "data": {
            "text/plain": [
              "[<Etudiant Thomas (âge=11, moyenne=12)>,\n",
              " <Etudiant Charles (âge=12, moyenne=15)>,\n",
              " <Etudiant Damien (âge=12, moyenne=15)>,\n",
              " <Etudiant Clément (âge=14, moyenne=16)>,\n",
              " <Etudiant Oriane (âge=14, moyenne=18)>]"
            ]
          },
          "metadata": {
            "tags": []
          },
          "execution_count": 27
        }
      ]
    },
    {
      "cell_type": "markdown",
      "metadata": {
        "id": "LL-AcPFck4Gp",
        "colab_type": "text"
      },
      "source": [
        "### Chaînage de tris"
      ]
    },
    {
      "cell_type": "markdown",
      "metadata": {
        "id": "I1hqOcplzDut",
        "colab_type": "text"
      },
      "source": [
        "Le tri en Python est « stable », c'est-à-dire que l'ordre de deux éléments dans la liste n'est pas modifié s'ils sont égaux. Cette propriété permet le chaînage de tri."
      ]
    },
    {
      "cell_type": "code",
      "metadata": {
        "id": "jV0CKS8krlPb",
        "colab_type": "code",
        "colab": {}
      },
      "source": [
        "class LigneInventaire:\n",
        "\n",
        "  \"\"\"Classe représentant une ligne d'un inventaire de vente.\n",
        "\n",
        "  Attributs attendus par le constructeur :\n",
        "    produit -- le nom du produit\n",
        "    prix -- le prix unitaire du produit\n",
        "    quantite -- la quantite vendue du produit.\n",
        "\n",
        "  \"\"\"\n",
        "\n",
        "  def __init__(self, produit, prix, quantite):\n",
        "    self.produit = produit\n",
        "    self.prix = prix\n",
        "    self.quantite = quantite\n",
        "\n",
        "  def __repr__(self):\n",
        "    return \"<Ligne d'inventaire {} ({}X{})>\".format(\n",
        "        self.produit, self.prix, self.quantite)\n",
        "    \n",
        "# Création de l'inventaire\n",
        "inventaire = [\n",
        "              LigneInventaire(\"pomme rouge\", 1.2, 19),\n",
        "              LigneInventaire(\"orange\", 1.4, 24),\n",
        "              LigneInventaire(\"banane\", 0.9, 21),\n",
        "              LigneInventaire(\"poire\", 1.2, 24),\n",
        "]"
      ],
      "execution_count": 0,
      "outputs": []
    },
    {
      "cell_type": "code",
      "metadata": {
        "id": "kYA0xQRzxchj",
        "colab_type": "code",
        "colab": {
          "base_uri": "https://localhost:8080/",
          "height": 84
        },
        "outputId": "f1189d5e-2d38-403b-8f94-2e59a062c40a"
      },
      "source": [
        "from operator import attrgetter\n",
        "sorted(inventaire, key=attrgetter(\"prix\", \"quantite\"))"
      ],
      "execution_count": 29,
      "outputs": [
        {
          "output_type": "execute_result",
          "data": {
            "text/plain": [
              "[<Ligne d'inventaire banane (0.9X21)>,\n",
              " <Ligne d'inventaire pomme rouge (1.2X19)>,\n",
              " <Ligne d'inventaire poire (1.2X24)>,\n",
              " <Ligne d'inventaire orange (1.4X24)>]"
            ]
          },
          "metadata": {
            "tags": []
          },
          "execution_count": 29
        }
      ]
    },
    {
      "cell_type": "code",
      "metadata": {
        "id": "6l8uce3Ixoa6",
        "colab_type": "code",
        "colab": {
          "base_uri": "https://localhost:8080/",
          "height": 84
        },
        "outputId": "03521456-321a-42ce-e87e-931dfb3c3290"
      },
      "source": [
        "inventaire.sort(key=attrgetter(\"quantite\"), reverse=True)\n",
        "sorted(inventaire, key=attrgetter(\"prix\"))"
      ],
      "execution_count": 30,
      "outputs": [
        {
          "output_type": "execute_result",
          "data": {
            "text/plain": [
              "[<Ligne d'inventaire banane (0.9X21)>,\n",
              " <Ligne d'inventaire poire (1.2X24)>,\n",
              " <Ligne d'inventaire pomme rouge (1.2X19)>,\n",
              " <Ligne d'inventaire orange (1.4X24)>]"
            ]
          },
          "metadata": {
            "tags": []
          },
          "execution_count": 30
        }
      ]
    },
    {
      "cell_type": "markdown",
      "metadata": {
        "id": "iXUWc_-6zKR7",
        "colab_type": "text"
      },
      "source": [
        "[Source](https://openclassrooms.com/fr/courses/235344-apprenez-a-programmer-en-python/2233523-appliquez-deux-methodes-de-tri-en-python)"
      ]
    }
  ]
}