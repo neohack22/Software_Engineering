{
  "nbformat": 4,
  "nbformat_minor": 0,
  "metadata": {
    "colab": {
      "name": "modules-de-mathematiques.ipynb",
      "provenance": [],
      "authorship_tag": "ABX9TyNzJoV+56YL01+K8899fmH8",
      "include_colab_link": true
    },
    "kernelspec": {
      "name": "python3",
      "display_name": "Python 3"
    }
  },
  "cells": [
    {
      "cell_type": "markdown",
      "metadata": {
        "id": "view-in-github",
        "colab_type": "text"
      },
      "source": [
        "<a href=\"https://colab.research.google.com/github/neohack22/Software_Engineering/blob/apprenez-a-programmer-en-python/modules_de_mathematiques.ipynb\" target=\"_parent\"><img src=\"https://colab.research.google.com/assets/colab-badge.svg\" alt=\"Open In Colab\"/></a>"
      ]
    },
    {
      "cell_type": "markdown",
      "metadata": {
        "id": "yI88g1Z8XWqo",
        "colab_type": "text"
      },
      "source": [
        "# Utilisez des modules de mathématiques"
      ]
    },
    {
      "cell_type": "markdown",
      "metadata": {
        "id": "fjqNc2TiXlpo",
        "colab_type": "text"
      },
      "source": [
        "## Pour commencer, le module math"
      ]
    },
    {
      "cell_type": "markdown",
      "metadata": {
        "id": "8PhPfMjMh5h9",
        "colab_type": "text"
      },
      "source": [
        "Le module ```math``` possède plusieurs fonctions et constantes mathématiques usuelles."
      ]
    },
    {
      "cell_type": "markdown",
      "metadata": {
        "id": "LKqQabf6X1VY",
        "colab_type": "text"
      },
      "source": [
        "\n",
        "\n",
        "> ### NameError: name 'math' is not defined\n",
        "\n"
      ]
    },
    {
      "cell_type": "code",
      "metadata": {
        "id": "eVaFFfwMWYm2",
        "colab_type": "code",
        "colab": {
          "base_uri": "https://localhost:8080/",
          "height": 162
        },
        "outputId": "850f05fe-e99c-48b0-8fef-b0e5df52c00f"
      },
      "source": [
        "math.pow(5, 2) # 5 au carré"
      ],
      "execution_count": 1,
      "outputs": [
        {
          "output_type": "error",
          "ename": "NameError",
          "evalue": "ignored",
          "traceback": [
            "\u001b[0;31m---------------------------------------------------------------------------\u001b[0m",
            "\u001b[0;31mNameError\u001b[0m                                 Traceback (most recent call last)",
            "\u001b[0;32m<ipython-input-1-bb665ad313e9>\u001b[0m in \u001b[0;36m<module>\u001b[0;34m()\u001b[0m\n\u001b[0;32m----> 1\u001b[0;31m \u001b[0mmath\u001b[0m\u001b[0;34m.\u001b[0m\u001b[0mpow\u001b[0m\u001b[0;34m(\u001b[0m\u001b[0;36m5\u001b[0m\u001b[0;34m,\u001b[0m \u001b[0;36m2\u001b[0m\u001b[0;34m)\u001b[0m \u001b[0;31m# 5 au carré\u001b[0m\u001b[0;34m\u001b[0m\u001b[0;34m\u001b[0m\u001b[0m\n\u001b[0m",
            "\u001b[0;31mNameError\u001b[0m: name 'math' is not defined"
          ]
        }
      ]
    },
    {
      "cell_type": "markdown",
      "metadata": {
        "id": "-NTlw1R6X8eC",
        "colab_type": "text"
      },
      "source": [
        "> ### End of NameError"
      ]
    },
    {
      "cell_type": "code",
      "metadata": {
        "id": "AVsgoOp8Xs6f",
        "colab_type": "code",
        "colab": {}
      },
      "source": [
        "import math"
      ],
      "execution_count": 0,
      "outputs": []
    },
    {
      "cell_type": "code",
      "metadata": {
        "id": "2LRjK2MrYCmo",
        "colab_type": "code",
        "colab": {
          "base_uri": "https://localhost:8080/",
          "height": 34
        },
        "outputId": "873183f6-6e9b-452a-fbe1-16a7c8be42be"
      },
      "source": [
        "math.pow(5, 2) # 5 au carré"
      ],
      "execution_count": 3,
      "outputs": [
        {
          "output_type": "execute_result",
          "data": {
            "text/plain": [
              "25.0"
            ]
          },
          "metadata": {
            "tags": []
          },
          "execution_count": 3
        }
      ]
    },
    {
      "cell_type": "code",
      "metadata": {
        "id": "dBaOIMpvYHeh",
        "colab_type": "code",
        "colab": {
          "base_uri": "https://localhost:8080/",
          "height": 34
        },
        "outputId": "c116d1c5-c741-49fc-da0f-c67a5b45c13b"
      },
      "source": [
        "5 ** 2 # Pratiquement identique à pow(5, 2)"
      ],
      "execution_count": 4,
      "outputs": [
        {
          "output_type": "execute_result",
          "data": {
            "text/plain": [
              "25"
            ]
          },
          "metadata": {
            "tags": []
          },
          "execution_count": 4
        }
      ]
    },
    {
      "cell_type": "code",
      "metadata": {
        "id": "LRMbKzyYYPAn",
        "colab_type": "code",
        "colab": {
          "base_uri": "https://localhost:8080/",
          "height": 34
        },
        "outputId": "cd5add78-cc0c-43b0-a52f-7f9eb5cca3ab"
      },
      "source": [
        "math.exp(5) # Exponentielle"
      ],
      "execution_count": 5,
      "outputs": [
        {
          "output_type": "execute_result",
          "data": {
            "text/plain": [
              "148.4131591025766"
            ]
          },
          "metadata": {
            "tags": []
          },
          "execution_count": 5
        }
      ]
    },
    {
      "cell_type": "code",
      "metadata": {
        "id": "kyWlo1oEYWMT",
        "colab_type": "code",
        "colab": {
          "base_uri": "https://localhost:8080/",
          "height": 34
        },
        "outputId": "dc8eb0c2-8e7c-4528-f9a9-976f12dbdc5e"
      },
      "source": [
        "math.sqrt(25) # Racine carré de 25 (square root)"
      ],
      "execution_count": 6,
      "outputs": [
        {
          "output_type": "execute_result",
          "data": {
            "text/plain": [
              "5.0"
            ]
          },
          "metadata": {
            "tags": []
          },
          "execution_count": 6
        }
      ]
    },
    {
      "cell_type": "code",
      "metadata": {
        "id": "HfRBN6VIY4vG",
        "colab_type": "code",
        "colab": {
          "base_uri": "https://localhost:8080/",
          "height": 34
        },
        "outputId": "0786bf22-80fb-498a-ba74-ca7377431cdf"
      },
      "source": [
        "math.fabs(-3) # Valeur absolue"
      ],
      "execution_count": 7,
      "outputs": [
        {
          "output_type": "execute_result",
          "data": {
            "text/plain": [
              "3.0"
            ]
          },
          "metadata": {
            "tags": []
          },
          "execution_count": 7
        }
      ]
    },
    {
      "cell_type": "markdown",
      "metadata": {
        "id": "6kmwRqQ2dFQc",
        "colab_type": "text"
      },
      "source": [
        "### Un peu de trigonométrie"
      ]
    },
    {
      "cell_type": "markdown",
      "metadata": {
        "id": "rss7xnX1dKKY",
        "colab_type": "text"
      },
      "source": [
        "```\n",
        "math.degrees(angle_en_radians) # Convertit en degrés\n",
        "math.radians(angle_en_degrés) # Convertit en radians\n",
        "```"
      ]
    },
    {
      "cell_type": "markdown",
      "metadata": {
        "id": "subfD-xYdgZC",
        "colab_type": "text"
      },
      "source": [
        "### Arrondir un nombre"
      ]
    },
    {
      "cell_type": "code",
      "metadata": {
        "id": "HzMdO33rY9Pi",
        "colab_type": "code",
        "colab": {
          "base_uri": "https://localhost:8080/",
          "height": 34
        },
        "outputId": "15392821-e897-49c4-a37f-8eb20cdf9ed5"
      },
      "source": [
        "math.ceil(2.3) # Renvoie le plus petit entier >= 2.3\n"
      ],
      "execution_count": 8,
      "outputs": [
        {
          "output_type": "execute_result",
          "data": {
            "text/plain": [
              "3"
            ]
          },
          "metadata": {
            "tags": []
          },
          "execution_count": 8
        }
      ]
    },
    {
      "cell_type": "code",
      "metadata": {
        "id": "kmD2aj_idyi-",
        "colab_type": "code",
        "colab": {
          "base_uri": "https://localhost:8080/",
          "height": 34
        },
        "outputId": "40f20d50-a66d-48c4-ab8a-89400bdde2d7"
      },
      "source": [
        "math.floor(5.8) # Renvoie le plus grand entier <= 5.8"
      ],
      "execution_count": 9,
      "outputs": [
        {
          "output_type": "execute_result",
          "data": {
            "text/plain": [
              "5"
            ]
          },
          "metadata": {
            "tags": []
          },
          "execution_count": 9
        }
      ]
    },
    {
      "cell_type": "code",
      "metadata": {
        "id": "3AIfAs8cd5XV",
        "colab_type": "code",
        "colab": {
          "base_uri": "https://localhost:8080/",
          "height": 34
        },
        "outputId": "bf1327e6-8f8e-4541-fd98-4756cfd2e26b"
      },
      "source": [
        "math.trunc(9.5) # Tronque 9.5"
      ],
      "execution_count": 10,
      "outputs": [
        {
          "output_type": "execute_result",
          "data": {
            "text/plain": [
              "9"
            ]
          },
          "metadata": {
            "tags": []
          },
          "execution_count": 10
        }
      ]
    },
    {
      "cell_type": "code",
      "metadata": {
        "id": "4IGMFzcheE6O",
        "colab_type": "code",
        "colab": {}
      },
      "source": [
        ""
      ],
      "execution_count": 0,
      "outputs": []
    },
    {
      "cell_type": "markdown",
      "metadata": {
        "id": "cV3UJf9heMsH",
        "colab_type": "text"
      },
      "source": [
        "## Des fractions avec le module fractions"
      ]
    },
    {
      "cell_type": "markdown",
      "metadata": {
        "id": "hxDcf7ziiZUC",
        "colab_type": "text"
      },
      "source": [
        "Le module ```fractions``` possède le nécessaire pour manipuler des fractions, parfois utiles pour la précision des calculs."
      ]
    },
    {
      "cell_type": "code",
      "metadata": {
        "id": "46xSMl3-eRSH",
        "colab_type": "code",
        "colab": {}
      },
      "source": [
        "from fractions import Fraction"
      ],
      "execution_count": 0,
      "outputs": []
    },
    {
      "cell_type": "markdown",
      "metadata": {
        "id": "3q7oqkIQedHe",
        "colab_type": "text"
      },
      "source": [
        "### Créer une fraction"
      ]
    },
    {
      "cell_type": "code",
      "metadata": {
        "id": "m-gbtrKleUun",
        "colab_type": "code",
        "colab": {
          "base_uri": "https://localhost:8080/",
          "height": 34
        },
        "outputId": "44d735c6-8cc4-48e4-c1fb-a5b8bcd09eb3"
      },
      "source": [
        "un_demi = Fraction(1, 2)\n",
        "un_demi"
      ],
      "execution_count": 12,
      "outputs": [
        {
          "output_type": "execute_result",
          "data": {
            "text/plain": [
              "Fraction(1, 2)"
            ]
          },
          "metadata": {
            "tags": []
          },
          "execution_count": 12
        }
      ]
    },
    {
      "cell_type": "code",
      "metadata": {
        "id": "HempLc9OeklV",
        "colab_type": "code",
        "colab": {
          "base_uri": "https://localhost:8080/",
          "height": 34
        },
        "outputId": "9fe2b33c-5b73-4cda-c308-8ba2f5f56518"
      },
      "source": [
        "un_quart = Fraction('1/4')\n",
        "un_quart"
      ],
      "execution_count": 13,
      "outputs": [
        {
          "output_type": "execute_result",
          "data": {
            "text/plain": [
              "Fraction(1, 4)"
            ]
          },
          "metadata": {
            "tags": []
          },
          "execution_count": 13
        }
      ]
    },
    {
      "cell_type": "code",
      "metadata": {
        "id": "6zAuOhB6ernb",
        "colab_type": "code",
        "colab": {
          "base_uri": "https://localhost:8080/",
          "height": 34
        },
        "outputId": "a31fc5fd-7c0e-428b-c65f-f23dfc7e5ebb"
      },
      "source": [
        "autre_fraction = Fraction(-5, 30)\n",
        "autre_fraction"
      ],
      "execution_count": 14,
      "outputs": [
        {
          "output_type": "execute_result",
          "data": {
            "text/plain": [
              "Fraction(-1, 6)"
            ]
          },
          "metadata": {
            "tags": []
          },
          "execution_count": 14
        }
      ]
    },
    {
      "cell_type": "code",
      "metadata": {
        "id": "mViot5qPez0K",
        "colab_type": "code",
        "colab": {
          "base_uri": "https://localhost:8080/",
          "height": 34
        },
        "outputId": "66baebac-9c88-46ac-a360-8bae5f8304a6"
      },
      "source": [
        "Fraction.from_float(0.5)"
      ],
      "execution_count": 15,
      "outputs": [
        {
          "output_type": "execute_result",
          "data": {
            "text/plain": [
              "Fraction(1, 2)"
            ]
          },
          "metadata": {
            "tags": []
          },
          "execution_count": 15
        }
      ]
    },
    {
      "cell_type": "code",
      "metadata": {
        "id": "k6ODfBVUe7rO",
        "colab_type": "code",
        "colab": {
          "base_uri": "https://localhost:8080/",
          "height": 34
        },
        "outputId": "57480898-c18e-4cd5-c7e7-1c86b527eb40"
      },
      "source": [
        "float(un_quart)"
      ],
      "execution_count": 16,
      "outputs": [
        {
          "output_type": "execute_result",
          "data": {
            "text/plain": [
              "0.25"
            ]
          },
          "metadata": {
            "tags": []
          },
          "execution_count": 16
        }
      ]
    },
    {
      "cell_type": "markdown",
      "metadata": {
        "id": "SuSRFMnvfCV9",
        "colab_type": "text"
      },
      "source": [
        "### Manipuler les fractions"
      ]
    },
    {
      "cell_type": "code",
      "metadata": {
        "id": "LpDzqK38e-ca",
        "colab_type": "code",
        "colab": {
          "base_uri": "https://localhost:8080/",
          "height": 34
        },
        "outputId": "d67a846c-aadc-4378-b8a9-e63b11201f08"
      },
      "source": [
        "un_dixieme = Fraction(1, 10)\n",
        "un_dixieme + un_dixieme + un_dixieme"
      ],
      "execution_count": 17,
      "outputs": [
        {
          "output_type": "execute_result",
          "data": {
            "text/plain": [
              "Fraction(3, 10)"
            ]
          },
          "metadata": {
            "tags": []
          },
          "execution_count": 17
        }
      ]
    },
    {
      "cell_type": "code",
      "metadata": {
        "id": "lWa1wBtMfP1f",
        "colab_type": "code",
        "colab": {
          "base_uri": "https://localhost:8080/",
          "height": 34
        },
        "outputId": "7d031c90-3027-4e9d-a07a-4659a027360e"
      },
      "source": [
        "0.1 + 0.1 + 0.1"
      ],
      "execution_count": 18,
      "outputs": [
        {
          "output_type": "execute_result",
          "data": {
            "text/plain": [
              "0.30000000000000004"
            ]
          },
          "metadata": {
            "tags": []
          },
          "execution_count": 18
        }
      ]
    },
    {
      "cell_type": "code",
      "metadata": {
        "id": "K7awdHj4fUqI",
        "colab_type": "code",
        "colab": {
          "base_uri": "https://localhost:8080/",
          "height": 34
        },
        "outputId": "e874ac26-8959-43a0-bceb-b41d16a8edb0"
      },
      "source": [
        "un_dixieme * un_quart"
      ],
      "execution_count": 19,
      "outputs": [
        {
          "output_type": "execute_result",
          "data": {
            "text/plain": [
              "Fraction(1, 40)"
            ]
          },
          "metadata": {
            "tags": []
          },
          "execution_count": 19
        }
      ]
    },
    {
      "cell_type": "code",
      "metadata": {
        "id": "p0GiAcxvfbHd",
        "colab_type": "code",
        "colab": {
          "base_uri": "https://localhost:8080/",
          "height": 34
        },
        "outputId": "6c790005-f727-43e3-ab39-d01e54a62d3e"
      },
      "source": [
        "un_dixieme + 5"
      ],
      "execution_count": 20,
      "outputs": [
        {
          "output_type": "execute_result",
          "data": {
            "text/plain": [
              "Fraction(51, 10)"
            ]
          },
          "metadata": {
            "tags": []
          },
          "execution_count": 20
        }
      ]
    },
    {
      "cell_type": "code",
      "metadata": {
        "id": "OJgSyM8Mfd5k",
        "colab_type": "code",
        "colab": {
          "base_uri": "https://localhost:8080/",
          "height": 34
        },
        "outputId": "dcc4ba19-aaed-487b-d3a9-faecfe94899d"
      },
      "source": [
        "un_demi / un_quart"
      ],
      "execution_count": 21,
      "outputs": [
        {
          "output_type": "execute_result",
          "data": {
            "text/plain": [
              "Fraction(2, 1)"
            ]
          },
          "metadata": {
            "tags": []
          },
          "execution_count": 21
        }
      ]
    },
    {
      "cell_type": "code",
      "metadata": {
        "id": "k8x7MyEUfhSI",
        "colab_type": "code",
        "colab": {
          "base_uri": "https://localhost:8080/",
          "height": 34
        },
        "outputId": "8afb7d90-97ab-4a1e-bbca-233e57c4cd01"
      },
      "source": [
        "un_quart / un_demi"
      ],
      "execution_count": 22,
      "outputs": [
        {
          "output_type": "execute_result",
          "data": {
            "text/plain": [
              "Fraction(1, 2)"
            ]
          },
          "metadata": {
            "tags": []
          },
          "execution_count": 22
        }
      ]
    },
    {
      "cell_type": "markdown",
      "metadata": {
        "id": "RZUTjbtuf0Jk",
        "colab_type": "text"
      },
      "source": [
        "## Du pseudo-aléatoire avec random"
      ]
    },
    {
      "cell_type": "markdown",
      "metadata": {
        "id": "PZ1974H7ijqB",
        "colab_type": "text"
      },
      "source": [
        "Le module ```random``` permet de générer des nombres pseudo-aléatoires."
      ]
    },
    {
      "cell_type": "code",
      "metadata": {
        "id": "wSMTyT_pfkdI",
        "colab_type": "code",
        "colab": {
          "base_uri": "https://localhost:8080/",
          "height": 34
        },
        "outputId": "e5fc78bd-5b19-4654-db74-57fc8c606e4d"
      },
      "source": [
        "import random\n",
        "random.random()"
      ],
      "execution_count": 23,
      "outputs": [
        {
          "output_type": "execute_result",
          "data": {
            "text/plain": [
              "0.9226163701019708"
            ]
          },
          "metadata": {
            "tags": []
          },
          "execution_count": 23
        }
      ]
    },
    {
      "cell_type": "markdown",
      "metadata": {
        "id": "H9sOFZ7VgQ8n",
        "colab_type": "text"
      },
      "source": [
        "### La fonction random"
      ]
    },
    {
      "cell_type": "code",
      "metadata": {
        "id": "_cfkny_KgbB1",
        "colab_type": "code",
        "colab": {
          "base_uri": "https://localhost:8080/",
          "height": 34
        },
        "outputId": "73dafd2d-ce8f-405d-b1f2-d711a51d42cf"
      },
      "source": [
        "random.randrange(5, 10, 2)"
      ],
      "execution_count": 25,
      "outputs": [
        {
          "output_type": "execute_result",
          "data": {
            "text/plain": [
              "7"
            ]
          },
          "metadata": {
            "tags": []
          },
          "execution_count": 25
        }
      ]
    },
    {
      "cell_type": "code",
      "metadata": {
        "id": "a3FWqqKDggDP",
        "colab_type": "code",
        "colab": {
          "base_uri": "https://localhost:8080/",
          "height": 34
        },
        "outputId": "fb4d7de4-5de3-4d91-d196-4857c1970150"
      },
      "source": [
        "random.randint(1, 6)"
      ],
      "execution_count": 26,
      "outputs": [
        {
          "output_type": "execute_result",
          "data": {
            "text/plain": [
              "3"
            ]
          },
          "metadata": {
            "tags": []
          },
          "execution_count": 26
        }
      ]
    },
    {
      "cell_type": "markdown",
      "metadata": {
        "id": "GLDcoHSsg016",
        "colab_type": "text"
      },
      "source": [
        "### Opérations sur des séquences"
      ]
    },
    {
      "cell_type": "markdown",
      "metadata": {
        "id": "3T-5q66OhM2L",
        "colab_type": "text"
      },
      "source": [
        "\n",
        "\n",
        "> #### SyntaxError: invalid syntax\n"
      ]
    },
    {
      "cell_type": "code",
      "metadata": {
        "id": "EqUszOaBgyJK",
        "colab_type": "code",
        "colab": {
          "base_uri": "https://localhost:8080/",
          "height": 128
        },
        "outputId": "dcfe95d5-3cd1-439f-853a-ca2e038be4d6"
      },
      "source": [
        "random.choice(['a', 'b', 'k, 'p', 'i', 'w', 'z'])"
      ],
      "execution_count": 27,
      "outputs": [
        {
          "output_type": "error",
          "ename": "SyntaxError",
          "evalue": "ignored",
          "traceback": [
            "\u001b[0;36m  File \u001b[0;32m\"<ipython-input-27-7259aab16d2d>\"\u001b[0;36m, line \u001b[0;32m1\u001b[0m\n\u001b[0;31m    random.choice(['a', 'b', 'k, 'p', 'i', 'w', 'z'])\u001b[0m\n\u001b[0m                                  ^\u001b[0m\n\u001b[0;31mSyntaxError\u001b[0m\u001b[0;31m:\u001b[0m invalid syntax\n"
          ]
        }
      ]
    },
    {
      "cell_type": "markdown",
      "metadata": {
        "id": "SiRNrTYhhTl-",
        "colab_type": "text"
      },
      "source": [
        "> #### End of SyntaxError"
      ]
    },
    {
      "cell_type": "code",
      "metadata": {
        "id": "jhuzT2LFhGjd",
        "colab_type": "code",
        "colab": {
          "base_uri": "https://localhost:8080/",
          "height": 34
        },
        "outputId": "7c25bd3f-c13a-4948-a0f5-59c6e5232f14"
      },
      "source": [
        "random.choice(['a', 'b', 'k', 'p', 'i', 'w', 'z'])"
      ],
      "execution_count": 28,
      "outputs": [
        {
          "output_type": "execute_result",
          "data": {
            "text/plain": [
              "'w'"
            ]
          },
          "metadata": {
            "tags": []
          },
          "execution_count": 28
        }
      ]
    },
    {
      "cell_type": "code",
      "metadata": {
        "id": "6CvcVInXhlRd",
        "colab_type": "code",
        "colab": {
          "base_uri": "https://localhost:8080/",
          "height": 34
        },
        "outputId": "060beb79-43e1-45b6-8a97-6f411b260456"
      },
      "source": [
        "liste = ['a', 'b', 'k', 'p', 'i', 'w', 'z']\n",
        "random.shuffle(liste)\n",
        "liste"
      ],
      "execution_count": 29,
      "outputs": [
        {
          "output_type": "execute_result",
          "data": {
            "text/plain": [
              "['p', 'a', 'b', 'z', 'i', 'k', 'w']"
            ]
          },
          "metadata": {
            "tags": []
          },
          "execution_count": 29
        }
      ]
    },
    {
      "cell_type": "code",
      "metadata": {
        "id": "oM5q4uCzhz10",
        "colab_type": "code",
        "colab": {}
      },
      "source": [
        ""
      ],
      "execution_count": 0,
      "outputs": []
    }
  ]
}